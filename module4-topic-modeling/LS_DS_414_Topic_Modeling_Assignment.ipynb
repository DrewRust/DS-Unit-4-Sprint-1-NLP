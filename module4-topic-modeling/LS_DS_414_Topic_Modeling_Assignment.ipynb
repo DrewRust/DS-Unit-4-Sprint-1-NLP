{
 "cells": [
  {
   "cell_type": "markdown",
   "metadata": {},
   "source": [
    "<img align=\"left\" src=\"https://lever-client-logos.s3.amazonaws.com/864372b1-534c-480e-acd5-9711f850815c-1524247202159.png\" width=200>\n",
    "<br></br>\n",
    "<br></br>\n",
    "\n",
    "# Topic Modeling\n",
    "## *Data Science Unit 4 Sprint 1 Assignment 4*\n",
    "\n",
    "Analyze a corpus of Amazon reviews from Unit 4 Sprint 1 Module 1's lecture using topic modeling: \n",
    "\n",
    "- Fit a Gensim LDA topic model on Amazon Reviews\n",
    "- Select appropriate number of topics\n",
    "- Create some dope visualization of the topics\n",
    "- Write a few bullets on your findings in markdown at the end\n",
    "- **Note**: You don't *have* to use generators for this assignment"
   ]
  },
  {
   "cell_type": "code",
   "execution_count": 1,
   "metadata": {},
   "outputs": [],
   "source": [
    "#Start Here\n",
    "import pandas as pd\n",
    "df = pd.read_csv('./data/Datafiniti_Amazon_Consumer_Reviews_of_Amazon_Products_May19.csv')"
   ]
  },
  {
   "cell_type": "code",
   "execution_count": 2,
   "metadata": {},
   "outputs": [
    {
     "data": {
      "text/html": [
       "<div>\n",
       "<style scoped>\n",
       "    .dataframe tbody tr th:only-of-type {\n",
       "        vertical-align: middle;\n",
       "    }\n",
       "\n",
       "    .dataframe tbody tr th {\n",
       "        vertical-align: top;\n",
       "    }\n",
       "\n",
       "    .dataframe thead th {\n",
       "        text-align: right;\n",
       "    }\n",
       "</style>\n",
       "<table border=\"1\" class=\"dataframe\">\n",
       "  <thead>\n",
       "    <tr style=\"text-align: right;\">\n",
       "      <th></th>\n",
       "      <th>id</th>\n",
       "      <th>dateAdded</th>\n",
       "      <th>dateUpdated</th>\n",
       "      <th>name</th>\n",
       "      <th>asins</th>\n",
       "      <th>brand</th>\n",
       "      <th>categories</th>\n",
       "      <th>primaryCategories</th>\n",
       "      <th>imageURLs</th>\n",
       "      <th>keys</th>\n",
       "      <th>...</th>\n",
       "      <th>reviews.didPurchase</th>\n",
       "      <th>reviews.doRecommend</th>\n",
       "      <th>reviews.id</th>\n",
       "      <th>reviews.numHelpful</th>\n",
       "      <th>reviews.rating</th>\n",
       "      <th>reviews.sourceURLs</th>\n",
       "      <th>reviews.text</th>\n",
       "      <th>reviews.title</th>\n",
       "      <th>reviews.username</th>\n",
       "      <th>sourceURLs</th>\n",
       "    </tr>\n",
       "  </thead>\n",
       "  <tbody>\n",
       "    <tr>\n",
       "      <th>0</th>\n",
       "      <td>AVpgNzjwLJeJML43Kpxn</td>\n",
       "      <td>2015-10-30T08:59:32Z</td>\n",
       "      <td>2019-04-25T09:08:16Z</td>\n",
       "      <td>AmazonBasics AAA Performance Alkaline Batterie...</td>\n",
       "      <td>B00QWO9P0O,B00LH3DMUO</td>\n",
       "      <td>Amazonbasics</td>\n",
       "      <td>AA,AAA,Health,Electronics,Health &amp; Household,C...</td>\n",
       "      <td>Health &amp; Beauty</td>\n",
       "      <td>https://images-na.ssl-images-amazon.com/images...</td>\n",
       "      <td>amazonbasics/hl002619,amazonbasicsaaaperforman...</td>\n",
       "      <td>...</td>\n",
       "      <td>NaN</td>\n",
       "      <td>NaN</td>\n",
       "      <td>NaN</td>\n",
       "      <td>NaN</td>\n",
       "      <td>3</td>\n",
       "      <td>https://www.amazon.com/product-reviews/B00QWO9...</td>\n",
       "      <td>I order 3 of them and one of the item is bad q...</td>\n",
       "      <td>... 3 of them and one of the item is bad quali...</td>\n",
       "      <td>Byger yang</td>\n",
       "      <td>https://www.barcodable.com/upc/841710106442,ht...</td>\n",
       "    </tr>\n",
       "    <tr>\n",
       "      <th>1</th>\n",
       "      <td>AVpgNzjwLJeJML43Kpxn</td>\n",
       "      <td>2015-10-30T08:59:32Z</td>\n",
       "      <td>2019-04-25T09:08:16Z</td>\n",
       "      <td>AmazonBasics AAA Performance Alkaline Batterie...</td>\n",
       "      <td>B00QWO9P0O,B00LH3DMUO</td>\n",
       "      <td>Amazonbasics</td>\n",
       "      <td>AA,AAA,Health,Electronics,Health &amp; Household,C...</td>\n",
       "      <td>Health &amp; Beauty</td>\n",
       "      <td>https://images-na.ssl-images-amazon.com/images...</td>\n",
       "      <td>amazonbasics/hl002619,amazonbasicsaaaperforman...</td>\n",
       "      <td>...</td>\n",
       "      <td>NaN</td>\n",
       "      <td>NaN</td>\n",
       "      <td>NaN</td>\n",
       "      <td>NaN</td>\n",
       "      <td>4</td>\n",
       "      <td>https://www.amazon.com/product-reviews/B00QWO9...</td>\n",
       "      <td>Bulk is always the less expensive way to go fo...</td>\n",
       "      <td>... always the less expensive way to go for pr...</td>\n",
       "      <td>ByMG</td>\n",
       "      <td>https://www.barcodable.com/upc/841710106442,ht...</td>\n",
       "    </tr>\n",
       "    <tr>\n",
       "      <th>2</th>\n",
       "      <td>AVpgNzjwLJeJML43Kpxn</td>\n",
       "      <td>2015-10-30T08:59:32Z</td>\n",
       "      <td>2019-04-25T09:08:16Z</td>\n",
       "      <td>AmazonBasics AAA Performance Alkaline Batterie...</td>\n",
       "      <td>B00QWO9P0O,B00LH3DMUO</td>\n",
       "      <td>Amazonbasics</td>\n",
       "      <td>AA,AAA,Health,Electronics,Health &amp; Household,C...</td>\n",
       "      <td>Health &amp; Beauty</td>\n",
       "      <td>https://images-na.ssl-images-amazon.com/images...</td>\n",
       "      <td>amazonbasics/hl002619,amazonbasicsaaaperforman...</td>\n",
       "      <td>...</td>\n",
       "      <td>NaN</td>\n",
       "      <td>NaN</td>\n",
       "      <td>NaN</td>\n",
       "      <td>NaN</td>\n",
       "      <td>5</td>\n",
       "      <td>https://www.amazon.com/product-reviews/B00QWO9...</td>\n",
       "      <td>Well they are not Duracell but for the price i...</td>\n",
       "      <td>... are not Duracell but for the price i am ha...</td>\n",
       "      <td>BySharon Lambert</td>\n",
       "      <td>https://www.barcodable.com/upc/841710106442,ht...</td>\n",
       "    </tr>\n",
       "  </tbody>\n",
       "</table>\n",
       "<p>3 rows × 24 columns</p>\n",
       "</div>"
      ],
      "text/plain": [
       "                     id             dateAdded           dateUpdated  \\\n",
       "0  AVpgNzjwLJeJML43Kpxn  2015-10-30T08:59:32Z  2019-04-25T09:08:16Z   \n",
       "1  AVpgNzjwLJeJML43Kpxn  2015-10-30T08:59:32Z  2019-04-25T09:08:16Z   \n",
       "2  AVpgNzjwLJeJML43Kpxn  2015-10-30T08:59:32Z  2019-04-25T09:08:16Z   \n",
       "\n",
       "                                                name                  asins  \\\n",
       "0  AmazonBasics AAA Performance Alkaline Batterie...  B00QWO9P0O,B00LH3DMUO   \n",
       "1  AmazonBasics AAA Performance Alkaline Batterie...  B00QWO9P0O,B00LH3DMUO   \n",
       "2  AmazonBasics AAA Performance Alkaline Batterie...  B00QWO9P0O,B00LH3DMUO   \n",
       "\n",
       "          brand                                         categories  \\\n",
       "0  Amazonbasics  AA,AAA,Health,Electronics,Health & Household,C...   \n",
       "1  Amazonbasics  AA,AAA,Health,Electronics,Health & Household,C...   \n",
       "2  Amazonbasics  AA,AAA,Health,Electronics,Health & Household,C...   \n",
       "\n",
       "  primaryCategories                                          imageURLs  \\\n",
       "0   Health & Beauty  https://images-na.ssl-images-amazon.com/images...   \n",
       "1   Health & Beauty  https://images-na.ssl-images-amazon.com/images...   \n",
       "2   Health & Beauty  https://images-na.ssl-images-amazon.com/images...   \n",
       "\n",
       "                                                keys  ... reviews.didPurchase  \\\n",
       "0  amazonbasics/hl002619,amazonbasicsaaaperforman...  ...                 NaN   \n",
       "1  amazonbasics/hl002619,amazonbasicsaaaperforman...  ...                 NaN   \n",
       "2  amazonbasics/hl002619,amazonbasicsaaaperforman...  ...                 NaN   \n",
       "\n",
       "  reviews.doRecommend reviews.id reviews.numHelpful reviews.rating  \\\n",
       "0                 NaN        NaN                NaN              3   \n",
       "1                 NaN        NaN                NaN              4   \n",
       "2                 NaN        NaN                NaN              5   \n",
       "\n",
       "                                  reviews.sourceURLs  \\\n",
       "0  https://www.amazon.com/product-reviews/B00QWO9...   \n",
       "1  https://www.amazon.com/product-reviews/B00QWO9...   \n",
       "2  https://www.amazon.com/product-reviews/B00QWO9...   \n",
       "\n",
       "                                        reviews.text  \\\n",
       "0  I order 3 of them and one of the item is bad q...   \n",
       "1  Bulk is always the less expensive way to go fo...   \n",
       "2  Well they are not Duracell but for the price i...   \n",
       "\n",
       "                                       reviews.title  reviews.username  \\\n",
       "0  ... 3 of them and one of the item is bad quali...        Byger yang   \n",
       "1  ... always the less expensive way to go for pr...              ByMG   \n",
       "2  ... are not Duracell but for the price i am ha...  BySharon Lambert   \n",
       "\n",
       "                                          sourceURLs  \n",
       "0  https://www.barcodable.com/upc/841710106442,ht...  \n",
       "1  https://www.barcodable.com/upc/841710106442,ht...  \n",
       "2  https://www.barcodable.com/upc/841710106442,ht...  \n",
       "\n",
       "[3 rows x 24 columns]"
      ]
     },
     "execution_count": 2,
     "metadata": {},
     "output_type": "execute_result"
    }
   ],
   "source": [
    "df.head(3)"
   ]
  },
  {
   "cell_type": "code",
   "execution_count": 30,
   "metadata": {},
   "outputs": [
    {
     "name": "stderr",
     "output_type": "stream",
     "text": [
      "/Users/andrewrust/opt/anaconda3/envs/U4-S1-NLP/lib/python3.7/site-packages/ipykernel/ipkernel.py:287: DeprecationWarning: `should_run_async` will not call `transform_cell` automatically in the future. Please pass the result to `transformed_cell` argument and any exception that happen during thetransform in `preprocessing_exc_tuple` in IPython 7.17 and above.\n",
      "  and should_run_async(code)\n"
     ]
    },
    {
     "data": {
      "text/plain": [
       "array(['Health & Beauty', 'Electronics', 'Office Supplies',\n",
       "       'Animals & Pet Supplies', 'Home & Garden', 'Electronics,Furniture',\n",
       "       'Toys & Games,Electronics', 'Electronics,Media',\n",
       "       'Office Supplies,Electronics'], dtype=object)"
      ]
     },
     "execution_count": 30,
     "metadata": {},
     "output_type": "execute_result"
    }
   ],
   "source": [
    "df['primaryCategories'].unique()"
   ]
  },
  {
   "cell_type": "code",
   "execution_count": 3,
   "metadata": {},
   "outputs": [],
   "source": [
    "import warnings\n",
    "warnings.filterwarnings(\"ignore\")"
   ]
  },
  {
   "cell_type": "code",
   "execution_count": 4,
   "metadata": {},
   "outputs": [],
   "source": [
    "from sklearn.ensemble import RandomForestClassifier\n",
    "from sklearn.model_selection import GridSearchCV\n",
    "from sklearn.feature_extraction.text import TfidfVectorizer"
   ]
  },
  {
   "cell_type": "code",
   "execution_count": 5,
   "metadata": {},
   "outputs": [
    {
     "data": {
      "text/plain": [
       "Index(['id', 'dateAdded', 'dateUpdated', 'name', 'asins', 'brand',\n",
       "       'categories', 'primaryCategories', 'imageURLs', 'keys', 'manufacturer',\n",
       "       'manufacturerNumber', 'reviews.date', 'reviews.dateSeen',\n",
       "       'reviews.didPurchase', 'reviews.doRecommend', 'reviews.id',\n",
       "       'reviews.numHelpful', 'reviews.rating', 'reviews.sourceURLs',\n",
       "       'reviews.text', 'reviews.title', 'reviews.username', 'sourceURLs'],\n",
       "      dtype='object')"
      ]
     },
     "execution_count": 5,
     "metadata": {},
     "output_type": "execute_result"
    }
   ],
   "source": [
    "df.keys()"
   ]
  },
  {
   "cell_type": "code",
   "execution_count": 6,
   "metadata": {},
   "outputs": [
    {
     "name": "stdout",
     "output_type": "stream",
     "text": [
      "\u001b[38;5;2m✔ Download and installation successful\u001b[0m\n",
      "You can now load the model via spacy.load('en_core_web_lg')\n"
     ]
    }
   ],
   "source": [
    "# Download spacy model\n",
    "import spacy.cli\n",
    "spacy.cli.download(\"en_core_web_lg\")"
   ]
  },
  {
   "cell_type": "code",
   "execution_count": 7,
   "metadata": {},
   "outputs": [],
   "source": [
    "import re\n",
    "import numpy as np\n",
    "import pandas as pd\n",
    "from pprint import pprint\n",
    "\n",
    "import gensim\n",
    "import gensim.corpora as corpora\n",
    "from gensim.utils import simple_preprocess\n",
    "from gensim.models import CoherenceModel\n",
    "\n",
    "import spacy\n",
    "\n",
    "import pyLDAvis\n",
    "import pyLDAvis.gensim \n",
    "import matplotlib.pyplot as plt\n",
    "%matplotlib inline"
   ]
  },
  {
   "cell_type": "code",
   "execution_count": 8,
   "metadata": {},
   "outputs": [
    {
     "name": "stderr",
     "output_type": "stream",
     "text": [
      "/Users/andrewrust/opt/anaconda3/envs/U4-S1-NLP/lib/python3.7/site-packages/ipykernel/ipkernel.py:287: DeprecationWarning: `should_run_async` will not call `transform_cell` automatically in the future. Please pass the result to `transformed_cell` argument and any exception that happen during thetransform in `preprocessing_exc_tuple` in IPython 7.17 and above.\n",
      "  and should_run_async(code)\n"
     ]
    }
   ],
   "source": [
    "health_beauty = df.loc[df['primaryCategories'] == 'Health & Beauty']"
   ]
  },
  {
   "cell_type": "code",
   "execution_count": 9,
   "metadata": {},
   "outputs": [
    {
     "name": "stderr",
     "output_type": "stream",
     "text": [
      "/Users/andrewrust/opt/anaconda3/envs/U4-S1-NLP/lib/python3.7/site-packages/ipykernel/ipkernel.py:287: DeprecationWarning: `should_run_async` will not call `transform_cell` automatically in the future. Please pass the result to `transformed_cell` argument and any exception that happen during thetransform in `preprocessing_exc_tuple` in IPython 7.17 and above.\n",
      "  and should_run_async(code)\n"
     ]
    },
    {
     "data": {
      "text/html": [
       "<div>\n",
       "<style scoped>\n",
       "    .dataframe tbody tr th:only-of-type {\n",
       "        vertical-align: middle;\n",
       "    }\n",
       "\n",
       "    .dataframe tbody tr th {\n",
       "        vertical-align: top;\n",
       "    }\n",
       "\n",
       "    .dataframe thead th {\n",
       "        text-align: right;\n",
       "    }\n",
       "</style>\n",
       "<table border=\"1\" class=\"dataframe\">\n",
       "  <thead>\n",
       "    <tr style=\"text-align: right;\">\n",
       "      <th></th>\n",
       "      <th>id</th>\n",
       "      <th>dateAdded</th>\n",
       "      <th>dateUpdated</th>\n",
       "      <th>name</th>\n",
       "      <th>asins</th>\n",
       "      <th>brand</th>\n",
       "      <th>categories</th>\n",
       "      <th>primaryCategories</th>\n",
       "      <th>imageURLs</th>\n",
       "      <th>keys</th>\n",
       "      <th>...</th>\n",
       "      <th>reviews.didPurchase</th>\n",
       "      <th>reviews.doRecommend</th>\n",
       "      <th>reviews.id</th>\n",
       "      <th>reviews.numHelpful</th>\n",
       "      <th>reviews.rating</th>\n",
       "      <th>reviews.sourceURLs</th>\n",
       "      <th>reviews.text</th>\n",
       "      <th>reviews.title</th>\n",
       "      <th>reviews.username</th>\n",
       "      <th>sourceURLs</th>\n",
       "    </tr>\n",
       "  </thead>\n",
       "  <tbody>\n",
       "    <tr>\n",
       "      <th>0</th>\n",
       "      <td>AVpgNzjwLJeJML43Kpxn</td>\n",
       "      <td>2015-10-30T08:59:32Z</td>\n",
       "      <td>2019-04-25T09:08:16Z</td>\n",
       "      <td>AmazonBasics AAA Performance Alkaline Batterie...</td>\n",
       "      <td>B00QWO9P0O,B00LH3DMUO</td>\n",
       "      <td>Amazonbasics</td>\n",
       "      <td>AA,AAA,Health,Electronics,Health &amp; Household,C...</td>\n",
       "      <td>Health &amp; Beauty</td>\n",
       "      <td>https://images-na.ssl-images-amazon.com/images...</td>\n",
       "      <td>amazonbasics/hl002619,amazonbasicsaaaperforman...</td>\n",
       "      <td>...</td>\n",
       "      <td>NaN</td>\n",
       "      <td>NaN</td>\n",
       "      <td>NaN</td>\n",
       "      <td>NaN</td>\n",
       "      <td>3</td>\n",
       "      <td>https://www.amazon.com/product-reviews/B00QWO9...</td>\n",
       "      <td>I order 3 of them and one of the item is bad q...</td>\n",
       "      <td>... 3 of them and one of the item is bad quali...</td>\n",
       "      <td>Byger yang</td>\n",
       "      <td>https://www.barcodable.com/upc/841710106442,ht...</td>\n",
       "    </tr>\n",
       "    <tr>\n",
       "      <th>1</th>\n",
       "      <td>AVpgNzjwLJeJML43Kpxn</td>\n",
       "      <td>2015-10-30T08:59:32Z</td>\n",
       "      <td>2019-04-25T09:08:16Z</td>\n",
       "      <td>AmazonBasics AAA Performance Alkaline Batterie...</td>\n",
       "      <td>B00QWO9P0O,B00LH3DMUO</td>\n",
       "      <td>Amazonbasics</td>\n",
       "      <td>AA,AAA,Health,Electronics,Health &amp; Household,C...</td>\n",
       "      <td>Health &amp; Beauty</td>\n",
       "      <td>https://images-na.ssl-images-amazon.com/images...</td>\n",
       "      <td>amazonbasics/hl002619,amazonbasicsaaaperforman...</td>\n",
       "      <td>...</td>\n",
       "      <td>NaN</td>\n",
       "      <td>NaN</td>\n",
       "      <td>NaN</td>\n",
       "      <td>NaN</td>\n",
       "      <td>4</td>\n",
       "      <td>https://www.amazon.com/product-reviews/B00QWO9...</td>\n",
       "      <td>Bulk is always the less expensive way to go fo...</td>\n",
       "      <td>... always the less expensive way to go for pr...</td>\n",
       "      <td>ByMG</td>\n",
       "      <td>https://www.barcodable.com/upc/841710106442,ht...</td>\n",
       "    </tr>\n",
       "    <tr>\n",
       "      <th>2</th>\n",
       "      <td>AVpgNzjwLJeJML43Kpxn</td>\n",
       "      <td>2015-10-30T08:59:32Z</td>\n",
       "      <td>2019-04-25T09:08:16Z</td>\n",
       "      <td>AmazonBasics AAA Performance Alkaline Batterie...</td>\n",
       "      <td>B00QWO9P0O,B00LH3DMUO</td>\n",
       "      <td>Amazonbasics</td>\n",
       "      <td>AA,AAA,Health,Electronics,Health &amp; Household,C...</td>\n",
       "      <td>Health &amp; Beauty</td>\n",
       "      <td>https://images-na.ssl-images-amazon.com/images...</td>\n",
       "      <td>amazonbasics/hl002619,amazonbasicsaaaperforman...</td>\n",
       "      <td>...</td>\n",
       "      <td>NaN</td>\n",
       "      <td>NaN</td>\n",
       "      <td>NaN</td>\n",
       "      <td>NaN</td>\n",
       "      <td>5</td>\n",
       "      <td>https://www.amazon.com/product-reviews/B00QWO9...</td>\n",
       "      <td>Well they are not Duracell but for the price i...</td>\n",
       "      <td>... are not Duracell but for the price i am ha...</td>\n",
       "      <td>BySharon Lambert</td>\n",
       "      <td>https://www.barcodable.com/upc/841710106442,ht...</td>\n",
       "    </tr>\n",
       "    <tr>\n",
       "      <th>3</th>\n",
       "      <td>AVpgNzjwLJeJML43Kpxn</td>\n",
       "      <td>2015-10-30T08:59:32Z</td>\n",
       "      <td>2019-04-25T09:08:16Z</td>\n",
       "      <td>AmazonBasics AAA Performance Alkaline Batterie...</td>\n",
       "      <td>B00QWO9P0O,B00LH3DMUO</td>\n",
       "      <td>Amazonbasics</td>\n",
       "      <td>AA,AAA,Health,Electronics,Health &amp; Household,C...</td>\n",
       "      <td>Health &amp; Beauty</td>\n",
       "      <td>https://images-na.ssl-images-amazon.com/images...</td>\n",
       "      <td>amazonbasics/hl002619,amazonbasicsaaaperforman...</td>\n",
       "      <td>...</td>\n",
       "      <td>NaN</td>\n",
       "      <td>NaN</td>\n",
       "      <td>NaN</td>\n",
       "      <td>NaN</td>\n",
       "      <td>5</td>\n",
       "      <td>https://www.amazon.com/product-reviews/B00QWO9...</td>\n",
       "      <td>Seem to work as well as name brand batteries a...</td>\n",
       "      <td>... as well as name brand batteries at a much ...</td>\n",
       "      <td>Bymark sexson</td>\n",
       "      <td>https://www.barcodable.com/upc/841710106442,ht...</td>\n",
       "    </tr>\n",
       "    <tr>\n",
       "      <th>4</th>\n",
       "      <td>AVpgNzjwLJeJML43Kpxn</td>\n",
       "      <td>2015-10-30T08:59:32Z</td>\n",
       "      <td>2019-04-25T09:08:16Z</td>\n",
       "      <td>AmazonBasics AAA Performance Alkaline Batterie...</td>\n",
       "      <td>B00QWO9P0O,B00LH3DMUO</td>\n",
       "      <td>Amazonbasics</td>\n",
       "      <td>AA,AAA,Health,Electronics,Health &amp; Household,C...</td>\n",
       "      <td>Health &amp; Beauty</td>\n",
       "      <td>https://images-na.ssl-images-amazon.com/images...</td>\n",
       "      <td>amazonbasics/hl002619,amazonbasicsaaaperforman...</td>\n",
       "      <td>...</td>\n",
       "      <td>NaN</td>\n",
       "      <td>NaN</td>\n",
       "      <td>NaN</td>\n",
       "      <td>NaN</td>\n",
       "      <td>5</td>\n",
       "      <td>https://www.amazon.com/product-reviews/B00QWO9...</td>\n",
       "      <td>These batteries are very long lasting the pric...</td>\n",
       "      <td>... batteries are very long lasting the price ...</td>\n",
       "      <td>Bylinda</td>\n",
       "      <td>https://www.barcodable.com/upc/841710106442,ht...</td>\n",
       "    </tr>\n",
       "  </tbody>\n",
       "</table>\n",
       "<p>5 rows × 24 columns</p>\n",
       "</div>"
      ],
      "text/plain": [
       "                     id             dateAdded           dateUpdated  \\\n",
       "0  AVpgNzjwLJeJML43Kpxn  2015-10-30T08:59:32Z  2019-04-25T09:08:16Z   \n",
       "1  AVpgNzjwLJeJML43Kpxn  2015-10-30T08:59:32Z  2019-04-25T09:08:16Z   \n",
       "2  AVpgNzjwLJeJML43Kpxn  2015-10-30T08:59:32Z  2019-04-25T09:08:16Z   \n",
       "3  AVpgNzjwLJeJML43Kpxn  2015-10-30T08:59:32Z  2019-04-25T09:08:16Z   \n",
       "4  AVpgNzjwLJeJML43Kpxn  2015-10-30T08:59:32Z  2019-04-25T09:08:16Z   \n",
       "\n",
       "                                                name                  asins  \\\n",
       "0  AmazonBasics AAA Performance Alkaline Batterie...  B00QWO9P0O,B00LH3DMUO   \n",
       "1  AmazonBasics AAA Performance Alkaline Batterie...  B00QWO9P0O,B00LH3DMUO   \n",
       "2  AmazonBasics AAA Performance Alkaline Batterie...  B00QWO9P0O,B00LH3DMUO   \n",
       "3  AmazonBasics AAA Performance Alkaline Batterie...  B00QWO9P0O,B00LH3DMUO   \n",
       "4  AmazonBasics AAA Performance Alkaline Batterie...  B00QWO9P0O,B00LH3DMUO   \n",
       "\n",
       "          brand                                         categories  \\\n",
       "0  Amazonbasics  AA,AAA,Health,Electronics,Health & Household,C...   \n",
       "1  Amazonbasics  AA,AAA,Health,Electronics,Health & Household,C...   \n",
       "2  Amazonbasics  AA,AAA,Health,Electronics,Health & Household,C...   \n",
       "3  Amazonbasics  AA,AAA,Health,Electronics,Health & Household,C...   \n",
       "4  Amazonbasics  AA,AAA,Health,Electronics,Health & Household,C...   \n",
       "\n",
       "  primaryCategories                                          imageURLs  \\\n",
       "0   Health & Beauty  https://images-na.ssl-images-amazon.com/images...   \n",
       "1   Health & Beauty  https://images-na.ssl-images-amazon.com/images...   \n",
       "2   Health & Beauty  https://images-na.ssl-images-amazon.com/images...   \n",
       "3   Health & Beauty  https://images-na.ssl-images-amazon.com/images...   \n",
       "4   Health & Beauty  https://images-na.ssl-images-amazon.com/images...   \n",
       "\n",
       "                                                keys  ... reviews.didPurchase  \\\n",
       "0  amazonbasics/hl002619,amazonbasicsaaaperforman...  ...                 NaN   \n",
       "1  amazonbasics/hl002619,amazonbasicsaaaperforman...  ...                 NaN   \n",
       "2  amazonbasics/hl002619,amazonbasicsaaaperforman...  ...                 NaN   \n",
       "3  amazonbasics/hl002619,amazonbasicsaaaperforman...  ...                 NaN   \n",
       "4  amazonbasics/hl002619,amazonbasicsaaaperforman...  ...                 NaN   \n",
       "\n",
       "  reviews.doRecommend reviews.id reviews.numHelpful reviews.rating  \\\n",
       "0                 NaN        NaN                NaN              3   \n",
       "1                 NaN        NaN                NaN              4   \n",
       "2                 NaN        NaN                NaN              5   \n",
       "3                 NaN        NaN                NaN              5   \n",
       "4                 NaN        NaN                NaN              5   \n",
       "\n",
       "                                  reviews.sourceURLs  \\\n",
       "0  https://www.amazon.com/product-reviews/B00QWO9...   \n",
       "1  https://www.amazon.com/product-reviews/B00QWO9...   \n",
       "2  https://www.amazon.com/product-reviews/B00QWO9...   \n",
       "3  https://www.amazon.com/product-reviews/B00QWO9...   \n",
       "4  https://www.amazon.com/product-reviews/B00QWO9...   \n",
       "\n",
       "                                        reviews.text  \\\n",
       "0  I order 3 of them and one of the item is bad q...   \n",
       "1  Bulk is always the less expensive way to go fo...   \n",
       "2  Well they are not Duracell but for the price i...   \n",
       "3  Seem to work as well as name brand batteries a...   \n",
       "4  These batteries are very long lasting the pric...   \n",
       "\n",
       "                                       reviews.title  reviews.username  \\\n",
       "0  ... 3 of them and one of the item is bad quali...        Byger yang   \n",
       "1  ... always the less expensive way to go for pr...              ByMG   \n",
       "2  ... are not Duracell but for the price i am ha...  BySharon Lambert   \n",
       "3  ... as well as name brand batteries at a much ...     Bymark sexson   \n",
       "4  ... batteries are very long lasting the price ...           Bylinda   \n",
       "\n",
       "                                          sourceURLs  \n",
       "0  https://www.barcodable.com/upc/841710106442,ht...  \n",
       "1  https://www.barcodable.com/upc/841710106442,ht...  \n",
       "2  https://www.barcodable.com/upc/841710106442,ht...  \n",
       "3  https://www.barcodable.com/upc/841710106442,ht...  \n",
       "4  https://www.barcodable.com/upc/841710106442,ht...  \n",
       "\n",
       "[5 rows x 24 columns]"
      ]
     },
     "execution_count": 9,
     "metadata": {},
     "output_type": "execute_result"
    }
   ],
   "source": [
    "health_beauty.head()"
   ]
  },
  {
   "cell_type": "code",
   "execution_count": 10,
   "metadata": {},
   "outputs": [
    {
     "name": "stderr",
     "output_type": "stream",
     "text": [
      "/Users/andrewrust/opt/anaconda3/envs/U4-S1-NLP/lib/python3.7/site-packages/ipykernel/ipkernel.py:287: DeprecationWarning: `should_run_async` will not call `transform_cell` automatically in the future. Please pass the result to `transformed_cell` argument and any exception that happen during thetransform in `preprocessing_exc_tuple` in IPython 7.17 and above.\n",
      "  and should_run_async(code)\n"
     ]
    },
    {
     "data": {
      "text/plain": [
       "28332"
      ]
     },
     "execution_count": 10,
     "metadata": {},
     "output_type": "execute_result"
    }
   ],
   "source": [
    "len(df['primaryCategories'])"
   ]
  },
  {
   "cell_type": "code",
   "execution_count": 11,
   "metadata": {},
   "outputs": [
    {
     "name": "stderr",
     "output_type": "stream",
     "text": [
      "/Users/andrewrust/opt/anaconda3/envs/U4-S1-NLP/lib/python3.7/site-packages/ipykernel/ipkernel.py:287: DeprecationWarning: `should_run_async` will not call `transform_cell` automatically in the future. Please pass the result to `transformed_cell` argument and any exception that happen during thetransform in `preprocessing_exc_tuple` in IPython 7.17 and above.\n",
      "  and should_run_async(code)\n"
     ]
    },
    {
     "data": {
      "text/plain": [
       "12071"
      ]
     },
     "execution_count": 11,
     "metadata": {},
     "output_type": "execute_result"
    }
   ],
   "source": [
    "len(health_beauty['primaryCategories'])"
   ]
  },
  {
   "cell_type": "code",
   "execution_count": 12,
   "metadata": {},
   "outputs": [
    {
     "name": "stderr",
     "output_type": "stream",
     "text": [
      "/Users/andrewrust/opt/anaconda3/envs/U4-S1-NLP/lib/python3.7/site-packages/ipykernel/ipkernel.py:287: DeprecationWarning: `should_run_async` will not call `transform_cell` automatically in the future. Please pass the result to `transformed_cell` argument and any exception that happen during thetransform in `preprocessing_exc_tuple` in IPython 7.17 and above.\n",
      "  and should_run_async(code)\n"
     ]
    },
    {
     "data": {
      "text/plain": [
       "(12071, 24)"
      ]
     },
     "execution_count": 12,
     "metadata": {},
     "output_type": "execute_result"
    }
   ],
   "source": [
    "health_beauty.shape"
   ]
  },
  {
   "cell_type": "code",
   "execution_count": 13,
   "metadata": {},
   "outputs": [
    {
     "name": "stderr",
     "output_type": "stream",
     "text": [
      "/Users/andrewrust/opt/anaconda3/envs/U4-S1-NLP/lib/python3.7/site-packages/ipykernel/ipkernel.py:287: DeprecationWarning: `should_run_async` will not call `transform_cell` automatically in the future. Please pass the result to `transformed_cell` argument and any exception that happen during thetransform in `preprocessing_exc_tuple` in IPython 7.17 and above.\n",
      "  and should_run_async(code)\n"
     ]
    },
    {
     "data": {
      "text/plain": [
       "(28332, 24)"
      ]
     },
     "execution_count": 13,
     "metadata": {},
     "output_type": "execute_result"
    }
   ],
   "source": [
    "df.shape"
   ]
  },
  {
   "cell_type": "code",
   "execution_count": 14,
   "metadata": {},
   "outputs": [
    {
     "name": "stderr",
     "output_type": "stream",
     "text": [
      "/Users/andrewrust/opt/anaconda3/envs/U4-S1-NLP/lib/python3.7/site-packages/ipykernel/ipkernel.py:287: DeprecationWarning: `should_run_async` will not call `transform_cell` automatically in the future. Please pass the result to `transformed_cell` argument and any exception that happen during thetransform in `preprocessing_exc_tuple` in IPython 7.17 and above.\n",
      "  and should_run_async(code)\n"
     ]
    },
    {
     "data": {
      "text/plain": [
       "'I order 3 of them and one of the item is bad quality. Is missing backup spring so I have to put a pcs of aluminum to make the battery work.'"
      ]
     },
     "execution_count": 14,
     "metadata": {},
     "output_type": "execute_result"
    }
   ],
   "source": [
    "health_beauty['reviews.text'][0]"
   ]
  },
  {
   "cell_type": "code",
   "execution_count": 15,
   "metadata": {},
   "outputs": [
    {
     "name": "stderr",
     "output_type": "stream",
     "text": [
      "/Users/andrewrust/opt/anaconda3/envs/U4-S1-NLP/lib/python3.7/site-packages/ipykernel/ipkernel.py:287: DeprecationWarning: `should_run_async` will not call `transform_cell` automatically in the future. Please pass the result to `transformed_cell` argument and any exception that happen during thetransform in `preprocessing_exc_tuple` in IPython 7.17 and above.\n",
      "  and should_run_async(code)\n"
     ]
    },
    {
     "data": {
      "text/plain": [
       "0        I order 3 of them and one of the item is bad q...\n",
       "1        Bulk is always the less expensive way to go fo...\n",
       "2        Well they are not Duracell but for the price i...\n",
       "3        Seem to work as well as name brand batteries a...\n",
       "4        These batteries are very long lasting the pric...\n",
       "                               ...                        \n",
       "12081    They are batteries and as such work just as ex...\n",
       "12082                                                 Yup!\n",
       "12083                                      Yup. Batteries.\n",
       "12084                           Yup. Batteries. They work.\n",
       "12085    I ordered this car for my son not really knowi...\n",
       "Name: reviews.text, Length: 12071, dtype: object"
      ]
     },
     "execution_count": 15,
     "metadata": {},
     "output_type": "execute_result"
    }
   ],
   "source": [
    "health_beauty['reviews.text']"
   ]
  },
  {
   "cell_type": "code",
   "execution_count": 16,
   "metadata": {},
   "outputs": [
    {
     "name": "stdout",
     "output_type": "stream",
     "text": [
      "INFO: Pandarallel will run on 8 workers.\n",
      "INFO: Pandarallel will use standard multiprocessing data transfer (pipe) to transfer data between the main process and workers.\n"
     ]
    },
    {
     "name": "stderr",
     "output_type": "stream",
     "text": [
      "/Users/andrewrust/opt/anaconda3/envs/U4-S1-NLP/lib/python3.7/site-packages/ipykernel/ipkernel.py:287: DeprecationWarning: `should_run_async` will not call `transform_cell` automatically in the future. Please pass the result to `transformed_cell` argument and any exception that happen during thetransform in `preprocessing_exc_tuple` in IPython 7.17 and above.\n",
      "  and should_run_async(code)\n"
     ]
    }
   ],
   "source": [
    "from pandarallel import pandarallel\n",
    "pandarallel.initialize(progress_bar=True)"
   ]
  },
  {
   "cell_type": "code",
   "execution_count": 17,
   "metadata": {},
   "outputs": [
    {
     "name": "stderr",
     "output_type": "stream",
     "text": [
      "/Users/andrewrust/opt/anaconda3/envs/U4-S1-NLP/lib/python3.7/site-packages/ipykernel/ipkernel.py:287: DeprecationWarning: `should_run_async` will not call `transform_cell` automatically in the future. Please pass the result to `transformed_cell` argument and any exception that happen during thetransform in `preprocessing_exc_tuple` in IPython 7.17 and above.\n",
      "  and should_run_async(code)\n"
     ]
    }
   ],
   "source": [
    "nlp = spacy.load(\"en_core_web_lg\")"
   ]
  },
  {
   "cell_type": "code",
   "execution_count": 18,
   "metadata": {},
   "outputs": [
    {
     "name": "stderr",
     "output_type": "stream",
     "text": [
      "/Users/andrewrust/opt/anaconda3/envs/U4-S1-NLP/lib/python3.7/site-packages/ipykernel/ipkernel.py:287: DeprecationWarning: `should_run_async` will not call `transform_cell` automatically in the future. Please pass the result to `transformed_cell` argument and any exception that happen during thetransform in `preprocessing_exc_tuple` in IPython 7.17 and above.\n",
      "  and should_run_async(code)\n"
     ]
    }
   ],
   "source": [
    "def get_lemmas(x):\n",
    "    lemmas = []\n",
    "    for token in nlp(x):\n",
    "        if (token.is_stop!=True) and (token.is_punct!=True):\n",
    "            lemmas.append(token.lemma_)\n",
    "    return lemmas"
   ]
  },
  {
   "cell_type": "code",
   "execution_count": 19,
   "metadata": {},
   "outputs": [
    {
     "name": "stderr",
     "output_type": "stream",
     "text": [
      "/Users/andrewrust/opt/anaconda3/envs/U4-S1-NLP/lib/python3.7/site-packages/ipykernel/ipkernel.py:287: DeprecationWarning: `should_run_async` will not call `transform_cell` automatically in the future. Please pass the result to `transformed_cell` argument and any exception that happen during thetransform in `preprocessing_exc_tuple` in IPython 7.17 and above.\n",
      "  and should_run_async(code)\n"
     ]
    },
    {
     "data": {
      "application/vnd.jupyter.widget-view+json": {
       "model_id": "30b51a0618c849d6837c3ef27069a0ee",
       "version_major": 2,
       "version_minor": 0
      },
      "text/plain": [
       "VBox(children=(HBox(children=(IntProgress(value=0, description='0.00%', max=1509), Label(value='0 / 1509'))), …"
      ]
     },
     "metadata": {},
     "output_type": "display_data"
    }
   ],
   "source": [
    "# Create 'lemmas' column\n",
    "health_beauty['lemmas'] = health_beauty['reviews.text'].parallel_apply(get_lemmas)"
   ]
  },
  {
   "cell_type": "code",
   "execution_count": 20,
   "metadata": {},
   "outputs": [
    {
     "name": "stderr",
     "output_type": "stream",
     "text": [
      "/Users/andrewrust/opt/anaconda3/envs/U4-S1-NLP/lib/python3.7/site-packages/ipykernel/ipkernel.py:287: DeprecationWarning: `should_run_async` will not call `transform_cell` automatically in the future. Please pass the result to `transformed_cell` argument and any exception that happen during thetransform in `preprocessing_exc_tuple` in IPython 7.17 and above.\n",
      "  and should_run_async(code)\n"
     ]
    },
    {
     "data": {
      "text/plain": [
       "['teacher',\n",
       " 'need',\n",
       " 'ton',\n",
       " 'battery',\n",
       " 'refuse',\n",
       " 'spend',\n",
       " 'excessive',\n",
       " 'amount',\n",
       " 'figure',\n",
       " 'good',\n",
       " 'option',\n",
       " 'long',\n",
       " 'last',\n",
       " 'worth',\n",
       " 'money',\n",
       " 'cute',\n",
       " 'matter',\n",
       " 'lol',\n",
       " 'will',\n",
       " 'find',\n",
       " 'deal',\n",
       " 'like',\n",
       " 'stores!I',\n",
       " 'highly',\n",
       " 'recommend']"
      ]
     },
     "execution_count": 20,
     "metadata": {},
     "output_type": "execute_result"
    }
   ],
   "source": [
    "health_beauty['lemmas'].iloc[100]"
   ]
  },
  {
   "cell_type": "code",
   "execution_count": 21,
   "metadata": {},
   "outputs": [
    {
     "name": "stderr",
     "output_type": "stream",
     "text": [
      "/Users/andrewrust/opt/anaconda3/envs/U4-S1-NLP/lib/python3.7/site-packages/ipykernel/ipkernel.py:287: DeprecationWarning: `should_run_async` will not call `transform_cell` automatically in the future. Please pass the result to `transformed_cell` argument and any exception that happen during thetransform in `preprocessing_exc_tuple` in IPython 7.17 and above.\n",
      "  and should_run_async(code)\n"
     ]
    }
   ],
   "source": [
    "# Create Dictionary\n",
    "id2word = corpora.Dictionary(health_beauty['lemmas'])\n",
    "\n",
    "# Term Document Frequency\n",
    "corpus = [id2word.doc2bow(text) for text in health_beauty['lemmas']]"
   ]
  },
  {
   "cell_type": "code",
   "execution_count": 22,
   "metadata": {},
   "outputs": [
    {
     "name": "stderr",
     "output_type": "stream",
     "text": [
      "/Users/andrewrust/opt/anaconda3/envs/U4-S1-NLP/lib/python3.7/site-packages/ipykernel/ipkernel.py:287: DeprecationWarning: `should_run_async` will not call `transform_cell` automatically in the future. Please pass the result to `transformed_cell` argument and any exception that happen during thetransform in `preprocessing_exc_tuple` in IPython 7.17 and above.\n",
      "  and should_run_async(code)\n"
     ]
    },
    {
     "data": {
      "text/plain": [
       "'Alkalines'"
      ]
     },
     "execution_count": 22,
     "metadata": {},
     "output_type": "execute_result"
    }
   ],
   "source": [
    "id2word[300]"
   ]
  },
  {
   "cell_type": "code",
   "execution_count": 23,
   "metadata": {},
   "outputs": [
    {
     "name": "stderr",
     "output_type": "stream",
     "text": [
      "/Users/andrewrust/opt/anaconda3/envs/U4-S1-NLP/lib/python3.7/site-packages/ipykernel/ipkernel.py:287: DeprecationWarning: `should_run_async` will not call `transform_cell` automatically in the future. Please pass the result to `transformed_cell` argument and any exception that happen during thetransform in `preprocessing_exc_tuple` in IPython 7.17 and above.\n",
      "  and should_run_async(code)\n"
     ]
    },
    {
     "data": {
      "text/plain": [
       "[(4, 2),\n",
       " (20, 2),\n",
       " (25, 1),\n",
       " (26, 1),\n",
       " (27, 1),\n",
       " (28, 1),\n",
       " (29, 1),\n",
       " (30, 1),\n",
       " (31, 2),\n",
       " (32, 1),\n",
       " (33, 1),\n",
       " (34, 1),\n",
       " (35, 1),\n",
       " (36, 1),\n",
       " (37, 2),\n",
       " (38, 1),\n",
       " (39, 1)]"
      ]
     },
     "execution_count": 23,
     "metadata": {},
     "output_type": "execute_result"
    }
   ],
   "source": [
    "corpus[5]"
   ]
  },
  {
   "cell_type": "code",
   "execution_count": 24,
   "metadata": {},
   "outputs": [
    {
     "name": "stderr",
     "output_type": "stream",
     "text": [
      "/Users/andrewrust/opt/anaconda3/envs/U4-S1-NLP/lib/python3.7/site-packages/ipykernel/ipkernel.py:287: DeprecationWarning: `should_run_async` will not call `transform_cell` automatically in the future. Please pass the result to `transformed_cell` argument and any exception that happen during thetransform in `preprocessing_exc_tuple` in IPython 7.17 and above.\n",
      "  and should_run_async(code)\n"
     ]
    },
    {
     "data": {
      "text/plain": [
       "[('battery', 2),\n",
       " ('brand', 2),\n",
       " ('Amazon', 1),\n",
       " ('AmazonBasics', 1),\n",
       " ('Basic', 1),\n",
       " ('Cell', 1),\n",
       " ('Christmas', 1),\n",
       " ('arrive', 1),\n",
       " ('buy', 2),\n",
       " ('difference', 1),\n",
       " ('easy', 1),\n",
       " ('good', 1),\n",
       " ('hand', 1),\n",
       " ('house', 1),\n",
       " ('lot', 2),\n",
       " ('notice', 1),\n",
       " ('purchase', 1)]"
      ]
     },
     "execution_count": 24,
     "metadata": {},
     "output_type": "execute_result"
    }
   ],
   "source": [
    "# Human readable format of corpus (term-frequency)\n",
    "[(id2word[word_id], word_count) for word_id, word_count in corpus[5]]"
   ]
  },
  {
   "cell_type": "code",
   "execution_count": 25,
   "metadata": {},
   "outputs": [
    {
     "name": "stderr",
     "output_type": "stream",
     "text": [
      "/Users/andrewrust/opt/anaconda3/envs/U4-S1-NLP/lib/python3.7/site-packages/ipykernel/ipkernel.py:287: DeprecationWarning: `should_run_async` will not call `transform_cell` automatically in the future. Please pass the result to `transformed_cell` argument and any exception that happen during thetransform in `preprocessing_exc_tuple` in IPython 7.17 and above.\n",
      "  and should_run_async(code)\n"
     ]
    }
   ],
   "source": [
    "lda_multicore = gensim.models.ldamulticore.LdaMulticore(corpus=corpus,\n",
    "                                                        id2word=id2word,\n",
    "                                                        num_topics=20, \n",
    "                                                        chunksize=100,\n",
    "                                                        passes=10,\n",
    "                                                        per_word_topics=True,\n",
    "                                                        workers=12)"
   ]
  },
  {
   "cell_type": "code",
   "execution_count": 26,
   "metadata": {},
   "outputs": [
    {
     "name": "stderr",
     "output_type": "stream",
     "text": [
      "/Users/andrewrust/opt/anaconda3/envs/U4-S1-NLP/lib/python3.7/site-packages/ipykernel/ipkernel.py:287: DeprecationWarning: `should_run_async` will not call `transform_cell` automatically in the future. Please pass the result to `transformed_cell` argument and any exception that happen during thetransform in `preprocessing_exc_tuple` in IPython 7.17 and above.\n",
      "  and should_run_async(code)\n"
     ]
    }
   ],
   "source": [
    "lda_multicore.save('lda_multicore.model')"
   ]
  },
  {
   "cell_type": "code",
   "execution_count": 27,
   "metadata": {},
   "outputs": [
    {
     "name": "stderr",
     "output_type": "stream",
     "text": [
      "/Users/andrewrust/opt/anaconda3/envs/U4-S1-NLP/lib/python3.7/site-packages/ipykernel/ipkernel.py:287: DeprecationWarning: `should_run_async` will not call `transform_cell` automatically in the future. Please pass the result to `transformed_cell` argument and any exception that happen during thetransform in `preprocessing_exc_tuple` in IPython 7.17 and above.\n",
      "  and should_run_async(code)\n"
     ]
    }
   ],
   "source": [
    "from gensim import models\n",
    "lda_multicore =  models.LdaModel.load('lda_multicore.model')"
   ]
  },
  {
   "cell_type": "code",
   "execution_count": 28,
   "metadata": {},
   "outputs": [
    {
     "name": "stdout",
     "output_type": "stream",
     "text": [
      "[(0,\n",
      "  '0.075*\"battery\" + 0.063*\"remote\" + 0.056*\"use\" + 0.042*\"controller\" + '\n",
      "  '0.027*\"worth\" + 0.021*\"die\" + 0.020*\"control\" + 0.019*\"like\" + 0.018*\"Xbox\" '\n",
      "  '+ 0.017*\"flashlight\"'),\n",
      " (1,\n",
      "  '0.096*\"battery\" + 0.031*\"long\" + 0.027*\"mouse\" + 0.024*\"cost\" + 0.018*\"buy\" '\n",
      "  '+ 0.018*\"brand\" + 0.018*\"use\" + 0.017*\"device\" + 0.014*\"low\" + '\n",
      "  '0.014*\"wireless\"'),\n",
      " (2,\n",
      "  '0.156*\"time\" + 0.071*\"long\" + 0.069*\"ok\" + 0.048*\"describe\" + '\n",
      "  '0.047*\"arrive\" + 0.036*\"quickly\" + 0.028*\"exactly\" + 0.023*\"battery\" + '\n",
      "  '0.022*\"item\" + 0.021*\"come\"'),\n",
      " (3,\n",
      "  '0.118*\"battery\" + 0.061*\"toy\" + 0.031*\"kid\" + 0.021*\"issue\" + 0.018*\"need\" '\n",
      "  '+ 0.016*\"review\" + 0.013*\"find\" + 0.012*\"buy\" + 0.011*\"house\" + '\n",
      "  '0.011*\"try\"'),\n",
      " (4,\n",
      "  '0.077*\"Amazon\" + 0.074*\"Duracell\" + 0.073*\"battery\" + 0.031*\"Energizer\" + '\n",
      "  '0.031*\"Basics\" + 0.025*\"long\" + 0.023*\"product\" + 0.021*\"longer\" + '\n",
      "  '0.020*\"time\" + 0.015*\"buy\"'),\n",
      " (5,\n",
      "  '0.031*\"comparable\" + 0.025*\"buy\" + 0.024*\"candle\" + 0.022*\"deliver\" + '\n",
      "  '0.022*\"purchase\" + 0.022*\"5\" + 0.022*\"battery\" + 0.019*\"Costco\" + '\n",
      "  '0.019*\"long\" + 0.019*\"Christmas\"'),\n",
      " (6,\n",
      "  '0.089*\"buy\" + 0.085*\"money\" + 0.082*\"battery\" + 0.035*\"energizer\" + '\n",
      "  '0.031*\"long\" + 0.030*\"leak\" + 0.029*\"super\" + 0.028*\"duracell\" + '\n",
      "  '0.028*\"complaint\" + 0.027*\"inexpensive\"'),\n",
      " (7,\n",
      "  '0.430*\"good\" + 0.109*\"battery\" + 0.097*\"price\" + 0.046*\"far\" + '\n",
      "  '0.029*\"value\" + 0.026*\"brand\" + 0.025*\"quality\" + 0.024*\"deal\" + '\n",
      "  '0.021*\"buy\" + 0.009*\"well\"'),\n",
      " (8,\n",
      "  '0.248*\"great\" + 0.133*\"product\" + 0.112*\"value\" + 0.091*\"deal\" + '\n",
      "  '0.037*\"thank\" + 0.030*\"happy\" + 0.028*\"purchase\" + 0.025*\"battery\" + '\n",
      "  '0.021*\"Amazon\" + 0.011*\"recommend\"'),\n",
      " (9,\n",
      "  '0.126*\"battery\" + 0.097*\"brand\" + 0.078*\"cheap\" + 0.051*\"long\" + '\n",
      "  '0.044*\"buy\" + 0.040*\"order\" + 0.035*\"like\" + 0.031*\"recommend\" + '\n",
      "  '0.028*\"price\" + 0.025*\"well\"'),\n",
      " (10,\n",
      "  '0.074*\"box\" + 0.071*\"package\" + 0.066*\"battery\" + 0.059*\"come\" + '\n",
      "  '0.036*\"packaging\" + 0.033*\"pack\" + 0.029*\"open\" + 0.025*\"wrap\" + 0.024*\"4\" '\n",
      "  '+ 0.023*\"easy\"'),\n",
      " (11,\n",
      "  '0.093*\"battery\" + 0.024*\"AA\" + 0.024*\"AmazonBasics\" + 0.016*\"Amazon\" + '\n",
      "  '0.015*\"test\" + 0.015*\"aaa\" + 0.014*\"know\" + 0.012*\"review\" + 0.012*\"AAA\" + '\n",
      "  '0.010*\"Batteries\"'),\n",
      " (12,\n",
      "  '0.148*\"life\" + 0.112*\"battery\" + 0.050*\"device\" + 0.048*\"short\" + '\n",
      "  '0.047*\"charge\" + 0.041*\"dead\" + 0.034*\"decent\" + 0.034*\"half\" + '\n",
      "  '0.026*\"affordable\" + 0.025*\"perfectly\"'),\n",
      " (13,\n",
      "  '0.171*\"love\" + 0.077*\"store\" + 0.059*\"item\" + 0.052*\"perfect\" + '\n",
      "  '0.048*\"battery\" + 0.027*\"way\" + 0.023*\"make\" + 0.021*\"find\" + '\n",
      "  '0.021*\"dollar\" + 0.020*\"easy\"'),\n",
      " (14,\n",
      "  '0.093*\"nice\" + 0.079*\"battery\" + 0.075*\"need\" + 0.050*\"power\" + '\n",
      "  '0.034*\"look\" + 0.033*\"use\" + 0.027*\"thing\" + 0.023*\"clock\" + 0.023*\"like\" + '\n",
      "  '0.023*\"buy\"'),\n",
      " (15,\n",
      "  '0.111*\"battery\" + 0.092*\"brand\" + 0.058*\"lot\" + 0.044*\"buy\" + '\n",
      "  '0.042*\"Amazon\" + 0.033*\"long\" + 0.027*\"big\" + 0.026*\"expensive\" + '\n",
      "  '0.018*\"price\" + 0.017*\"difference\"'),\n",
      " (16,\n",
      "  '0.116*\"excellent\" + 0.096*\"fast\" + 0.051*\"shipping\" + 0.037*\"battery\" + '\n",
      "  '0.037*\"delivery\" + 0.028*\"reasonable\" + 0.020*\"ship\" + 0.019*\"quick\" + '\n",
      "  '0.014*\"buy\" + 0.013*\"carry\"'),\n",
      " (17,\n",
      "  '0.488*\"work\" + 0.086*\"great\" + 0.086*\"battery\" + 0.060*\"fine\" + '\n",
      "  '0.047*\"expect\" + 0.024*\"far\" + 0.021*\"problem\" + 0.020*\"lasting\" + '\n",
      "  '0.019*\"brand\" + 0.018*\"like\"'),\n",
      " (18,\n",
      "  '0.253*\"great\" + 0.231*\"price\" + 0.143*\"battery\" + 0.080*\"long\" + '\n",
      "  '0.032*\"quality\" + 0.028*\"beat\" + 0.026*\"brand\" + 0.021*\"buy\" + 0.019*\"last\" '\n",
      "  '+ 0.011*\"performance\"'),\n",
      " (19,\n",
      "  '0.103*\"battery\" + 0.036*\"week\" + 0.034*\"2\" + 0.031*\"day\" + 0.028*\"bad\" + '\n",
      "  '0.028*\"use\" + 0.025*\"month\" + 0.023*\"new\" + 0.023*\"replace\" + '\n",
      "  '0.021*\"light\"')]\n"
     ]
    },
    {
     "name": "stderr",
     "output_type": "stream",
     "text": [
      "/Users/andrewrust/opt/anaconda3/envs/U4-S1-NLP/lib/python3.7/site-packages/ipykernel/ipkernel.py:287: DeprecationWarning: `should_run_async` will not call `transform_cell` automatically in the future. Please pass the result to `transformed_cell` argument and any exception that happen during thetransform in `preprocessing_exc_tuple` in IPython 7.17 and above.\n",
      "  and should_run_async(code)\n"
     ]
    }
   ],
   "source": [
    "pprint(lda_multicore.print_topics())\n",
    "doc_lda = lda_multicore[corpus]"
   ]
  },
  {
   "cell_type": "code",
   "execution_count": 29,
   "metadata": {},
   "outputs": [
    {
     "name": "stderr",
     "output_type": "stream",
     "text": [
      "/Users/andrewrust/opt/anaconda3/envs/U4-S1-NLP/lib/python3.7/site-packages/ipykernel/ipkernel.py:287: DeprecationWarning: `should_run_async` will not call `transform_cell` automatically in the future. Please pass the result to `transformed_cell` argument and any exception that happen during thetransform in `preprocessing_exc_tuple` in IPython 7.17 and above.\n",
      "  and should_run_async(code)\n"
     ]
    },
    {
     "name": "stdout",
     "output_type": "stream",
     "text": [
      "\n",
      "Perplexity:  -7.364468738556182\n",
      "\n",
      "Coherence Score:  0.49762863953189\n"
     ]
    }
   ],
   "source": [
    "# Compute Perplexity\n",
    "print('\\nPerplexity: ', lda_multicore.log_perplexity(corpus))  # a measure of how good the model is. lower the better.\n",
    "\n",
    "# Compute Coherence Score\n",
    "coherence_model_lda = CoherenceModel(model=lda_multicore, \n",
    "                                     texts=health_beauty['lemmas'], \n",
    "                                     dictionary=id2word, \n",
    "                                     coherence='c_v')\n",
    "coherence_lda = coherence_model_lda.get_coherence()\n",
    "print('\\nCoherence Score: ', coherence_lda)"
   ]
  },
  {
   "cell_type": "code",
   "execution_count": 31,
   "metadata": {},
   "outputs": [
    {
     "name": "stderr",
     "output_type": "stream",
     "text": [
      "/Users/andrewrust/opt/anaconda3/envs/U4-S1-NLP/lib/python3.7/site-packages/ipykernel/ipkernel.py:287: DeprecationWarning: `should_run_async` will not call `transform_cell` automatically in the future. Please pass the result to `transformed_cell` argument and any exception that happen during thetransform in `preprocessing_exc_tuple` in IPython 7.17 and above.\n",
      "  and should_run_async(code)\n"
     ]
    },
    {
     "data": {
      "text/html": [
       "\n",
       "<link rel=\"stylesheet\" type=\"text/css\" href=\"https://cdn.rawgit.com/bmabey/pyLDAvis/files/ldavis.v1.0.0.css\">\n",
       "\n",
       "\n",
       "<div id=\"ldavis_el1808255263249526624272104\"></div>\n",
       "<script type=\"text/javascript\">\n",
       "\n",
       "var ldavis_el1808255263249526624272104_data = {\"mdsDat\": {\"x\": [0.11193438646983365, 0.13569993498606858, -0.015779599109055267, -0.2627509217843178, -0.19173269990121314, 0.09408371752046134, 0.02228166682596919, -0.05704238247847152, 0.11695570323139293, 0.09996880235975437, 0.09101629531500464, -0.21247958729296368, -0.2713590454885362, 0.11616236529809304, 0.0007605421775510816, 0.07823666583862139, 0.04802002714489419, 0.04937394828165919, 0.021992529642014702, 0.024657650963239342], \"y\": [0.04697416057951152, 0.07632084344974924, 0.10531397079115301, 0.07556003339302786, 0.094506938263934, 0.13807537618361887, 0.08578436310424664, 0.09298967297640423, 0.030839625540646277, 0.11125340292606055, -0.1196414911336141, -0.05679468741073638, -0.10796609391123559, -0.04983298389625877, 0.06327626682620618, -0.05189827397365241, -0.19788166856089517, -0.12977086108901306, -0.013326227080502484, -0.19378236697864848], \"topics\": [1, 2, 3, 4, 5, 6, 7, 8, 9, 10, 11, 12, 13, 14, 15, 16, 17, 18, 19, 20], \"cluster\": [1, 1, 1, 1, 1, 1, 1, 1, 1, 1, 1, 1, 1, 1, 1, 1, 1, 1, 1, 1], \"Freq\": [7.944365472069609, 7.73216743888452, 7.286799192535688, 7.127839560319087, 6.823373269272224, 6.322506668302299, 5.661021277634135, 5.652872550914539, 5.609002878738332, 5.426309002236567, 5.09893123939488, 4.865420480273586, 4.409822308715163, 3.285041527851609, 3.2435068062336896, 3.0739793487729807, 2.970174240113246, 2.566139953542446, 2.5282779282286283, 2.3724488559667707]}, \"tinfo\": {\"Term\": [\"good\", \"work\", \"great\", \"price\", \"product\", \"love\", \"value\", \"time\", \"life\", \"brand\", \"deal\", \"long\", \"Duracell\", \"Amazon\", \"box\", \"package\", \"nice\", \"excellent\", \"remote\", \"money\", \"store\", \"lot\", \"cheap\", \"need\", \"buy\", \"use\", \"fast\", \"come\", \"toy\", \"fine\", \"Alkaline\", \"offer\", \"Performance\", \"talk\", \"separate\", \"station\", \"Rayovacs\", \"mAh\", \"recently\", \"doubt\", \"measure\", \"reviewer\", \"Maxell\", \"50\", \"mA\", \"throw\", \"pleasantly\", \"acdelco\", \"program\", \"environment\", \"compact\", \"datum\", \"bag\", \"fully\", \"mark\", \"rechargable\", \"Amazons\", \"table\", \"leg\", \"D\", \"away\", \"36\", \"storage\", \"end\", \"AmazonBasics\", \"loose\", \"Batteries\", \"aaa\", \"test\", \"capacity\", \"tester\", \"AA\", \"AAA\", \"know\", \"believe\", \"say\", \"review\", \"simple\", \"battery\", \"check\", \"Rayovac\", \"Amazon\", \"100\", \"go\", \"place\", \"pack\", \"purchase\", \"find\", \"size\", \"alkaline\", \"come\", \"use\", \"like\", \"packaging\", \"brand\", \"try\", \"good\", \"8\", \"switch\", \"trail\", \"easily\", \"okay\", \"christmas\", \"retailer\", \"train\", \"system\", \"2\", \"week\", \"batch\", \"refund\", \"lucky\", \"90\", \"corrode\", \"staple\", \"business\", \"contain\", \"October\", \"limited\", \"acid\", \"cash\", \"horrible\", \"photographer\", \"new\", \"video\", \"window\", \"green\", \"unfortunately\", \"bad\", \"awhile\", \"3\", \"6\", \"hour\", \"day\", \"replace\", \"night\", \"48\", \"maybe\", \"month\", \"ago\", \"light\", \"happen\", \"set\", \"camera\", \"1\", \"get\", \"go\", \"remote\", \"use\", \"battery\", \"last\", \"4\", \"tv\", \"purchase\", \"dead\", \"Amazon\", \"buy\", \"leak\", \"alternative\", \"fancy\", \"Love\", \"pro\", \"Prime\", \"compete\", \"present\", \"multi\", \"tip\", \"lot\", \"safe\", \"prepare\", \"hesitate\", \"Japan\", \"Radio\", \"expert\", \"kit\", \"kinda\", \"tremendous\", \"deadbolt\", \"kill\", \"impossible\", \"famous\", \"confident\", \"private\", \"earthquake\", \"Shack\", \"surely\", \"Basic\", \"lithium\", \"fraction\", \"big\", \"better\", \"fan\", \"expensive\", \"major\", \"purpose\", \"difference\", \"economical\", \"free\", \"hand\", \"young\", \"tell\", \"notice\", \"brand\", \"large\", \"higher\", \"cell\", \"Amazon\", \"bulk\", \"cost\", \"buy\", \"battery\", \"long\", \"pack\", \"store\", \"definitely\", \"one\", \"know\", \"like\", \"need\", \"price\", \"AA\", \"purchase\", \"last\", \"time\", \"wonderful\", \"bang\", \"buck\", \"pass\", \"terrific\", \"understand\", \"thesis\", \"batter\", \"invest\", \"national\", \"shopper\", \"interested\", \"mercury\", \"beat\", \"Excelente\", \"office\", \"fill\", \"modern\", \"regularly\", \"hazardous\", \"winter\", \"summer\", \"row\", \"9-volt\", \"beg\", \"F\", \"point\", \"price\", \"great\", \"critical\", \"quality\", \"long\", \"performance\", \"pay\", \"last\", \"high\", \"battery\", \"brand\", \"wrong\", \"buy\", \"amazing\", \"amazon\", \"basic\", \"low\", \"longer\", \"save\", \"extra\", \"far\", \"pretty\", \"time\", \"not\", \"good\", \"reasonably\", \"season\", \"shot\", \"dependable\", \"early\", \"2015\", \"town\", \"split\", \"Eveready\", \"prior\", \"Bunny\", \"pressure\", \"blood\", \"story\", \"hunt\", \"recieve\", \"bar\", \"hurricane\", \"maintain\", \"opportunity\", \"writing\", \"extended\", \"Buy\", \"Canon\", \"namebrand\", \"speedy\", \"visit\", \"fair\", \"usual\", \"market\", \"far\", \"AMAZON\", \"price\", \"report\", \"value\", \"deal\", \"quality\", \"color\", \"battery\", \"durability\", \"brand\", \"stuff\", \"buy\", \"well\", \"major\", \"pretty\", \"product\", \"alkaline\", \"name\", \"tell\", \"long\", \"expensive\", \"find\", \"stock\", \"bargain\", \"led\", \"show\", \"computer\", \"digital\", \"weather\", \"effective\", \"r\", \"toothbrush\", \"negative\", \"main\", \"dim\", \"360\", \"yeah\", \"speak\", \"AmazonBasic\", \"channel\", \"best\", \"mouse\", \"laser\", \"exclusively\", \"commercial\", \"double\", \"damn\", \"form\", \"basement\", \"motor\", \"buyer\", \"gamer\", \"convert\", \"trick\", \"keyboard\", \"16\", \"regular\", \"impressed\", \"average\", \"fresh\", \"lifespan\", \"wireless\", \"normal\", \"drain\", \"cost\", \"daily\", \"low\", \"compare\", \"flashlight\", \"device\", \"alkaline\", \"high\", \"battery\", \"change\", \"long\", \"use\", \"update\", \"performance\", \"electronic\", \"Duracell\", \"power\", \"buy\", \"brand\", \"time\", \"far\", \"last\", \"life\", \"month\", \"line\", \"smoke\", \"leakage\", \"d\", \"let\", \"Energizer\", \"budget\", \"cold\", \"compartment\", \"efficient\", \"design\", \"9v\", \"sorry\", \"kitchen\", \"Basics\", \"common\", \"output\", \"hesitant\", \"C\", \"grand\", \"consumer\", \"heat\", \"create\", \"tree\", \"ratio\", \"repeat\", \"melt\", \"mirror\", \"morning\", \"prompt\", \"standard\", \"Duracell\", \"alarm\", \"soon\", \"longer\", \"Amazon\", \"provide\", \"awesome\", \"basic\", \"wrong\", \"experience\", \"try\", \"decide\", \"product\", \"battery\", \"trust\", \"amazing\", \"time\", \"stuff\", \"long\", \"think\", \"start\", \"buy\", \"last\", \"year\", \"brand\", \"quality\", \"use\", \"AAA\", \"price\", \"need\", \"highly\", \"wow\", \"thanks\", \"yay\", \"spare\", \"arrival\", \"overpriced\", \"rayovac\", \"drug\", \"gas\", \"mix\", \"investment\", \"locally\", \"job\", \"admit\", \"pricing\", \"juice\", \"beware\", \"traditional\", \"special\", \"insulin\", \"XBOX\", \"trash\", \"closet\", \"continue\", \"concern\", \"mower\", \"genuine\", \"fantastic\", \"encounter\", \"hold\", \"cheap\", \"feel\", \"recommend\", \"home\", \"suppose\", \"order\", \"bunch\", \"brand\", \"well\", \"like\", \"one\", \"long\", \"battery\", \"buy\", \"charge\", \"purchase\", \"bit\", \"future\", \"price\", \"store\", \"Amazon\", \"bulk\", \"time\", \"high\", \"happy\", \"quality\", \"lasting\", \"think\", \"big\", \"alot\", \"detector\", \"toddler\", \"slightly\", \"mic\", \"weak\", \"ahead\", \"space\", \"frustration\", \"move\", \"wii\", \"strength\", \"regret\", \"learn\", \"guy\", \"catch\", \"wait\", \"weight\", \"thermometer\", \"forward\", \"win\", \"build\", \"temperature\", \"sized\", \"consistently\", \"tag\", \"2016\", \"access\", \"Sony\", \"write\", \"dud\", \"toy\", \"issue\", \"kid\", \"mean\", \"later\", \"ton\", \"bargain\", \"positive\", \"sale\", \"different\", \"review\", \"give\", \"aa\", \"gaming\", \"battery\", \"house\", \"longevity\", \"find\", \"need\", \"size\", \"try\", \"require\", \"bulk\", \"item\", \"have\", \"little\", \"buy\", \"run\", \"sure\", \"like\", \"time\", \"Amazon\", \"use\", \"thing\", \"Xbox\", \"xbox\", \"controller\", \"-PRON-\", \"25\", \"wall\", \"mainly\", \"crap\", \"water\", \"quicker\", \"suck\", \"book\", \"user\", \"24/7\", \"circuit\", \"got\", \"mid\", \"stupid\", \"explode\", \"worth\", \"USA\", \"Day\", \"sort\", \"A++++\", \"tier\", \"literally\", \"vs.\", \"wonder\", \"liquid\", \"garage\", \"control\", \"game\", \"primarily\", \"immediately\", \"remote\", \"car\", \"die\", \"hard\", \"flashlight\", \"headphone\", \"use\", \"son\", \"flash\", \"tv\", \"camera\", \"not\", \"nearly\", \"run\", \"think\", \"battery\", \"like\", \"play\", \"little\", \"quickly\", \"test\", \"get\", \"brand\", \"price\", \"long\", \"month\", \"buy\", \"Duracell\", \"pretty\", \"well\", \"wrap\", \"Great\", \"nicely\", \"group\", \"package\", \"mess\", \"damage\", \"plastic\", \"forever\", \"cardboard\", \"seal\", \"open\", \"absolutely\", \"individual\", \"insert\", \"container\", \"tight\", \"stay\", \"Wii\", \"appliance\", \"hassle\", \"shame\", \"band\", \"button\", \"pain\", \"expectancy\", \"approximately\", \"smart\", \"restock\", \"lock\", \"difficult\", \"box\", \"miss\", \"packaging\", \"powerful\", \"come\", \"small\", \"easy\", \"right\", \"inside\", \"convenient\", \"perform\", \"pack\", \"4\", \"unbeatable\", \"20\", \"want\", \"battery\", \"arrive\", \"like\", \"large\", \"5\", \"need\", \"receive\", \"use\", \"order\", \"little\", \"get\", \"work\", \"charm\", \"fine\", \"correctly\", \"surprisingly\", \"description\", \"dig\", \"advertise\", \"expect\", \"lasting\", \"frameless\", \"tool\", \"problem\", \"prize\", \"devices\", \"wuality\", \"excellently\", \"indoors\", \"stop\", \"recycle\", \"sure\", \"far\", \"trip\", \"oh\", \"great\", \"like\", \"cheap\", \"remember\", \"amazon\", \"battery\", \"brand\", \"long\", \"purchase\", \"buy\", \"well\", \"store\", \"price\", \"birthday\", \"club\", \"Roku\", \"Value\", \"thinking\", \"steady\", \"volume\", \"research\", \"duty\", \"technology\", \"Product\", \"DOA\", \"happily\", \"performer\", \"known\", \"20-pack\", \"Remote\", \"customer\", \"environmentally\", \"nervous\", \"meet\", \"coffee\", \"television\", \"Amazonbasics\", \"smooth\", \"weekly\", \"esp\", \"Everyday\", \"seller\", \"thank\", \"product\", \"deal\", \"value\", \"service\", \"happy\", \"great\", \"opinion\", \"expectation\", \"confirm\", \"awesome\", \"purchase\", \"crazy\", \"friend\", \"recommend\", \"definitely\", \"Amazon\", \"quality\", \"overall\", \"battery\", \"amazing\", \"buy\", \"experience\", \"sure\", \"quantity\", \"volt\", \"company\", \"nice\", \"junk\", \"heavy\", \"reorder\", \"vac\", \"batt\", \"sooner\", \"o\", \"original\", \"live\", \"remain\", \"level\", \"moment\", \"hopefully\", \"date\", \"friendly\", \"2026\", \"basis\", \"monitor\", \"fault\", \"personally\", \"exceed\", \"totally\", \"expiration\", \"effort\", \"dad\", \"draw\", \"basically\", \"recharge\", \"clock\", \"ask\", \"look\", \"wish\", \"power\", \"pair\", \"need\", \"thing\", \"rechargeable\", \"probably\", \"strong\", \"use\", \"battery\", \"like\", \"buy\", \"minute\", \"change\", \"extra\", \"light\", \"remote\", \"year\", \"waste\", \"equal\", \"hey\", \"duration\", \"inexpensive\", \"disappointment\", \"player\", \"Good\", \"super\", \"pleased\", \"excelent\", \"head\", \"complaint\", \"duracell\", \"money\", \"s\", \"mp3\", \"total\", \"evening\", \"infrequently\", \"emergency\", \"name\", \"lantern\", \"3rd\", \"spend\", \"real\", \"folk\", \"energizer\", \"tired\", \"gift\", \"not\", \"receive\", \"candle\", \"leak\", \"old\", \"ruin\", \"buy\", \"start\", \"definitely\", \"year\", \"amazon\", \"will\", \"battery\", \"long\", \"usually\", \"brand\", \"last\", \"die\", \"have\", \"run\", \"comparable\", \"honest\", \"scale\", \"brick\", \"flameless\", \"variety\", \"competitor\", \"cabinet\", \"rc\", \"member\", \"grandkid\", \"portable\", \"earlier\", \"ProCell\", \"listen\", \"Brand\", \"door\", \"yep\", \"mortar\", \"prime\", \"ad\", \"nose\", \"bathroom\", \"trimmer\", \"hair\", \"bunny\", \"complete\", \"toss\", \"noticeably\", \"college\", \"span\", \"copper\", \"deliver\", \"promise\", \"Kirkland\", \"Costco\", \"timer\", \"shrink\", \"5\", \"typically\", \"Christmas\", \"candle\", \"star\", \"function\", \"appear\", \"quantity\", \"complain\", \"lead\", \"operate\", \"pretty\", \"twice\", \"keep\", \"purchase\", \"light\", \"buy\", \"think\", \"order\", \"long\", \"battery\", \"one\", \"make\", \"time\", \"hour\", \"go\", \"perfect\", \"solid\", \"1/2\", \"grab\", \"sturdy\", \"awful\", \"silver\", \"grocery\", \"love\", \"install\", \"boy\", \"bluetooth\", \"anymore\", \"obvious\", \"score\", \"crappy\", \"able\", \"picture\", \"Lacka\", \"matter\", \"pc\", \"e\", \"local\", \"variable\", \"seriously\", \"terribly\", \"help\", \"subscribe\", \"aluminum\", \"Boom\", \"dollar\", \"item\", \"yes\", \"make\", \"store\", \"idea\", \"worry\", \"way\", \"easy\", \"backup\", \"case\", \"actually\", \"save\", \"find\", \"hope\", \"well\", \"battery\", \"order\", \"need\", \"go\", \"second\", \"thank\", \"cheap\", \"ok\", \"describe\", \"exactly\", \"Price\", \"baby\", \"load\", \"Dollar\", \"call\", \"hardly\", \"Fire\", \"holiday\", \"steal\", \"shoot\", \"living\", \"fix\", \"wife\", \"costco\", \"indoor\", \"fun\", \"Store\", \"Quality\", \"discount\", \"sleeve\", \"dirt\", \"trouble\", \"response\", \"Spring\", \"Time\", \"black\", \"unlike\", \"arrive\", \"handy\", \"time\", \"quickly\", \"satisfied\", \"generic\", \"guess\", \"number\", \"Battery\", \"item\", \"long\", \"fall\", \"come\", \"couple\", \"stick\", \"see\", \"last\", \"battery\", \"expect\", \"tell\", \"run\", \"day\", \"want\", \"reliable\", \"testing\", \"state\", \"extremely\", \"yup\", \"short\", \"walkie\", \"Sam\", \"a+\", \"coppertop\", \"event\", \"hardware\", \"account\", \"perfectly\", \"specific\", \"decent\", \"talkie\", \"reserve\", \"life\", \"length\", \"affordable\", \"indicate\", \"trade\", \"content\", \"evaluation\", \"decision\", \"batteriess\", \"essentially\", \"12x\", \"mostof\", \"send\", \"dead\", \"shelf\", \"charge\", \"half\", \"device\", \"faster\", \"comparison\", \"non\", \"disappointed\", \"usage\", \"battery\", \"year\", \"quality\", \"terrible\", \"instal\", \"far\", \"last\", \"happy\", \"energizer\", \"run\", \"cheap\", \"delivery\", \"excellent\", \"carry\", \"motion\", \"shipping\", \"choice\", \"near\", \"top\", \"addition\", \"age\", \"fast\", \"exception\", \"retail\", \"replacement\", \"piece\", \"outdoor\", \"brightness\", \"brush\", \"ability\", \"repurchase\", \"cam\", \"saver\", \"fabulous\", \"evaluate\", \"fake\", \"pleasure\", \"consumption\", \"guarantee\", \"brain\", \"buzz\", \"manufacture\", \"reasonable\", \"single\", \"solar\", \"ship\", \"wear\", \"zero\", \"application\", \"quick\", \"kind\", \"rating\", \"supply\", \"typical\", \"overall\", \"way\", \"battery\", \"buy\", \"power\", \"purchase\", \"sure\", \"price\", \"run\"], \"Freq\": [3135.0, 2557.0, 3491.0, 2944.0, 834.0, 569.0, 753.0, 996.0, 505.0, 2215.0, 586.0, 2120.0, 586.0, 1318.0, 484.0, 387.0, 324.0, 288.0, 584.0, 359.0, 519.0, 491.0, 734.0, 681.0, 1975.0, 1033.0, 253.0, 501.0, 481.0, 337.0, 64.93576192857034, 41.94200761701773, 39.78296994162535, 25.88517083952593, 24.64319714003789, 22.13061756313028, 21.513872126842994, 21.246702395811152, 20.400456503510664, 19.981890463701458, 19.692858705993917, 17.589794646579286, 17.010097088991408, 20.139914999883967, 16.210872102736026, 52.110042169345185, 15.591887530020644, 14.316043895354705, 13.46068610826202, 14.128728386068882, 15.238467414512419, 12.724783133037283, 12.335601083990285, 38.70079290856356, 18.599937653857005, 12.046954822147452, 11.354585070231638, 14.696962715878827, 11.082412523463017, 10.941261582393484, 50.81587693271127, 21.30155021043276, 54.353823726717785, 68.48895211129678, 195.51718121529703, 23.76114424378659, 85.69339089912805, 121.73590405493292, 124.95468328763901, 33.94771711963781, 24.130067622092692, 200.25571939897654, 96.70502465572963, 113.45598989015187, 34.603842588711494, 59.87049202592665, 97.03345178934258, 30.811708260231413, 765.6471687199944, 38.65870289738495, 32.32390880721073, 135.18196145817967, 29.0526081603004, 69.74807749992955, 34.41770370486348, 70.4298259777222, 81.19807183773169, 56.36038148555389, 45.27141073766614, 44.0980380410874, 56.75374453452658, 62.633484730035455, 60.055530040986895, 44.61014148794992, 54.26314589346687, 44.6571489687659, 44.70688752476271, 84.76571411820393, 55.109706733918564, 28.554202635313207, 25.457587606709154, 42.28827329240082, 17.777818816174438, 15.79600423782088, 14.969972675297523, 14.800384560267604, 273.0360028002958, 288.59721455058553, 67.45617174698607, 12.98099851460368, 12.133637538024459, 11.558036424459907, 11.937714554618385, 9.8870994793004, 8.975343328223984, 8.103365745697035, 7.773877491740987, 7.678129861243941, 41.87757777208269, 6.9214783942553835, 26.124510495020832, 6.561001216736133, 188.28967956759598, 22.190658331532912, 15.590797410647523, 17.575985980678844, 13.907379962938897, 224.50405850843708, 23.159364475470692, 152.80733082114054, 75.72703774619625, 147.01893123205056, 246.4999381204082, 180.58832469697182, 54.81052933853156, 68.21339441256572, 78.40628767093327, 199.93027378842012, 52.998762074075266, 169.53336956495275, 35.04448582648133, 86.39078530982853, 71.49639004811293, 46.19482738988839, 133.17781123900917, 123.14029893071474, 160.8623210861598, 224.15266310851686, 824.3834343219371, 127.75965287002127, 90.99378728946854, 58.482839747134314, 124.51715633457961, 65.02303001520241, 106.35734192729623, 108.85225524004842, 59.91200475531139, 26.102545025429112, 21.300410641319196, 14.529123637255491, 13.697431404943897, 48.73128487651916, 9.42465758452043, 9.220209934196543, 8.47433663491907, 8.056914766028994, 436.420829113926, 22.05812297593207, 7.028340519532992, 6.619332193919346, 6.364282782611405, 6.145525379993939, 6.10779043389873, 6.06170307476155, 5.981440836061111, 5.818263130570393, 5.3590528093189, 5.216037086552968, 5.194499013874079, 5.056526755343894, 4.906240492750148, 5.037127801085189, 4.238720321757403, 3.975039673172623, 3.829904182564321, 34.00351788271231, 14.930216257185563, 69.4967699038869, 204.50406957222054, 86.94517184577596, 26.0293787315703, 197.4248401115373, 68.57472542590234, 30.310994886483122, 130.40853985705064, 28.779435353647244, 45.2587885048977, 83.77288737493728, 12.722835155474659, 86.55464903919102, 64.55973384611721, 693.9506748883987, 49.93857798120582, 12.314696286505074, 28.272661312128523, 318.16839260547414, 66.05033348315081, 94.69823064539108, 332.83852302368973, 839.4682021953429, 247.87955077735015, 97.7609275166378, 104.10739633322784, 62.057999670842634, 64.29505312448813, 59.54815936260736, 92.98488122970826, 81.67502438665254, 134.58886981025378, 67.19379782734572, 72.38449533225102, 57.64590960630262, 60.47361657886095, 54.69371837167225, 28.648811319544574, 45.703960790076096, 14.784471961240842, 10.785764629871581, 10.26477969328201, 9.508424643446784, 8.84383557951775, 8.552506085046868, 24.97521216202661, 5.927561124704646, 5.4754176701305015, 4.4150114866670105, 206.7959591743848, 4.04664535172175, 22.66709762020408, 3.268337171633567, 3.1675638246872926, 15.592216032014266, 2.607363441651465, 2.425307243649757, 2.087454845558708, 4.316840801593526, 1.6550177357340288, 1.6224494016724704, 1.5426983569415889, 41.42365662906405, 1708.1371362032532, 1870.1006830216947, 1.668784096272911, 237.01621385313177, 592.1301520710323, 79.34985193155153, 60.84332742237022, 138.13167842463534, 62.951543766216986, 1060.4930753735266, 194.89951783942874, 24.62351811978879, 156.11303136824426, 22.15316439161761, 36.22851638957404, 28.151844865216432, 28.788988537052855, 25.40318785769968, 18.821261613209593, 14.672548036485852, 22.919221132453696, 16.90040767114469, 19.822731486495844, 15.442910139309188, 3040.3646851898643, 19.39600503838475, 15.173759030933311, 15.046603318876949, 14.612563706929551, 11.463690670476861, 9.273891799544955, 8.665820243574307, 8.5796279042711, 8.515130874140324, 13.118347367237677, 7.025778085591655, 6.533395215294426, 6.533392744396301, 6.4742546804828445, 6.415998315383749, 6.388127819979956, 5.974598309737578, 5.978120163198772, 5.870997669509253, 5.0937478370660605, 4.75060968443225, 4.454169859100309, 4.36965443599144, 4.08982481149016, 6.382438988862915, 3.722835491069634, 3.670556228535527, 21.155317448873376, 13.793432974896026, 17.080193657595764, 328.8756707150626, 12.795310382669156, 684.2122223987701, 9.258951925846965, 205.58639368884812, 167.6367589064091, 176.5650560687674, 9.871109523684073, 770.3469667139437, 11.029978864347415, 183.30803821665842, 24.828459060480625, 145.1993566636931, 61.783318494019774, 24.53512556590848, 29.713992960675036, 53.03876719984782, 27.123243098223707, 18.350093629150066, 20.177268433016064, 40.477370153634716, 21.138645475589584, 21.779275232523982, 14.739215355768364, 14.054702448129467, 66.6351863963874, 38.67683836830319, 44.891901121435154, 33.70951374122001, 23.47369452940014, 23.17147139117768, 21.130830247137375, 20.712627506695593, 18.820062024300388, 17.625671309940312, 27.91474635252986, 15.428695431706268, 15.200480360507663, 12.205425616007767, 11.189240685656541, 11.113164416211054, 11.04579138677155, 178.3843912225492, 10.534009736907326, 11.552059865309642, 9.98314516666899, 38.03446843328431, 9.32689843289277, 8.93492675718666, 8.495597061896964, 7.802647748467317, 7.492390674122178, 7.414609473233921, 7.311500806011172, 7.2902158740779175, 75.34005654272845, 9.882460341103467, 50.088535211699444, 56.98647108764382, 38.694171583579916, 47.16768695954799, 19.984998788748946, 88.78997221485643, 44.23198733502576, 82.86604215065134, 155.92102044468183, 24.239324749701915, 93.14640326879434, 87.8162960944257, 80.38001704939855, 111.94219024415487, 69.41864800649422, 77.48363006072235, 630.2490904869928, 57.42395313789191, 200.6241458177024, 116.4962773429568, 35.75919544831809, 56.86491268110639, 42.917074604862044, 78.98964774734152, 64.65347299470257, 118.56825289844622, 117.17424478120604, 63.30241632849157, 57.963486858922174, 55.597835717653915, 53.112512736780424, 48.274564474023286, 59.31111914955328, 30.427367663540302, 28.758349857289105, 21.688983711813872, 50.94099571219685, 180.90025300242854, 19.732998194886974, 19.81100145739317, 15.433489962633985, 15.074750941183607, 20.1576606057394, 14.50327550077886, 23.435503217789368, 13.434304446971701, 180.37032937352492, 12.64204981657311, 12.351757031651182, 11.75326553382786, 14.800401566108155, 11.356728905132163, 17.13369896063266, 8.391806119417046, 8.108778478224234, 8.013674931498597, 7.582621353481156, 7.5373959704330264, 6.875612579492532, 6.765578315076793, 6.468721480995548, 6.410184867713863, 53.69542544491534, 432.0947567531744, 16.401521164919572, 40.885211330829044, 125.68722704515282, 453.4650157669474, 29.41351384949898, 72.63045638698316, 71.87573423255009, 45.40168168264032, 36.8523814330662, 84.69509947575793, 37.730263900249525, 134.75992104087328, 427.7483968171363, 26.358149180952132, 34.87622953900107, 117.66516357862614, 32.126061039944624, 149.16191775942238, 58.278162216805114, 37.67985069071612, 90.49019139089876, 58.919670581448905, 45.06037572616522, 72.26720466715176, 48.86525832278689, 51.02935822780062, 36.12922356749083, 46.21554177903093, 38.77248402791792, 103.48349344485179, 23.10176682783303, 15.046662198560632, 13.336742544270889, 16.143354821472183, 11.407419815615961, 10.704487691685626, 9.584634251859457, 9.05646145341316, 8.601039535520137, 7.808104134522689, 6.406011204314765, 9.960391093111769, 122.48520272148937, 5.511114098979863, 17.71969054243226, 28.169612586696573, 4.6182268391572014, 4.456997038988637, 21.957315553727177, 4.374109931959603, 4.122651339890519, 13.713707817504929, 10.194923108131313, 69.5989624196031, 7.794303718469359, 2.754233301299896, 2.514755824453378, 39.12215226589523, 3.77355198957336, 132.99867832576393, 455.6527086135439, 62.59059734236798, 183.65875628489073, 48.262636247465366, 27.529308763732313, 232.95529172695004, 21.911335092111866, 566.341682793949, 147.4077073974509, 206.45006458618371, 89.57508137423667, 300.16235307164584, 738.6379959961857, 259.62877954486953, 66.91857157935493, 117.20564732168468, 35.92551327842193, 32.20471913649353, 166.524672836086, 71.42303829667267, 99.2981455695524, 40.323747156456065, 80.25918028715404, 39.96406430289069, 39.658286659125714, 50.411759174942496, 33.007379992621175, 36.055256977311636, 35.34553962039073, 31.589412267138847, 31.440044419007283, 26.852533536884664, 21.13891138198628, 19.4381060000492, 18.852508693357745, 17.817975071968434, 17.795564749176094, 20.76170164120445, 15.13110194618787, 15.018721286399071, 13.674184518839981, 14.222851509306937, 13.381385188445227, 13.12573689225776, 12.65509303165755, 31.91808436317799, 11.685821520074864, 11.539972972785431, 11.068324371429213, 10.203463975538993, 10.137820687130192, 9.794927853328803, 9.6475430817972, 8.773843810860031, 8.57452531666652, 8.060945037923656, 7.945031536312184, 7.557818396157038, 21.27922302233324, 31.330278522560597, 352.86963327253625, 123.49079599993834, 179.3591809574312, 40.666115679885216, 38.42049030005236, 40.43326497853351, 51.99320548122201, 17.06588328495946, 27.50118983584902, 50.71685973756017, 94.29997344519512, 44.501541545489125, 42.50813588557122, 23.215071390371318, 686.7614848243546, 63.68550094409265, 33.2758493146258, 75.91464212141955, 104.89676566770075, 49.10640384007465, 62.93964207042587, 32.776875014541524, 41.028913755079195, 48.31368234095787, 36.83570810166912, 38.86886466405784, 70.08717281853997, 41.18324301848032, 37.4230264669871, 44.55118819653797, 43.798125521224335, 38.873511928578885, 37.85275490079014, 33.85342088215169, 103.27979504219385, 53.56560817834162, 235.87021166946806, 25.50719579380985, 24.058555764186934, 26.225910348611112, 28.0741113405407, 20.26546319763258, 16.631633029007585, 17.288996682042647, 13.247817642777113, 12.54047775712017, 13.203573939485596, 9.559712499528962, 9.246523305124214, 9.104504344940642, 8.86103887250662, 8.422605833169664, 17.48486683411666, 154.33800851536182, 7.48788325903411, 7.0131182190771915, 6.866803791874823, 6.3390639453387125, 5.989794923964848, 11.812137373818109, 10.854159149102738, 5.4803042622936715, 5.303271481937735, 5.138919433738542, 112.68300857400881, 71.46511661408194, 22.32656687051035, 17.806648272551993, 354.03702906452077, 38.24502268509132, 115.75208111414673, 51.53248333577415, 96.6467450897113, 21.613924133224224, 313.57459434281793, 43.14965740477781, 35.505884979767195, 55.72718045370176, 55.230080033241485, 56.922826776867716, 25.49340680758238, 86.74387927108883, 78.69373130023028, 421.8214740905843, 109.07195525352527, 32.79794082755428, 50.391442760461686, 50.62351587884601, 47.95896393448019, 54.635893412202634, 89.99654994895734, 82.70796378366273, 73.38230183693861, 45.86290178863394, 67.6769417612173, 48.036332120552224, 40.7013093236985, 41.45068819444244, 131.58267856550654, 42.299790584959325, 53.33334925958454, 49.70646135536819, 373.9374321095615, 25.49839847429163, 24.15521042320421, 101.60016953635818, 22.98267022554618, 90.98740190419349, 25.580707782287078, 151.9673013866394, 18.592042394003222, 17.660873571169166, 17.366044106619075, 16.74398387334254, 14.569716279968878, 30.79497154672663, 13.978562966579128, 13.505184122442522, 12.518223311519064, 11.48039065583851, 11.387337537234016, 11.32868972414313, 9.239384155522764, 9.341334646157753, 14.727548618704088, 8.438269233968716, 7.796567818052644, 7.147861629649087, 12.875948628849752, 391.37179075070964, 23.542453778445452, 190.26713484546394, 17.091932913879344, 310.1541169382418, 100.90260966056388, 119.81155876972136, 94.57740042752854, 30.313543461346605, 47.7030951929887, 85.05662149455321, 175.0661889182375, 127.21612213823258, 19.28223744178722, 31.47505180397734, 41.4875102493208, 346.31096885896767, 49.63239701110548, 97.78364500437067, 35.15508759623861, 34.311233160906916, 50.4449875484252, 33.93039658736807, 45.90826334175229, 37.19728559288401, 33.6053396923281, 33.66969423158575, 2464.3389161052173, 11.748806126515444, 302.24075524429924, 7.193831403709687, 7.580108113548672, 3.4764416432307623, 3.280410870221073, 75.97684266473053, 236.07820371054265, 103.15533032243528, 2.423016367734468, 2.4021295853651634, 105.88855441929232, 0.5335008273358459, 0.533508352027578, 0.531834273293343, 0.5299315540478916, 0.51814818044191, 15.77346994069257, 2.2399978055493337, 42.227100593496466, 122.60266926215377, 3.3742600000900067, 2.3132582042531817, 434.1699570440725, 90.2255531198038, 67.19520528313743, 1.7915783005703512, 10.692546721760516, 433.34180811858937, 95.82349856835394, 83.59083347409194, 23.032156699147148, 34.475413064251256, 12.009285847504865, 2.3249490057979516, 2.3770530546394184, 13.764515311840162, 12.74179458545856, 10.35343023064177, 10.198073481975362, 9.887855022593136, 9.815649745257767, 9.302179349339927, 9.012391585247615, 8.359096921736779, 8.324704559343557, 13.61230338490719, 8.166338192857099, 8.056477561045574, 7.690658887627673, 7.337242777918149, 7.2490743897222405, 6.4573426294778065, 24.235546332185454, 4.908824529909756, 4.882648732898618, 15.069499225465076, 4.724456960442045, 3.858653949167833, 3.6909707555316853, 3.668625913499483, 3.4750618164270666, 2.9923936931629127, 2.953160338681888, 20.374197087681253, 170.5752330230472, 608.015856605687, 415.05521611803044, 510.9080198681019, 24.959587774123463, 139.3217263575115, 1135.5679508931848, 27.16233206022766, 14.58897493590631, 8.32092257586081, 46.42828289722892, 128.32188515236646, 19.785310587634527, 15.39252798949133, 52.21159516065254, 41.385130085575476, 93.87998489695897, 50.19979073818376, 16.337327613254274, 114.71306406667732, 16.620436091105695, 29.73813694589793, 13.680144876093149, 14.871478722239589, 12.024307871825483, 36.68805809351365, 37.55503299928321, 315.09614040690536, 31.38377720161184, 29.64201734833118, 29.76348855806597, 20.663167331141352, 17.546867095344272, 15.883439232609447, 15.726911657608305, 14.133429983086353, 24.32759164997549, 12.301056039701447, 11.023072135872676, 10.794912329935011, 10.776898795398319, 58.576664433517536, 9.695103330451117, 9.500803164253, 9.523490193507694, 9.29216370431719, 8.50449466513516, 7.638759310060364, 7.472894262327205, 20.60078850871826, 23.084930579124805, 4.947739559544253, 4.761156647223768, 12.54274066812695, 15.023635163296733, 34.108745810967406, 79.82915207315351, 40.05992148438905, 117.08687689530404, 36.54706177942501, 168.99076474755466, 33.453289168090784, 255.27215964816847, 93.13585804999813, 66.37211389560555, 48.521470436649736, 34.95317564498346, 113.79765021741285, 268.2856559750657, 78.65623733973189, 77.58254376211526, 20.986586171789295, 27.727132788289936, 21.95798469821199, 25.605619965089545, 26.852125784352392, 22.4753888607677, 87.45416981651404, 23.88694610997769, 12.940591703206378, 12.222056890011274, 89.68094242820067, 8.7041991401585, 8.355103313479047, 7.707085190130306, 96.0759799423675, 70.90681496053719, 5.406883011207371, 17.50821131281585, 94.85047291402128, 95.07069270895323, 287.4515859637802, 14.9251201913732, 3.2673596906965745, 14.775349745573765, 3.0463981691227953, 2.866334385741647, 16.45447791700491, 49.34645136261875, 21.58348651977998, 6.748128367847218, 63.876751382605995, 36.307059086715995, 5.816333344193767, 117.96625979202206, 10.654166964518927, 23.33812868845066, 74.92208176114232, 57.66491193138284, 77.79612705013596, 100.64998674038281, 30.663496957260406, 16.79636672123893, 297.72054995048927, 39.27543462125033, 58.99318402119566, 65.94216937964728, 54.45962550125958, 39.68042480649127, 274.8230284206556, 103.98261289433985, 24.508203346853687, 56.29806457497377, 37.7235412474244, 29.120862148557777, 25.792307758694204, 25.26309118308787, 98.65491321614508, 19.22714525047469, 24.35424822818112, 17.715661272204233, 16.1422248787777, 15.385298489956444, 19.79194360601634, 12.47109642037243, 12.438096492278223, 10.476896843748504, 10.215171228918411, 15.371170293701665, 9.847683768440348, 8.77189264309381, 8.540667546494172, 8.197053606003305, 42.48210730690596, 7.375936613145602, 6.946265942835799, 21.058887638585187, 6.811179815487673, 6.625549654169766, 6.219097967178563, 6.205847681217376, 6.124751181662488, 22.379511099029504, 5.628984923610703, 8.08604581964071, 5.251088326418297, 5.249946226721054, 37.72766871462104, 40.52818325644756, 70.76735286144623, 21.102437332303825, 29.161882395838195, 61.63810694466158, 23.610350235906186, 32.34832125641328, 69.6549551773826, 15.572001735200416, 59.997746032133854, 77.55936558727802, 51.809988034192706, 18.779280390251113, 35.655034569315525, 47.33480951524759, 24.603087930637646, 29.261624285187246, 36.51021270051243, 50.865982894963864, 27.008094608887678, 29.31978751187411, 70.09890617548581, 44.467452085877184, 79.73542543148237, 41.57855876747885, 45.434604966338256, 60.81963629847078, 68.98855076456502, 34.077945534752004, 27.928960912145097, 34.7317341614402, 27.83801148362316, 27.549819433703746, 160.09773388326224, 43.04227200178863, 22.74417805151613, 20.664862439425185, 20.454550289000085, 18.90591964039282, 18.32787529240952, 19.35594708624047, 525.8559353908304, 9.669249257279528, 24.28778364915178, 8.201805305477391, 27.645989074418097, 5.081278767991014, 4.978392498550532, 5.492636338499934, 35.41884805541849, 22.765488627269047, 3.65319592285418, 23.72319393250858, 3.383167910921983, 3.38091925797578, 37.09013354406584, 3.0196881484076155, 16.233812933988343, 2.8019029555701023, 27.71402229875985, 42.968250018069746, 1.8656080745920216, 1.8512282760121777, 64.3047340389257, 181.74550432363907, 41.55249640223249, 71.74244047646984, 238.03999161403192, 19.540504416346142, 19.066607978383313, 84.55048657642364, 62.03860240515366, 10.261873280120973, 28.790389937788042, 34.73140846251029, 54.76511073263746, 65.43769373315993, 25.02928843088132, 49.641428794803765, 147.69531150391802, 37.579554005078826, 39.053167411584134, 33.56968379327929, 23.5613927407641, 25.471639193552296, 25.633401664869773, 183.77617681518228, 128.76867589151993, 75.80784590204819, 32.85700187430731, 29.365219148519554, 19.107815294928283, 12.561584415478862, 11.774581418447793, 10.425352887892286, 9.74603100440569, 30.439190473216904, 13.953175934369284, 13.644021894991589, 7.786974798524296, 7.431217878849412, 7.338456922818, 6.898172887566198, 6.639849230348715, 5.340200301434451, 5.211878521554645, 5.01579745716117, 23.013211747834024, 4.27498505987485, 4.16530015752968, 9.959611535222939, 3.0006329965928855, 2.8850634166104228, 9.845239148580202, 8.728679335741644, 16.133507542205184, 124.01517962318695, 34.58154509619886, 415.6138063229709, 96.59522588058209, 45.26124565846031, 27.032277449250245, 30.58255135556254, 17.004522846189463, 15.110434745213905, 59.658055291412786, 188.29759165650262, 15.608180963247797, 56.403651999075635, 22.167267809675753, 17.977682128364798, 18.291408114364582, 30.144836407389572, 60.64516458633015, 25.240726092611865, 20.91653189506325, 22.217611260935563, 21.517146912094137, 15.618763347014534, 55.02281642921922, 25.13448772593615, 23.900943518371616, 37.723997685765355, 15.093397250499876, 125.49932949241743, 9.361627834137378, 9.123073584381162, 8.68243619467528, 7.0785197583328525, 6.4813311994461245, 5.242612932038062, 5.150250134850192, 65.83906615402645, 4.030224263131835, 89.15595188494154, 3.692204404532787, 3.1794799158745026, 388.58397702431336, 14.015336074245928, 68.21040058682073, 9.894850193708145, 2.6870817857049607, 2.6310661943306934, 2.5079691032462974, 9.191759121990168, 1.9830553303948883, 3.256242712058393, 1.9039327124733516, 1.9039046357064762, 26.842597654517416, 106.18906675543523, 47.53697907908753, 124.51703328505926, 88.05145582230998, 131.85341922584257, 23.49502671309406, 19.79262281262931, 15.45569740880111, 25.423893273055068, 18.125176587586484, 294.55835162918726, 41.52781364745479, 44.163660521710504, 13.659121249982675, 14.683909812913177, 27.924624979274753, 26.216654213798872, 20.633926041842567, 18.227247842468245, 18.35976285774582, 19.546855885608622, 90.17764710380436, 284.4488304639851, 31.595267401710082, 28.43919729219008, 124.38658822285642, 22.823405031551008, 23.736635486286545, 16.268025736560457, 13.632190224015316, 13.59149325497733, 236.30111788394223, 13.125381915435362, 12.800129191313996, 29.48523814954334, 12.45665172115023, 12.382302546629301, 9.666346880898141, 9.209698434320112, 8.75625678702214, 8.270102236048563, 8.213575740576893, 23.48626573503028, 6.74633534320759, 6.741388544603938, 6.575950577316285, 5.934917758702566, 5.898426456232441, 6.107936006124446, 5.762457364915044, 5.545829167362417, 9.771718215841462, 69.80707753743862, 21.526511026157706, 10.172651173874158, 48.00468211556528, 26.66850341831474, 13.609260950506158, 29.436689991984004, 46.8880034713201, 20.590613615125058, 15.49585779446711, 18.060633979797025, 14.3381190608511, 16.842919680292397, 27.288110419056046, 90.61300661856605, 34.43964509783467, 20.76229736668651, 17.593371422796064, 15.283927251441188, 15.940161295218681, 14.916310870318812], \"Total\": [3135.0, 2557.0, 3491.0, 2944.0, 834.0, 569.0, 753.0, 996.0, 505.0, 2215.0, 586.0, 2120.0, 586.0, 1318.0, 484.0, 387.0, 324.0, 288.0, 584.0, 359.0, 519.0, 491.0, 734.0, 681.0, 1975.0, 1033.0, 253.0, 501.0, 481.0, 337.0, 66.06118678998374, 43.05763437154835, 40.84890699399894, 26.823276620501453, 25.581302919604816, 23.068723338475877, 22.452409929539808, 22.190893218966018, 21.349572380128368, 20.921398722379294, 20.632868419333132, 18.528945075635836, 17.949274778283524, 21.270570999553144, 17.154098703506083, 55.1573642219316, 16.536037889758322, 15.260396513193019, 14.398930806624568, 15.13196328569768, 16.349776212905656, 13.672949474124957, 13.273738328304413, 41.67361386097252, 20.044606556360026, 12.985060598655659, 12.292690852038387, 15.940816732397257, 12.020545340338659, 11.879367354093258, 57.01152057246339, 24.319583550456343, 67.36825710106191, 88.0296844786426, 303.09975504500727, 27.928597898822122, 130.09957077442962, 217.93137741074108, 228.40442117529534, 45.17215491060187, 29.651329522200218, 475.3023441089991, 184.63952412235605, 259.84806163896684, 49.24637059947865, 107.91342135701561, 251.64501641100458, 44.20107293729673, 9265.532200082522, 70.6991005120994, 54.54251831209677, 1318.6949270903192, 44.997618915944955, 365.5971412618616, 68.95089444743118, 443.09514038668345, 737.4680692751683, 347.2426077990787, 176.09610759254278, 176.56537761871712, 501.26670290441245, 1033.6490460293762, 878.6912010180694, 262.64964273806817, 2215.5272352076468, 329.4382470778911, 3135.6454487005603, 85.84448203803278, 56.132525353522546, 29.498051056426714, 26.395831144593433, 44.466022974566556, 18.71622976862023, 16.734546216772923, 15.90892394172412, 15.738812313598292, 291.10117561719693, 308.94421780144023, 72.34550250733882, 13.932464705432993, 13.07188065533804, 12.496475178415274, 12.909732283152264, 10.899041834568198, 9.961518675745419, 9.047790670372102, 8.720105063063684, 8.61649437219209, 47.244807803481905, 7.859860084254984, 29.819310954720375, 7.499244339166875, 215.76223157588612, 25.44268193916045, 17.902141394489163, 20.343397668887615, 16.186761657345535, 268.8512810902457, 27.157136665008377, 187.8308952303625, 93.75827141647838, 189.1652870050815, 328.12852243376955, 241.03655334699292, 68.64153100798507, 94.59730324053434, 111.01888014379549, 332.04129380555054, 72.99851824562316, 298.16961859787455, 45.68430391447645, 149.60545611522645, 134.2771915457702, 77.9092812299606, 389.7612590501746, 365.5971412618616, 584.5587408649567, 1033.6490460293762, 9265.532200082522, 561.0216924102449, 288.73550640887925, 127.38183747098893, 737.4680692751683, 172.57850712901416, 1318.6949270903192, 1975.0909418923663, 215.0562699658009, 27.33509656294615, 22.531418798964488, 15.467690216091887, 14.639538728733049, 52.38452807575192, 10.363224163356826, 10.158776513032938, 9.416284205623331, 8.995552073235206, 491.8572563844646, 25.06646395089406, 8.012601538332623, 7.558715887990089, 7.302942608431702, 7.084385410998639, 7.046357034899943, 7.000334300270756, 6.92057178651986, 6.757392064835628, 6.297705602878978, 6.154716374897096, 6.133155090425075, 5.995093337926169, 5.84480709499617, 6.147623463905518, 5.177365319871301, 4.91378460292192, 4.768592267688814, 42.610645980332784, 18.77817456277156, 90.4781901022408, 281.18994251069364, 119.10193628706034, 34.61413703056583, 293.6713975376411, 100.37200577286393, 41.36851524637304, 202.29201625184447, 39.27297040956526, 67.3986269503626, 139.8385693734532, 16.609071948271374, 164.53435135468416, 119.92135092815394, 2215.5272352076468, 91.86873611336092, 16.389886447280784, 48.49810381942671, 1318.6949270903192, 159.74072101528222, 295.8333280483822, 1975.0909418923663, 9265.532200082522, 2120.429508714559, 443.09514038668345, 519.2737161172719, 227.00066795791034, 282.3428366467717, 259.84806163896684, 878.6912010180694, 681.2537234100926, 2944.3947712628133, 475.3023441089991, 737.4680692751683, 561.0216924102449, 996.1105374873385, 55.84212626884752, 29.595571802041178, 47.23016353061412, 15.727719804594043, 11.729012459153253, 11.208027569389166, 10.478899483156976, 9.78708341778118, 9.495753916515103, 27.822622522904098, 6.870808994069847, 6.418665511010861, 5.3602898729410695, 252.5103521553086, 4.989893171506336, 28.257684710582595, 4.211585015240009, 4.110949252465791, 20.550555740261455, 3.550729705725447, 3.3685550981167456, 3.0307026653432954, 6.289790672249744, 2.598265555518616, 2.565697315448094, 2.4859461767261757, 70.69609305364038, 2944.3947712628133, 3491.408238310975, 3.178734715926249, 706.2444986432689, 2120.429508714559, 226.7257680999925, 205.86914142801533, 561.0216924102449, 224.41858640645495, 9265.532200082522, 2215.5272352076468, 97.85938845477955, 1975.0909418923663, 85.01363206898652, 215.2397886326116, 159.70758218884717, 220.42270754970434, 258.07204435774463, 191.64336923925575, 72.9802703937796, 663.6220471410693, 195.83525052316432, 996.1105374873385, 148.79151537498606, 3135.6454487005603, 20.338929547853617, 16.116683558702118, 15.989534991590082, 15.55548826454102, 12.551898423974187, 10.216845597767426, 9.608744804299684, 9.522552451866016, 9.45805540835846, 14.667558105723373, 7.968702612702409, 7.476363277306686, 7.47636417008322, 7.417179207006269, 7.358922869010223, 7.331052329448825, 6.917522872680677, 6.9248391291899365, 6.814066210913025, 6.036724068469712, 5.695118069040752, 5.397914157167104, 5.312578964976152, 5.032756292477618, 7.994788023065198, 4.665760005346939, 4.613514560557056, 27.1447536718834, 17.73227349249115, 23.587389882190614, 663.6220471410693, 18.368075212501545, 2944.3947712628133, 13.746673591562466, 753.5339497433655, 586.2623575420387, 706.2444986432689, 14.946608721431886, 9265.532200082522, 18.248180160274195, 2215.5272352076468, 75.8751714061206, 1975.0909418923663, 438.31724921157297, 100.37200577286393, 195.83525052316432, 834.6398324651051, 176.56537761871712, 68.76552041996057, 164.53435135468416, 2120.429508714559, 293.6713975376411, 347.2426077990787, 96.99542124763721, 78.86589037671106, 67.6406378932922, 39.63097633374202, 46.02583059871097, 34.689704295547564, 24.41478303473713, 24.157607450604708, 22.07251405354128, 21.655914181244047, 19.75941519025408, 18.566878383099468, 29.42910462546573, 16.367561543450638, 16.139346467134875, 13.144373957007419, 12.128106798081443, 12.052088026718186, 11.987534065950088, 194.0496750157241, 11.473207423273184, 12.631975275647378, 10.922011294312673, 41.62961938549062, 10.268060419192407, 9.873792877058687, 9.435223024817036, 8.742159661231117, 8.431256780749383, 8.353475579861126, 8.250366923258637, 8.229082002635252, 85.78666713172741, 11.168357717161653, 57.559952175561875, 65.85041927436858, 44.81337960982986, 55.95776351415785, 23.37477034336856, 119.85184274925834, 57.391329067014766, 116.83872809355465, 295.8333280483822, 31.563759525102025, 220.42270754970434, 213.29283980586715, 193.47877702512253, 310.36864332649156, 176.56537761871712, 224.41858640645495, 9265.532200082522, 175.8144714256932, 2120.429508714559, 1033.6490460293762, 75.44683189406514, 226.7257680999925, 116.23791199138726, 586.026800569364, 355.7091393922983, 1975.0909418923663, 2215.5272352076468, 996.1105374873385, 663.6220471410693, 561.0216924102449, 505.4288033668166, 332.04129380555054, 60.6806165898075, 31.385747273255156, 29.724583881014357, 22.631947811517286, 53.21122033467451, 191.06456693747066, 20.857587588476747, 21.00014346668741, 16.371095696626274, 16.012356658623325, 21.420159896912185, 15.4408812144727, 24.98175254263795, 14.376272344996167, 193.3031538546652, 13.579690872440434, 13.290073053840139, 12.702864608439452, 16.090952173377634, 12.469370920570604, 18.86837847241163, 9.330104382529983, 9.04638420727032, 8.951280645192437, 8.520423121024146, 8.475001684126866, 7.813218296932248, 7.703184028770631, 7.406327208120956, 7.34802456953287, 62.33234718742409, 586.026800569364, 19.516514059703255, 59.56265783266731, 258.07204435774463, 1318.6949270903192, 46.12092635148381, 151.0122643855161, 159.70758218884717, 97.85938845477955, 81.99897248214043, 329.4382470778911, 86.43311018229333, 834.6398324651051, 9265.532200082522, 49.02763320235794, 85.01363206898652, 996.1105374873385, 75.8751714061206, 2120.429508714559, 329.95197854916887, 116.03448973253191, 1975.0909418923663, 561.0216924102449, 282.3550558804112, 2215.5272352076468, 706.2444986432689, 1033.6490460293762, 184.63952412235605, 2944.3947712628133, 681.2537234100926, 105.84976561636839, 24.041024537678002, 15.985257177895766, 14.280789076429032, 17.472250922847653, 12.34777142631979, 11.648160828148958, 10.523891871530958, 9.996525550459829, 9.541983700452281, 8.746699113857822, 7.345170129428113, 11.596973449377552, 144.59066588552247, 6.542271985375619, 21.253665523996688, 33.87132676067896, 5.56048213297944, 5.39601860111723, 26.646580724135884, 5.321010940858055, 5.061246319225651, 17.449032110420756, 13.073133027370252, 90.61040028620171, 10.264848082737126, 3.6944087127618186, 3.4537546305006055, 53.94002157757536, 5.291798459537685, 204.20126696681731, 734.0634408220526, 95.4034207933743, 299.1162482368566, 74.29520260292449, 41.31672190340765, 474.18891183000335, 33.314957778918235, 2215.5272352076468, 438.31724921157297, 878.6912010180694, 282.3428366467717, 2120.429508714559, 9265.532200082522, 1975.0909418923663, 234.43604090636285, 737.4680692751683, 102.37067239907766, 88.87036886063147, 2944.3947712628133, 519.2737161172719, 1318.6949270903192, 159.74072101528222, 996.1105374873385, 224.41858640645495, 224.88580910002847, 706.2444986432689, 137.88688607775438, 329.95197854916887, 281.18994251069364, 32.52865714295028, 32.396188512962695, 27.79108758754459, 22.078980131439575, 20.376660053690276, 19.791062744017673, 18.75652912262836, 18.734385666252543, 21.858456102072655, 16.075538561339872, 15.957275342176157, 14.61959569251296, 15.228493803808295, 14.33421126754069, 14.064416980661852, 13.59553777218034, 34.45357854762458, 12.624375576073291, 12.47854572751691, 12.007406432411356, 11.147303986296194, 11.076478971378318, 10.73348191594652, 10.58609714097148, 9.712413892619068, 9.513225957677163, 9.002660120121195, 8.883585591780543, 8.496372453898616, 24.044686686017936, 36.820974469778406, 481.21461780339945, 171.08205611412745, 262.7328849726307, 52.74421317900898, 50.298425133846294, 57.71353824979764, 78.86589037671106, 20.675964134332958, 37.897549621432496, 102.95066249735655, 251.64501641100458, 86.12709122936036, 86.88705366344918, 34.85967846028133, 9265.532200082522, 183.62762358536128, 65.36116430925608, 347.2426077990787, 681.2537234100926, 176.09610759254278, 329.4382470778911, 80.10700890554298, 159.74072101528222, 293.86505578692663, 146.28307202783526, 186.10333651818425, 1975.0909418923663, 333.3422928883967, 209.54367082182497, 878.6912010180694, 996.1105374873385, 1318.6949270903192, 1033.6490460293762, 232.82289322590984, 104.67429021653858, 54.71799329857414, 242.24037844806654, 26.457278876653792, 24.996763730185226, 27.320886910494956, 29.329435621632094, 21.21529513383178, 17.5698409859215, 18.28948377483905, 14.186025605488721, 13.47870582416478, 14.238336206059472, 10.498005733818784, 10.18473127536091, 10.043008084309829, 9.799246829420532, 9.36081388965365, 19.55402885801007, 173.27856874109335, 8.426091221745716, 7.952250821080101, 7.806973209989121, 7.277271907092505, 6.92851212287776, 13.687546138671625, 12.638178916906224, 6.418512249725621, 6.241479438851645, 6.077127408155907, 141.62026685835522, 92.46482897363232, 27.963960435674153, 22.496687432116737, 584.5587408649567, 52.85936712370227, 209.27173540144568, 81.30629192576201, 193.47877702512253, 30.08032149808646, 1033.6490460293762, 84.72362094963735, 64.85342998086172, 127.38183747098893, 134.2771915457702, 148.79151537498606, 42.60167638674724, 333.3422928883967, 329.95197854916887, 9265.532200082522, 878.6912010180694, 72.82722099252081, 186.10333651818425, 193.4402785040409, 228.40442117529534, 389.7612590501746, 2215.5272352076468, 2944.3947712628133, 2120.429508714559, 332.04129380555054, 1975.0909418923663, 586.026800569364, 195.83525052316432, 438.31724921157297, 133.92246386398295, 43.24355332805976, 54.666666579006915, 51.295093984758104, 387.68249204224634, 26.43659219849561, 25.092352728048553, 105.56940582528883, 23.92904223693524, 95.13966661449452, 26.775403357977886, 159.468209877831, 19.562647125290482, 18.598592568096517, 18.313776742009956, 17.686156874748054, 15.516355051943693, 32.83671073408721, 14.916252732030872, 14.466672373131576, 13.455946145861919, 12.417532976627543, 12.324508830170183, 12.266024935805033, 10.176526457269219, 10.288839726449481, 16.28154157572647, 9.377626201310017, 8.794508767718884, 8.085308264246198, 14.672383316417566, 484.2711998526145, 27.872439282812724, 262.64964273806817, 19.957089088154884, 501.26670290441245, 152.0527877571515, 187.58268700304552, 148.15859575266117, 39.82840488069057, 69.40288240818434, 162.9601094378221, 443.09514038668345, 288.73550640887925, 23.61844380653363, 63.092815948231575, 110.97867044494033, 9265.532200082522, 174.8007464906496, 878.6912010180694, 91.86873611336092, 116.50843081602184, 681.2537234100926, 113.45641709996966, 1033.6490460293762, 474.18891183000335, 186.10333651818425, 389.7612590501746, 2557.325026361892, 12.693985967026691, 337.9638969301266, 8.13879292199695, 9.161684313527498, 4.4209319373179765, 4.224901093718192, 99.68993623339436, 311.2934911348076, 137.88688607775438, 3.3675065594441835, 3.3466198060573995, 199.12678111623777, 1.4779910227914406, 1.4782321747880136, 1.476324470341559, 1.4744217597723255, 1.462638406742309, 49.744171721829396, 9.365668387844021, 209.54367082182497, 663.6220471410693, 19.898240596727476, 17.50970620041868, 3491.408238310975, 878.6912010180694, 734.0634408220526, 26.93785790914875, 215.2397886326116, 9265.532200082522, 2215.5272352076468, 2120.429508714559, 737.4680692751683, 1975.0909418923663, 438.31724921157297, 519.2737161172719, 2944.3947712628133, 14.705331240808786, 13.68254079821257, 11.294176444676076, 11.13881968360086, 10.828601239476162, 10.75639598640484, 10.243374160822887, 9.957416753452987, 9.299843131228636, 9.265471642452797, 15.178313395599794, 9.107084419936914, 8.997267033426462, 8.635335947121867, 8.277989022292026, 8.19096277285181, 7.398088858489502, 28.705094195598544, 5.849598511816129, 5.823405308291745, 18.033687672083406, 5.6652031620675425, 4.799558160326678, 4.631716957157183, 4.609372134879379, 4.41580803144032, 3.9331398947884115, 3.893906559787958, 26.915529289337062, 225.42142647107892, 834.6398324651051, 586.2623575420387, 753.5339497433655, 35.154357030681396, 224.88580910002847, 3491.408238310975, 46.59344996608737, 24.069538186451673, 11.721013096994652, 151.0122643855161, 737.4680692751683, 43.86822744020108, 29.551354358411032, 299.1162482368566, 227.00066795791034, 1318.6949270903192, 706.2444986432689, 49.13962819370536, 9265.532200082522, 85.01363206898652, 1975.0909418923663, 81.99897248214043, 209.54367082182497, 95.77049784133513, 37.626396259336005, 38.583047024987536, 324.522648886163, 32.38975746304991, 30.657713783827106, 30.87431638538798, 21.601583297239774, 18.49165131872299, 16.827548580913895, 16.66533357131227, 15.07176814592755, 26.008417781028022, 13.23939421474278, 11.965455019282885, 11.733250498573904, 11.715236958239515, 64.05599988196667, 10.633683465925538, 10.439223506951226, 10.465637862067013, 10.230501870804211, 9.442832827976357, 8.579449427262803, 8.411232425168402, 23.57796925382572, 27.136011563265455, 5.886077739560455, 5.699494810064965, 15.375831901501542, 18.427928300097022, 42.4280661077752, 104.9516144207399, 54.055183428113395, 175.24399219723432, 54.29335651136172, 355.7091393922983, 50.242602124083135, 681.2537234100926, 232.82289322590984, 150.56814638851145, 103.0842313994644, 86.82003438479275, 1033.6490460293762, 9265.532200082522, 878.6912010180694, 1975.0909418923663, 54.32796735042221, 175.8144714256932, 72.9802703937796, 298.16961859787455, 584.5587408649567, 282.3550558804112, 89.81111076120455, 24.83895591130135, 13.884944883143106, 13.167064350006008, 97.55164415716807, 9.646213785648552, 9.294385511399872, 8.647584632652862, 109.30271821053434, 83.11501210668523, 6.346731694863319, 20.63447891270009, 112.74100437871239, 116.45361757695017, 359.70377929412706, 19.071119624929338, 4.206641901555593, 19.024543927213465, 3.9858472360618107, 3.8056595412559218, 22.452665634267884, 68.76552041996057, 30.259446870282062, 10.113021130920007, 97.95271577577672, 57.89909015520681, 10.076371322719059, 204.76730900576501, 18.80658604237443, 41.75884864483844, 148.79151537498606, 113.45641709996966, 156.64018072655256, 215.0562699658009, 74.78409513615284, 35.179479953829286, 1975.0909418923663, 116.03448973253191, 227.00066795791034, 282.3550558804112, 215.2397886326116, 133.89005391368272, 9265.532200082522, 2120.429508714559, 88.45646440790885, 2215.5272352076468, 561.0216924102449, 209.27173540144568, 146.28307202783526, 333.3422928883967, 102.7648750563728, 20.16804889713739, 25.575023451749054, 18.655277183646877, 17.078982133864315, 16.32205574504306, 21.150268792471106, 13.408435227714806, 13.380186801156485, 11.414054087004297, 11.151928484005024, 16.80162503792848, 10.786488729448104, 9.708906433913045, 9.505976471172078, 9.133810861089918, 47.46846568357408, 8.312703266634166, 7.883778195644234, 23.91358392068237, 7.756447429586076, 7.562316623710786, 7.155855222265176, 7.142612500769985, 7.061515469874801, 25.963664260207537, 6.566015418848333, 9.498507903836682, 6.187845589959169, 6.186703499963896, 44.71998124072836, 48.6725910225008, 87.92345721096262, 25.733477043045582, 38.51361737605434, 88.82991151260876, 31.689746652995176, 47.2895030952016, 116.50843081602184, 20.66785105193589, 107.94826096611, 156.64018072655256, 99.32979692749934, 26.51419494099813, 62.69282007305839, 95.77049784133513, 39.06881796568904, 51.97286630086567, 83.25658562746285, 195.83525052316432, 58.27660612210525, 79.62430513517123, 737.4680692751683, 298.16961859787455, 1975.0909418923663, 329.95197854916887, 474.18891183000335, 2120.429508714559, 9265.532200082522, 282.3428366467717, 128.36210006390246, 996.1105374873385, 189.1652870050815, 365.5971412618616, 161.09140016514215, 43.98797454219385, 23.682677661984606, 21.61176989745962, 21.39253408985715, 19.84467944277317, 19.26629709163995, 20.633726777019938, 569.329749322054, 10.61783285539119, 27.063774333769793, 9.139760994002282, 30.954731038121416, 6.0192344501102735, 5.916348170041846, 6.714311477043876, 43.54833306860212, 28.196672752817904, 4.591151594345494, 30.05827140360802, 4.321348643321628, 4.323867556075161, 48.54328283499551, 3.957728759677512, 21.289618189711728, 3.7399641619333033, 39.29667064003699, 63.61269961116259, 2.8035637593698044, 2.7891839475034907, 98.991004686791, 293.86505578692663, 68.51964528921529, 128.36210006390246, 519.2737161172719, 31.63937102252004, 33.299531869772146, 236.49934382738553, 187.58268700304552, 15.947740393463166, 67.40725909878913, 88.6191461782906, 191.64336923925575, 347.2426077990787, 67.91517881673929, 438.31724921157297, 9265.532200082522, 474.18891183000335, 681.2537234100926, 365.5971412618616, 67.51124165404676, 225.42142647107892, 734.0634408220526, 184.74500813290265, 129.8983275520568, 76.77251525064847, 33.79807364998314, 30.675880861719158, 20.046270260479414, 13.49941362787432, 12.712687374713383, 11.392675084881338, 10.684846672255901, 33.433873251398694, 15.346313147897437, 15.246142539914992, 8.725751193883239, 8.370271634022318, 8.281419416825786, 7.839950162503308, 7.581936838737033, 6.279171954548936, 6.14970773704799, 5.95362666955663, 27.526396481523616, 5.213056788058099, 5.103129375527053, 12.707856943571898, 3.938689952097773, 3.8228926571999846, 13.05470126225441, 11.673924970652774, 21.972005281283575, 174.8007464906496, 53.680646428626844, 996.1105374873385, 193.4402785040409, 80.16918494243947, 45.07253640688472, 55.89723565803779, 32.63404131722504, 28.579741798269602, 293.86505578692663, 2120.429508714559, 32.51388134075687, 501.26670290441245, 106.2224356635747, 65.22704670916275, 70.1589265497286, 561.0216924102449, 9265.532200082522, 311.2934911348076, 164.53435135468416, 333.3422928883967, 328.12852243376955, 110.97867044494033, 56.57431258580523, 26.079295854856394, 24.838268014956867, 39.548282699696905, 16.030720071006574, 135.7963417134831, 10.298950654644075, 10.060396410218674, 9.624953064427267, 8.016064978866014, 7.436368730795832, 6.179935758146672, 6.088031384594002, 80.96679423858933, 4.967547088755691, 111.59695062861921, 4.629527225039483, 4.117512655175539, 505.4288033668166, 18.40165922938203, 90.64287145246881, 13.224869176908731, 3.6244066126542425, 3.568391293510879, 3.4453474130129718, 12.927132101065219, 2.920378150901585, 4.8085859819895, 2.841476637765034, 2.8414753492123905, 41.635358194076304, 172.57850712901416, 81.88843818373203, 234.43604090636285, 177.460225419918, 310.36864332649156, 43.32995260853728, 36.95314050101154, 31.166419647812848, 61.49776144634359, 49.133206937389545, 9265.532200082522, 282.3550558804112, 706.2444986432689, 47.25129547252191, 61.769937385278055, 663.6220471410693, 561.0216924102449, 224.88580910002847, 204.76730900576501, 333.3422928883967, 734.0634408220526, 91.24425445012608, 288.89468119917035, 32.5332729069722, 29.37596476611575, 129.78980683528465, 24.0175936002133, 25.013156306811442, 17.20479321628382, 14.569609630262898, 14.528260745555622, 253.03165632481534, 14.06349308903978, 13.736896665239666, 31.688599886185365, 13.3934191950759, 13.324769810943401, 10.603114360621507, 10.14769574093979, 9.693024272600008, 9.206907105006227, 9.150343214502563, 26.568018905474265, 7.683102833907168, 7.678156018529608, 7.512718057039651, 6.871685241407081, 6.835193941487423, 7.0837850517454, 6.699858193736269, 6.485677025097474, 11.502443120509875, 85.67425046920016, 27.06590844896632, 12.280577168752888, 66.60521045748973, 35.76059221221198, 16.937373805478522, 43.58273781471146, 76.18166405237157, 35.899444862162774, 28.648232404573058, 49.74370747582303, 29.71437297520843, 49.13962819370536, 236.49934382738553, 9265.532200082522, 1975.0909418923663, 355.7091393922983, 737.4680692751683, 209.54367082182497, 2944.3947712628133, 333.3422928883967], \"Category\": [\"Default\", \"Default\", \"Default\", \"Default\", \"Default\", \"Default\", \"Default\", \"Default\", \"Default\", \"Default\", \"Default\", \"Default\", \"Default\", \"Default\", \"Default\", \"Default\", \"Default\", \"Default\", \"Default\", \"Default\", \"Default\", \"Default\", \"Default\", \"Default\", \"Default\", \"Default\", \"Default\", \"Default\", \"Default\", \"Default\", \"Topic1\", \"Topic1\", \"Topic1\", \"Topic1\", \"Topic1\", \"Topic1\", \"Topic1\", \"Topic1\", \"Topic1\", \"Topic1\", \"Topic1\", \"Topic1\", \"Topic1\", \"Topic1\", \"Topic1\", \"Topic1\", \"Topic1\", \"Topic1\", \"Topic1\", \"Topic1\", \"Topic1\", \"Topic1\", \"Topic1\", \"Topic1\", \"Topic1\", \"Topic1\", \"Topic1\", \"Topic1\", \"Topic1\", \"Topic1\", \"Topic1\", \"Topic1\", \"Topic1\", \"Topic1\", \"Topic1\", \"Topic1\", \"Topic1\", \"Topic1\", \"Topic1\", \"Topic1\", \"Topic1\", \"Topic1\", \"Topic1\", \"Topic1\", \"Topic1\", \"Topic1\", \"Topic1\", \"Topic1\", \"Topic1\", \"Topic1\", \"Topic1\", \"Topic1\", \"Topic1\", \"Topic1\", \"Topic1\", \"Topic1\", \"Topic1\", \"Topic1\", \"Topic1\", \"Topic1\", \"Topic1\", \"Topic1\", \"Topic1\", \"Topic1\", \"Topic1\", \"Topic1\", \"Topic1\", \"Topic2\", \"Topic2\", \"Topic2\", \"Topic2\", \"Topic2\", \"Topic2\", \"Topic2\", \"Topic2\", \"Topic2\", \"Topic2\", \"Topic2\", \"Topic2\", \"Topic2\", \"Topic2\", \"Topic2\", \"Topic2\", \"Topic2\", \"Topic2\", \"Topic2\", \"Topic2\", \"Topic2\", \"Topic2\", \"Topic2\", \"Topic2\", \"Topic2\", \"Topic2\", \"Topic2\", \"Topic2\", \"Topic2\", \"Topic2\", \"Topic2\", \"Topic2\", \"Topic2\", \"Topic2\", \"Topic2\", \"Topic2\", \"Topic2\", \"Topic2\", \"Topic2\", \"Topic2\", \"Topic2\", \"Topic2\", \"Topic2\", \"Topic2\", \"Topic2\", \"Topic2\", \"Topic2\", \"Topic2\", \"Topic2\", \"Topic2\", \"Topic2\", \"Topic2\", \"Topic2\", \"Topic2\", \"Topic2\", \"Topic2\", \"Topic2\", \"Topic2\", \"Topic2\", \"Topic2\", \"Topic3\", \"Topic3\", \"Topic3\", \"Topic3\", \"Topic3\", \"Topic3\", \"Topic3\", \"Topic3\", \"Topic3\", \"Topic3\", \"Topic3\", \"Topic3\", \"Topic3\", \"Topic3\", \"Topic3\", \"Topic3\", \"Topic3\", \"Topic3\", \"Topic3\", \"Topic3\", \"Topic3\", \"Topic3\", \"Topic3\", \"Topic3\", \"Topic3\", \"Topic3\", \"Topic3\", \"Topic3\", \"Topic3\", \"Topic3\", \"Topic3\", \"Topic3\", \"Topic3\", \"Topic3\", \"Topic3\", \"Topic3\", \"Topic3\", \"Topic3\", \"Topic3\", \"Topic3\", \"Topic3\", \"Topic3\", \"Topic3\", \"Topic3\", \"Topic3\", \"Topic3\", \"Topic3\", \"Topic3\", \"Topic3\", \"Topic3\", \"Topic3\", \"Topic3\", \"Topic3\", \"Topic3\", \"Topic3\", \"Topic3\", \"Topic3\", \"Topic3\", \"Topic3\", \"Topic3\", \"Topic3\", \"Topic3\", \"Topic3\", \"Topic3\", \"Topic3\", \"Topic3\", \"Topic4\", \"Topic4\", \"Topic4\", \"Topic4\", \"Topic4\", \"Topic4\", \"Topic4\", \"Topic4\", \"Topic4\", \"Topic4\", \"Topic4\", \"Topic4\", \"Topic4\", \"Topic4\", \"Topic4\", \"Topic4\", \"Topic4\", \"Topic4\", \"Topic4\", \"Topic4\", \"Topic4\", \"Topic4\", \"Topic4\", \"Topic4\", \"Topic4\", \"Topic4\", \"Topic4\", \"Topic4\", \"Topic4\", \"Topic4\", \"Topic4\", \"Topic4\", \"Topic4\", \"Topic4\", \"Topic4\", \"Topic4\", \"Topic4\", \"Topic4\", \"Topic4\", \"Topic4\", \"Topic4\", \"Topic4\", \"Topic4\", \"Topic4\", \"Topic4\", \"Topic4\", \"Topic4\", \"Topic4\", \"Topic4\", \"Topic4\", \"Topic4\", \"Topic5\", \"Topic5\", \"Topic5\", \"Topic5\", \"Topic5\", \"Topic5\", \"Topic5\", \"Topic5\", \"Topic5\", \"Topic5\", \"Topic5\", \"Topic5\", \"Topic5\", \"Topic5\", \"Topic5\", \"Topic5\", \"Topic5\", \"Topic5\", \"Topic5\", \"Topic5\", \"Topic5\", \"Topic5\", \"Topic5\", \"Topic5\", \"Topic5\", \"Topic5\", \"Topic5\", \"Topic5\", \"Topic5\", \"Topic5\", \"Topic5\", \"Topic5\", \"Topic5\", \"Topic5\", \"Topic5\", \"Topic5\", \"Topic5\", \"Topic5\", \"Topic5\", \"Topic5\", \"Topic5\", \"Topic5\", \"Topic5\", \"Topic5\", \"Topic5\", \"Topic5\", \"Topic5\", \"Topic5\", \"Topic5\", \"Topic5\", \"Topic5\", \"Topic5\", \"Topic5\", \"Topic5\", \"Topic5\", \"Topic5\", \"Topic6\", \"Topic6\", \"Topic6\", \"Topic6\", \"Topic6\", \"Topic6\", \"Topic6\", \"Topic6\", \"Topic6\", \"Topic6\", \"Topic6\", \"Topic6\", \"Topic6\", \"Topic6\", \"Topic6\", \"Topic6\", \"Topic6\", \"Topic6\", \"Topic6\", \"Topic6\", \"Topic6\", \"Topic6\", \"Topic6\", \"Topic6\", \"Topic6\", \"Topic6\", \"Topic6\", \"Topic6\", \"Topic6\", \"Topic6\", \"Topic6\", \"Topic6\", \"Topic6\", \"Topic6\", \"Topic6\", \"Topic6\", \"Topic6\", \"Topic6\", \"Topic6\", \"Topic6\", \"Topic6\", \"Topic6\", \"Topic6\", \"Topic6\", \"Topic6\", \"Topic6\", \"Topic6\", \"Topic6\", \"Topic6\", \"Topic6\", \"Topic6\", \"Topic6\", \"Topic6\", \"Topic6\", \"Topic6\", \"Topic6\", \"Topic6\", \"Topic6\", \"Topic6\", \"Topic6\", \"Topic6\", \"Topic6\", \"Topic6\", \"Topic6\", \"Topic7\", \"Topic7\", \"Topic7\", \"Topic7\", \"Topic7\", \"Topic7\", \"Topic7\", \"Topic7\", \"Topic7\", \"Topic7\", \"Topic7\", \"Topic7\", \"Topic7\", \"Topic7\", \"Topic7\", \"Topic7\", \"Topic7\", \"Topic7\", \"Topic7\", \"Topic7\", \"Topic7\", \"Topic7\", \"Topic7\", \"Topic7\", \"Topic7\", \"Topic7\", \"Topic7\", \"Topic7\", \"Topic7\", \"Topic7\", \"Topic7\", \"Topic7\", \"Topic7\", \"Topic7\", \"Topic7\", \"Topic7\", \"Topic7\", \"Topic7\", \"Topic7\", \"Topic7\", \"Topic7\", \"Topic7\", \"Topic7\", \"Topic7\", \"Topic7\", \"Topic7\", \"Topic7\", \"Topic7\", \"Topic7\", \"Topic7\", \"Topic7\", \"Topic7\", \"Topic7\", \"Topic7\", \"Topic7\", \"Topic7\", \"Topic7\", \"Topic7\", \"Topic7\", \"Topic7\", \"Topic7\", \"Topic8\", \"Topic8\", \"Topic8\", \"Topic8\", \"Topic8\", \"Topic8\", \"Topic8\", \"Topic8\", \"Topic8\", \"Topic8\", \"Topic8\", \"Topic8\", \"Topic8\", \"Topic8\", \"Topic8\", \"Topic8\", \"Topic8\", \"Topic8\", \"Topic8\", \"Topic8\", \"Topic8\", \"Topic8\", \"Topic8\", \"Topic8\", \"Topic8\", \"Topic8\", \"Topic8\", \"Topic8\", \"Topic8\", \"Topic8\", \"Topic8\", \"Topic8\", \"Topic8\", \"Topic8\", \"Topic8\", \"Topic8\", \"Topic8\", \"Topic8\", \"Topic8\", \"Topic8\", \"Topic8\", \"Topic8\", \"Topic8\", \"Topic8\", \"Topic8\", \"Topic8\", \"Topic8\", \"Topic8\", \"Topic8\", \"Topic8\", \"Topic8\", \"Topic8\", \"Topic8\", \"Topic8\", \"Topic8\", \"Topic8\", \"Topic8\", \"Topic8\", \"Topic8\", \"Topic8\", \"Topic9\", \"Topic9\", \"Topic9\", \"Topic9\", \"Topic9\", \"Topic9\", \"Topic9\", \"Topic9\", \"Topic9\", \"Topic9\", \"Topic9\", \"Topic9\", \"Topic9\", \"Topic9\", \"Topic9\", \"Topic9\", \"Topic9\", \"Topic9\", \"Topic9\", \"Topic9\", \"Topic9\", \"Topic9\", \"Topic9\", \"Topic9\", \"Topic9\", \"Topic9\", \"Topic9\", \"Topic9\", \"Topic9\", \"Topic9\", \"Topic9\", \"Topic9\", \"Topic9\", \"Topic9\", \"Topic9\", \"Topic9\", \"Topic9\", \"Topic9\", \"Topic9\", \"Topic9\", \"Topic9\", \"Topic9\", \"Topic9\", \"Topic9\", \"Topic9\", \"Topic9\", \"Topic9\", \"Topic9\", \"Topic9\", \"Topic9\", \"Topic9\", \"Topic9\", \"Topic9\", \"Topic9\", \"Topic9\", \"Topic9\", \"Topic9\", \"Topic9\", \"Topic9\", \"Topic9\", \"Topic9\", \"Topic9\", \"Topic9\", \"Topic9\", \"Topic9\", \"Topic10\", \"Topic10\", \"Topic10\", \"Topic10\", \"Topic10\", \"Topic10\", \"Topic10\", \"Topic10\", \"Topic10\", \"Topic10\", \"Topic10\", \"Topic10\", \"Topic10\", \"Topic10\", \"Topic10\", \"Topic10\", \"Topic10\", \"Topic10\", \"Topic10\", \"Topic10\", \"Topic10\", \"Topic10\", \"Topic10\", \"Topic10\", \"Topic10\", \"Topic10\", \"Topic10\", \"Topic10\", \"Topic10\", \"Topic10\", \"Topic10\", \"Topic10\", \"Topic10\", \"Topic10\", \"Topic10\", \"Topic10\", \"Topic10\", \"Topic10\", \"Topic10\", \"Topic10\", \"Topic10\", \"Topic10\", \"Topic10\", \"Topic10\", \"Topic10\", \"Topic10\", \"Topic10\", \"Topic10\", \"Topic10\", \"Topic10\", \"Topic10\", \"Topic10\", \"Topic10\", \"Topic10\", \"Topic10\", \"Topic10\", \"Topic10\", \"Topic10\", \"Topic10\", \"Topic10\", \"Topic10\", \"Topic10\", \"Topic10\", \"Topic10\", \"Topic11\", \"Topic11\", \"Topic11\", \"Topic11\", \"Topic11\", \"Topic11\", \"Topic11\", \"Topic11\", \"Topic11\", \"Topic11\", \"Topic11\", \"Topic11\", \"Topic11\", \"Topic11\", \"Topic11\", \"Topic11\", \"Topic11\", \"Topic11\", \"Topic11\", \"Topic11\", \"Topic11\", \"Topic11\", \"Topic11\", \"Topic11\", \"Topic11\", \"Topic11\", \"Topic11\", \"Topic11\", \"Topic11\", \"Topic11\", \"Topic11\", \"Topic11\", \"Topic11\", \"Topic11\", \"Topic11\", \"Topic11\", \"Topic11\", \"Topic11\", \"Topic11\", \"Topic11\", \"Topic11\", \"Topic11\", \"Topic11\", \"Topic11\", \"Topic11\", \"Topic11\", \"Topic11\", \"Topic11\", \"Topic11\", \"Topic11\", \"Topic11\", \"Topic11\", \"Topic11\", \"Topic11\", \"Topic11\", \"Topic11\", \"Topic11\", \"Topic11\", \"Topic12\", \"Topic12\", \"Topic12\", \"Topic12\", \"Topic12\", \"Topic12\", \"Topic12\", \"Topic12\", \"Topic12\", \"Topic12\", \"Topic12\", \"Topic12\", \"Topic12\", \"Topic12\", \"Topic12\", \"Topic12\", \"Topic12\", \"Topic12\", \"Topic12\", \"Topic12\", \"Topic12\", \"Topic12\", \"Topic12\", \"Topic12\", \"Topic12\", \"Topic12\", \"Topic12\", \"Topic12\", \"Topic12\", \"Topic12\", \"Topic12\", \"Topic12\", \"Topic12\", \"Topic12\", \"Topic12\", \"Topic12\", \"Topic12\", \"Topic13\", \"Topic13\", \"Topic13\", \"Topic13\", \"Topic13\", \"Topic13\", \"Topic13\", \"Topic13\", \"Topic13\", \"Topic13\", \"Topic13\", \"Topic13\", \"Topic13\", \"Topic13\", \"Topic13\", \"Topic13\", \"Topic13\", \"Topic13\", \"Topic13\", \"Topic13\", \"Topic13\", \"Topic13\", \"Topic13\", \"Topic13\", \"Topic13\", \"Topic13\", \"Topic13\", \"Topic13\", \"Topic13\", \"Topic13\", \"Topic13\", \"Topic13\", \"Topic13\", \"Topic13\", \"Topic13\", \"Topic13\", \"Topic13\", \"Topic13\", \"Topic13\", \"Topic13\", \"Topic13\", \"Topic13\", \"Topic13\", \"Topic13\", \"Topic13\", \"Topic13\", \"Topic13\", \"Topic13\", \"Topic13\", \"Topic13\", \"Topic13\", \"Topic13\", \"Topic13\", \"Topic13\", \"Topic14\", \"Topic14\", \"Topic14\", \"Topic14\", \"Topic14\", \"Topic14\", \"Topic14\", \"Topic14\", \"Topic14\", \"Topic14\", \"Topic14\", \"Topic14\", \"Topic14\", \"Topic14\", \"Topic14\", \"Topic14\", \"Topic14\", \"Topic14\", \"Topic14\", \"Topic14\", \"Topic14\", \"Topic14\", \"Topic14\", \"Topic14\", \"Topic14\", \"Topic14\", \"Topic14\", \"Topic14\", \"Topic14\", \"Topic14\", \"Topic14\", \"Topic14\", \"Topic14\", \"Topic14\", \"Topic14\", \"Topic14\", \"Topic14\", \"Topic14\", \"Topic14\", \"Topic14\", \"Topic14\", \"Topic14\", \"Topic14\", \"Topic14\", \"Topic14\", \"Topic14\", \"Topic14\", \"Topic14\", \"Topic14\", \"Topic14\", \"Topic14\", \"Topic14\", \"Topic15\", \"Topic15\", \"Topic15\", \"Topic15\", \"Topic15\", \"Topic15\", \"Topic15\", \"Topic15\", \"Topic15\", \"Topic15\", \"Topic15\", \"Topic15\", \"Topic15\", \"Topic15\", \"Topic15\", \"Topic15\", \"Topic15\", \"Topic15\", \"Topic15\", \"Topic15\", \"Topic15\", \"Topic15\", \"Topic15\", \"Topic15\", \"Topic15\", \"Topic15\", \"Topic15\", \"Topic15\", \"Topic15\", \"Topic15\", \"Topic15\", \"Topic15\", \"Topic15\", \"Topic15\", \"Topic15\", \"Topic15\", \"Topic15\", \"Topic15\", \"Topic15\", \"Topic15\", \"Topic15\", \"Topic15\", \"Topic15\", \"Topic15\", \"Topic15\", \"Topic15\", \"Topic15\", \"Topic15\", \"Topic15\", \"Topic15\", \"Topic16\", \"Topic16\", \"Topic16\", \"Topic16\", \"Topic16\", \"Topic16\", \"Topic16\", \"Topic16\", \"Topic16\", \"Topic16\", \"Topic16\", \"Topic16\", \"Topic16\", \"Topic16\", \"Topic16\", \"Topic16\", \"Topic16\", \"Topic16\", \"Topic16\", \"Topic16\", \"Topic16\", \"Topic16\", \"Topic16\", \"Topic16\", \"Topic16\", \"Topic16\", \"Topic16\", \"Topic16\", \"Topic16\", \"Topic16\", \"Topic16\", \"Topic16\", \"Topic16\", \"Topic16\", \"Topic16\", \"Topic16\", \"Topic16\", \"Topic16\", \"Topic16\", \"Topic16\", \"Topic16\", \"Topic16\", \"Topic16\", \"Topic16\", \"Topic16\", \"Topic16\", \"Topic16\", \"Topic16\", \"Topic16\", \"Topic16\", \"Topic16\", \"Topic16\", \"Topic16\", \"Topic16\", \"Topic16\", \"Topic16\", \"Topic16\", \"Topic16\", \"Topic16\", \"Topic16\", \"Topic16\", \"Topic16\", \"Topic16\", \"Topic16\", \"Topic17\", \"Topic17\", \"Topic17\", \"Topic17\", \"Topic17\", \"Topic17\", \"Topic17\", \"Topic17\", \"Topic17\", \"Topic17\", \"Topic17\", \"Topic17\", \"Topic17\", \"Topic17\", \"Topic17\", \"Topic17\", \"Topic17\", \"Topic17\", \"Topic17\", \"Topic17\", \"Topic17\", \"Topic17\", \"Topic17\", \"Topic17\", \"Topic17\", \"Topic17\", \"Topic17\", \"Topic17\", \"Topic17\", \"Topic17\", \"Topic17\", \"Topic17\", \"Topic17\", \"Topic17\", \"Topic17\", \"Topic17\", \"Topic17\", \"Topic17\", \"Topic17\", \"Topic17\", \"Topic17\", \"Topic17\", \"Topic17\", \"Topic17\", \"Topic17\", \"Topic17\", \"Topic17\", \"Topic17\", \"Topic17\", \"Topic17\", \"Topic17\", \"Topic17\", \"Topic17\", \"Topic18\", \"Topic18\", \"Topic18\", \"Topic18\", \"Topic18\", \"Topic18\", \"Topic18\", \"Topic18\", \"Topic18\", \"Topic18\", \"Topic18\", \"Topic18\", \"Topic18\", \"Topic18\", \"Topic18\", \"Topic18\", \"Topic18\", \"Topic18\", \"Topic18\", \"Topic18\", \"Topic18\", \"Topic18\", \"Topic18\", \"Topic18\", \"Topic18\", \"Topic18\", \"Topic18\", \"Topic18\", \"Topic18\", \"Topic18\", \"Topic18\", \"Topic18\", \"Topic18\", \"Topic18\", \"Topic18\", \"Topic18\", \"Topic18\", \"Topic18\", \"Topic18\", \"Topic18\", \"Topic18\", \"Topic18\", \"Topic18\", \"Topic18\", \"Topic18\", \"Topic18\", \"Topic18\", \"Topic18\", \"Topic18\", \"Topic18\", \"Topic18\", \"Topic18\", \"Topic18\", \"Topic19\", \"Topic19\", \"Topic19\", \"Topic19\", \"Topic19\", \"Topic19\", \"Topic19\", \"Topic19\", \"Topic19\", \"Topic19\", \"Topic19\", \"Topic19\", \"Topic19\", \"Topic19\", \"Topic19\", \"Topic19\", \"Topic19\", \"Topic19\", \"Topic19\", \"Topic19\", \"Topic19\", \"Topic19\", \"Topic19\", \"Topic19\", \"Topic19\", \"Topic19\", \"Topic19\", \"Topic19\", \"Topic19\", \"Topic19\", \"Topic19\", \"Topic19\", \"Topic19\", \"Topic19\", \"Topic19\", \"Topic19\", \"Topic19\", \"Topic19\", \"Topic19\", \"Topic19\", \"Topic19\", \"Topic19\", \"Topic19\", \"Topic19\", \"Topic19\", \"Topic19\", \"Topic19\", \"Topic19\", \"Topic19\", \"Topic19\", \"Topic19\", \"Topic19\", \"Topic20\", \"Topic20\", \"Topic20\", \"Topic20\", \"Topic20\", \"Topic20\", \"Topic20\", \"Topic20\", \"Topic20\", \"Topic20\", \"Topic20\", \"Topic20\", \"Topic20\", \"Topic20\", \"Topic20\", \"Topic20\", \"Topic20\", \"Topic20\", \"Topic20\", \"Topic20\", \"Topic20\", \"Topic20\", \"Topic20\", \"Topic20\", \"Topic20\", \"Topic20\", \"Topic20\", \"Topic20\", \"Topic20\", \"Topic20\", \"Topic20\", \"Topic20\", \"Topic20\", \"Topic20\", \"Topic20\", \"Topic20\", \"Topic20\", \"Topic20\", \"Topic20\", \"Topic20\", \"Topic20\", \"Topic20\", \"Topic20\", \"Topic20\", \"Topic20\", \"Topic20\", \"Topic20\", \"Topic20\", \"Topic20\", \"Topic20\", \"Topic20\", \"Topic20\"], \"logprob\": [30.0, 29.0, 28.0, 27.0, 26.0, 25.0, 24.0, 23.0, 22.0, 21.0, 20.0, 19.0, 18.0, 17.0, 16.0, 15.0, 14.0, 13.0, 12.0, 11.0, 10.0, 9.0, 8.0, 7.0, 6.0, 5.0, 4.0, 3.0, 2.0, 1.0, -4.8429999351501465, -5.280099868774414, -5.333000183105469, -5.762800216674805, -5.8119001388549805, -5.91949987411499, -5.947700023651123, -5.96019983291626, -6.000899791717529, -6.021599769592285, -6.036200046539307, -6.149099826812744, -6.182600021362305, -6.013700008392334, -6.2307000160217285, -5.0630998611450195, -6.269700050354004, -6.355000019073486, -6.4166998863220215, -6.368199825286865, -6.292600154876709, -6.472899913787842, -6.503900051116943, -5.360599994659424, -6.093299865722656, -6.527599811553955, -6.5868000984191895, -6.328800201416016, -6.611100196838379, -6.623899936676025, -5.088200092315674, -5.957600116729736, -5.020899772644043, -4.78980016708374, -3.740799903869629, -5.848400115966797, -4.5655999183654785, -4.214600086212158, -4.188499927520752, -5.491600036621094, -5.833000183105469, -3.7167999744415283, -4.444799900054932, -4.284999847412109, -5.472499847412109, -4.924200057983398, -4.441400051116943, -5.588500022888184, -2.375699996948242, -5.361700057983398, -5.540599822998047, -4.109799861907959, -5.647299766540527, -4.771500110626221, -5.47790002822876, -4.7617998123168945, -4.619500160217285, -4.9847002029418945, -5.203700065612793, -5.230000019073486, -4.977700233459473, -4.8790998458862305, -4.921199798583984, -5.218500137329102, -5.022600173950195, -5.217400074005127, -5.216300010681152, -4.549499988555908, -4.980000019073486, -5.637499809265137, -5.752299785614014, -5.244800090789795, -6.111400127410889, -6.229599952697754, -6.283299922943115, -6.2947001457214355, -3.379699945449829, -3.3243000507354736, -4.777900218963623, -6.425899982452393, -6.4934000968933105, -6.541999816894531, -6.5096001625061035, -6.6981000900268555, -6.794899940490723, -6.89709997177124, -6.938600063323975, -6.951000213623047, -5.2546000480651855, -7.054699897766113, -5.726500034332275, -7.1082000732421875, -3.7513999938964844, -5.889699935913086, -6.242700099945068, -6.122799873352051, -6.356900215148926, -3.575500011444092, -5.8470001220703125, -3.960200071334839, -4.662199974060059, -3.998800039291382, -3.4820001125335693, -3.793100118637085, -4.985499858856201, -4.76669979095459, -4.627399921417236, -3.6914000511169434, -5.019100189208984, -3.856300115585327, -5.432700157165527, -4.5304999351501465, -4.719699859619141, -5.156499862670898, -4.097700119018555, -4.176000118255615, -3.908799886703491, -3.5769999027252197, -2.2746999263763428, -4.139200210571289, -4.478600025177002, -4.920599937438965, -4.164899826049805, -4.814599990844727, -4.322500228881836, -4.2993998527526855, -4.896500110626221, -5.668000221252441, -5.871300220489502, -6.253900051116943, -6.31279993057251, -5.043700218200684, -6.686699867248535, -6.708600044250488, -6.793000221252441, -6.843500137329102, -2.8513998985290527, -5.836299896240234, -6.980100154876709, -7.039999961853027, -7.0792999267578125, -7.114299774169922, -7.120500087738037, -7.127999782562256, -7.14139986038208, -7.169000148773193, -7.251200199127197, -7.278299808502197, -7.282400131225586, -7.309299945831299, -7.3394999504089355, -7.313199996948242, -7.485799789428711, -7.550000190734863, -7.587200164794922, -5.403600215911865, -6.226600170135498, -4.688700199127197, -3.6094000339508057, -4.464700222015381, -5.67080020904541, -3.644700050354004, -4.702099800109863, -5.518499851226807, -4.0594000816345215, -5.570400238037109, -5.117599964141846, -4.5019001960754395, -6.386600017547607, -4.469299793243408, -4.762400150299072, -2.3875999450683594, -5.019199848175049, -6.4191999435424805, -5.588099956512451, -3.1673998832702637, -4.73960018157959, -4.379300117492676, -3.1224000453948975, -2.1972999572753906, -3.417099952697754, -4.347499847412109, -4.284599781036377, -4.802000045776367, -4.766499996185303, -4.843200206756592, -4.397600173950195, -4.527299880981445, -4.0278000831604, -4.722400188446045, -4.6479997634887695, -4.875699996948242, -4.8277997970581055, -4.906199932098389, -5.5528998374938965, -5.0858001708984375, -6.214399814605713, -6.529699802398682, -6.5792999267578125, -6.655799865722656, -6.7281999588012695, -6.76170015335083, -5.690100193023682, -7.128399848937988, -7.207699775695801, -7.422999858856201, -3.576200008392334, -7.5100998878479, -5.787099838256836, -7.723700046539307, -7.755000114440918, -6.161200046539307, -7.9496002197265625, -8.022000312805176, -8.17199993133545, -7.445400238037109, -8.404199600219727, -8.423999786376953, -8.47439956665039, -5.184100151062012, -1.4648000001907349, -1.3741999864578247, -8.395899772644043, -3.4398000240325928, -2.524199962615967, -4.53410005569458, -4.799699783325195, -3.97979998588562, -4.765600204467773, -1.941499948501587, -3.635499954223633, -5.7042999267578125, -3.8573999404907227, -5.809999942779541, -5.3180999755859375, -5.570400238037109, -5.547999858856201, -5.673099994659424, -5.9730000495910645, -6.2220001220703125, -5.776000022888184, -6.080599784851074, -5.92110013961792, -6.17080020904541, -0.8446000218391418, -5.899199962615967, -6.144700050354004, -6.153200149536133, -6.182400226593018, -6.425099849700928, -6.6371002197265625, -6.704899787902832, -6.714900016784668, -6.722499847412109, -6.290299892425537, -6.914700031280518, -6.987400054931641, -6.987400054931641, -6.996500015258789, -7.005499839782715, -7.009900093078613, -7.0767998695373535, -7.076200008392334, -7.094299793243408, -7.236299991607666, -7.306000232696533, -7.370500087738037, -7.389599800109863, -7.4558000564575195, -7.010799884796143, -7.549799919128418, -7.564000129699707, -5.812399864196777, -6.240099906921387, -6.026400089263916, -3.0685999393463135, -6.315199851989746, -2.3359999656677246, -6.638700008392334, -3.5383999347686768, -3.742500066757202, -3.6905999183654785, -6.574699878692627, -2.2174999713897705, -6.463699817657471, -3.65310001373291, -5.652299880981445, -3.886199951171875, -4.740699768066406, -5.6641998291015625, -5.472700119018555, -4.8933000564575195, -5.563899993896484, -5.954699993133545, -5.859799861907959, -5.163599967956543, -5.813199996948242, -5.783400058746338, -6.173799991607666, -6.221399784088135, -4.588799953460693, -5.132800102233887, -4.983799934387207, -5.270299911499023, -5.632199764251709, -5.645199775695801, -5.737299919128418, -5.757299900054932, -5.8531999588012695, -5.918700218200684, -5.458899974822998, -6.051799774169922, -6.066800117492676, -6.286200046539307, -6.3730998039245605, -6.379899978637695, -6.386000156402588, -3.604099988937378, -6.433499813079834, -6.34119987487793, -6.487199783325195, -5.149600028991699, -6.555200099945068, -6.598100185394287, -6.648499965667725, -6.73360013961792, -6.774199962615967, -6.784599781036377, -6.798600196838379, -6.801499843597412, -4.466100215911865, -6.497300148010254, -4.874300003051758, -4.745299816131592, -5.132400035858154, -4.9344000816345215, -5.793099880218506, -4.301799774169922, -4.998600006103516, -4.3709001541137695, -3.7386999130249023, -5.600100040435791, -4.253900051116943, -4.31279993057251, -4.401299953460693, -4.070099830627441, -4.547900199890137, -4.438000202178955, -2.3420000076293945, -4.737599849700928, -3.486599922180176, -4.030200004577637, -5.211299896240234, -4.747399806976318, -5.028800010681152, -4.418799877166748, -4.61899995803833, -4.012599945068359, -4.024400234222412, -4.640200138092041, -4.728300094604492, -4.769899845123291, -4.815700054168701, -4.911200046539307, -4.594799995422363, -5.262199878692627, -5.318600177764893, -5.600800037384033, -4.7469000816345215, -3.479599952697754, -5.695300102233887, -5.691299915313721, -5.940999984741211, -5.9644999504089355, -5.673999786376953, -6.003200054168701, -5.5233001708984375, -6.079800128936768, -3.482599973678589, -6.140500068664551, -6.16379976272583, -6.213399887084961, -5.982900142669678, -6.247799873352051, -5.83650016784668, -6.550300121307373, -6.58459997177124, -6.596399784088135, -6.651700019836426, -6.657700061798096, -6.749599933624268, -6.765699863433838, -6.8105998039245605, -6.819699764251709, -4.694200038909912, -2.6089000701904297, -5.880199909210205, -4.966800212860107, -3.8438000679016113, -2.5606000423431396, -5.29610013961792, -4.392199993133545, -4.402599811553955, -4.861999988555908, -5.0706000328063965, -4.238500118255615, -5.047100067138672, -3.7741000652313232, -2.61899995803833, -5.405799865722656, -5.125800132751465, -3.9096999168395996, -5.207900047302246, -3.672499895095825, -4.612299919128418, -5.048399925231934, -4.172299861907959, -4.601399898529053, -4.86959981918335, -4.397200107574463, -4.78849983215332, -4.745200157165527, -5.0904998779296875, -4.844299793243408, -5.019899845123291, -4.0366997718811035, -5.536200046539307, -5.965000152587891, -6.085599899291992, -5.894599914550781, -6.2418999671936035, -6.305500030517578, -6.415999889373779, -6.472599983215332, -6.524199962615967, -6.620999813079834, -6.818900108337402, -6.377500057220459, -3.8680999279022217, -6.969399929046631, -5.801400184631348, -5.337900161743164, -7.146100044250488, -7.181700229644775, -5.586999893188477, -7.200399875640869, -7.2596001625061035, -6.057700157165527, -6.3541998863220215, -4.4334001541137695, -6.622700214385986, -7.663000106811523, -7.754000186920166, -5.009399890899658, -7.348100185394287, -3.785799980163574, -2.5543999671936035, -4.5395002365112305, -3.4630000591278076, -4.799499988555908, -5.360899925231934, -3.2253000736236572, -5.589099884033203, -2.336899995803833, -3.6828999519348145, -3.346100091934204, -4.181000232696533, -2.9718000888824463, -2.0713000297546387, -3.1168999671936035, -4.472599983215332, -3.9121999740600586, -5.094699859619141, -5.203999996185303, -3.561000108718872, -4.40749979019165, -4.078000068664551, -4.9791998863220215, -4.290900230407715, -4.988100051879883, -4.995800018310547, -4.755899906158447, -5.1793999671936035, -5.091100215911865, -5.111000061035156, -5.2154998779296875, -5.220300197601318, -5.377999782562256, -5.617199897766113, -5.701099872589111, -5.7316999435424805, -5.788099765777588, -5.789400100708008, -5.635200023651123, -5.951600074768066, -5.959000110626221, -6.052800178527832, -6.013500213623047, -6.07450008392334, -6.093800067901611, -6.130300045013428, -5.2052001953125, -6.210000038146973, -6.222499847412109, -6.264200210571289, -6.345600128173828, -6.352099895477295, -6.386499881744385, -6.401599884033203, -6.496600151062012, -6.519499778747559, -6.581299781799316, -6.595799922943115, -6.6458001136779785, -5.610599994659424, -5.223700046539307, -2.8022000789642334, -3.8522000312805176, -3.4788999557495117, -4.962900161743164, -5.019700050354004, -4.968699932098389, -4.717199802398682, -5.831299781799316, -5.354100227355957, -4.742099761962891, -4.1219000816345215, -4.872799873352051, -4.918600082397461, -5.523499965667725, -2.1363000869750977, -4.514400005340576, -5.16349983215332, -4.338699817657471, -4.015399932861328, -4.7743000984191895, -4.526199817657471, -5.178599834442139, -4.954100131988525, -4.790599822998047, -5.0619001388549805, -5.0081000328063965, -4.418600082397461, -4.950300216674805, -5.046000003814697, -4.871699810028076, -4.888700008392334, -5.007999897003174, -5.034599781036377, -5.146299839019775, -3.99780011177063, -4.654300212860107, -3.1719000339508057, -5.396299839019775, -5.454699993133545, -5.368500232696533, -5.3003997802734375, -5.626299858093262, -5.82390022277832, -5.785200119018555, -6.051400184631348, -6.106299877166748, -6.054699897766113, -6.377699851989746, -6.410999774932861, -6.426499843597412, -6.45359992980957, -6.504300117492676, -5.773900032043457, -3.596100091934204, -6.6219000816345215, -6.687399864196777, -6.708499908447266, -6.78849983215332, -6.845200061798096, -6.166100025177002, -6.250699996948242, -6.934100151062012, -6.966899871826172, -6.9984002113342285, -3.910599946975708, -4.366000175476074, -5.529399871826172, -5.7555999755859375, -2.7657999992370605, -4.991199970245361, -3.8838000297546387, -4.692999839782715, -4.064199924468994, -5.5619001388549805, -2.887200117111206, -4.870500087738037, -5.065499782562256, -4.614799976348877, -4.623700141906738, -4.593500137329102, -5.3968000411987305, -4.172299861907959, -4.269700050354004, -2.59060001373291, -3.94320011138916, -5.144899845123291, -4.715400218963623, -4.7108001708984375, -4.764900207519531, -4.634500026702881, -4.13539981842041, -4.219900131225586, -4.3394999504089355, -4.809599876403809, -4.420499801635742, -4.763299942016602, -4.928999900817871, -4.910699844360352, -3.6933999061584473, -4.828199863433838, -4.596399784088135, -4.666900157928467, -2.648900032043457, -5.334400177001953, -5.388500213623047, -3.951900005340576, -5.438300132751465, -4.062300205230713, -5.331200122833252, -3.549299955368042, -5.650300025939941, -5.701600074768066, -5.718500137329102, -5.755000114440918, -5.894000053405762, -5.145599842071533, -5.935500144958496, -5.969900131225586, -6.04580020904541, -6.132400035858154, -6.140500068664551, -6.145699977874756, -6.3495001792907715, -6.338500022888184, -5.883299827575684, -6.440199851989746, -6.5192999839782715, -6.606200218200684, -6.017600059509277, -2.603300094604492, -5.4141998291015625, -3.3245999813079834, -5.734399795532227, -2.835900068283081, -3.9588000774383545, -3.787100076675415, -4.023600101470947, -5.161399841308594, -4.708000183105469, -4.129700183868408, -3.4077999591827393, -3.727099895477295, -5.613800048828125, -5.123799800872803, -4.847599983215332, -2.7256999015808105, -4.668300151824951, -3.9902000427246094, -5.013199806213379, -5.037499904632568, -4.652100086212158, -5.048699855804443, -4.746300220489502, -4.9567999839782715, -5.058300018310547, -5.056399822235107, -0.7164000272750854, -6.062399864196777, -2.8148999214172363, -6.5528998374938965, -6.5005998611450195, -7.280099868774414, -7.338099956512451, -4.195700168609619, -3.062000036239624, -3.889899969100952, -7.64109992980957, -7.649799823760986, -3.8636999130249023, -9.154399871826172, -9.154399871826172, -9.157500267028809, -9.161100387573242, -9.183600425720215, -5.7677998542785645, -7.719600200653076, -4.783100128173828, -3.7172000408172607, -7.309899806976318, -7.6875, -2.452699899673462, -4.023799896240234, -4.31850004196167, -7.942999839782715, -6.156599998474121, -2.4546000957489014, -3.963599920272827, -4.100200176239014, -5.389200210571289, -4.985899925231934, -6.04040002822876, -7.682400226593018, -7.660299777984619, -5.805699825286865, -5.882900238037109, -6.0904998779296875, -6.105599880218506, -6.136499881744385, -6.143799781799316, -6.197500228881836, -6.2291998863220215, -6.3043999671936035, -6.308599948883057, -5.816800117492676, -6.3277997970581055, -6.341300010681152, -6.387800216674805, -6.434800148010254, -6.446899890899658, -6.562600135803223, -5.239999771118164, -6.8368000984191895, -6.842100143432617, -5.715099811553955, -6.875, -7.077499866485596, -7.1219000816345215, -7.127999782562256, -7.182199954986572, -7.331699848175049, -7.344900131225586, -5.41349983215332, -3.288599967956543, -2.0176000595092773, -2.399399995803833, -2.1916000843048096, -5.2104997634887695, -3.490999937057495, -1.392899990081787, -5.125999927520752, -5.747499942779541, -6.309000015258789, -4.589900016784668, -3.5732998847961426, -5.44290018081665, -5.693900108337402, -4.472499847412109, -4.704899787902832, -3.8857998847961426, -4.5117998123168945, -5.634300231933594, -3.6854000091552734, -5.617199897766113, -5.035399913787842, -5.8119001388549805, -5.728400230407715, -5.940899848937988, -4.530900001525879, -4.507500171661377, -2.380500078201294, -4.686999797821045, -4.744100093841553, -4.740099906921387, -5.105000019073486, -5.268499851226807, -5.368100166320801, -5.377999782562256, -5.484799861907959, -4.941699981689453, -5.623700141906738, -5.733399868011475, -5.754300117492676, -5.755899906158447, -4.063000202178955, -5.861700057983398, -5.881999969482422, -5.8796000480651855, -5.904200077056885, -5.992700099945068, -6.100100040435791, -6.122099876403809, -5.107999801635742, -4.994200229644775, -6.53439998626709, -6.57289981842041, -5.6041998863220215, -5.423699855804443, -4.603799819946289, -3.753499984741211, -4.442999839782715, -3.3703999519348145, -4.5346999168396, -3.003499984741211, -4.623199939727783, -2.5910000801086426, -3.599299907684326, -3.9381000995635986, -4.251299858093262, -4.5792999267578125, -3.398900032043457, -2.541300058364868, -3.7683000564575195, -3.7820000648498535, -5.0894999504089355, -4.8109002113342285, -5.0441999435424805, -4.890500068664551, -4.8429999351501465, -5.020899772644043, -3.6494998931884766, -4.947299957275391, -5.560200214385986, -5.617400169372559, -3.6243999004364014, -5.9567999839782715, -5.997700214385986, -6.078499794006348, -3.555500030517578, -3.859299898147583, -6.4328999519348145, -5.257900238037109, -3.5683000087738037, -3.565999984741211, -2.4595999717712402, -5.417600154876709, -6.936600208282471, -5.427700042724609, -7.006700038909912, -7.067599773406982, -5.320000171661377, -4.221799850463867, -5.048699855804443, -6.211400032043457, -3.96370005607605, -4.528600215911865, -6.359899997711182, -3.3501999378204346, -5.754700183868408, -4.9704999923706055, -3.8041999340057373, -4.065999984741211, -3.7664999961853027, -3.509000062942505, -4.697500228881836, -5.299499988555908, -2.424499988555908, -4.449999809265137, -4.0432000160217285, -3.93179988861084, -4.123199939727783, -4.439799785614014, -2.504499912261963, -3.4763998985290527, -4.921599864959717, -4.090000152587891, -4.490300178527832, -4.749199867248535, -4.870500087738037, -4.891300201416016, -3.4753000736236572, -5.110599994659424, -4.874199867248535, -5.192500114440918, -5.2855000495910645, -5.333499908447266, -5.081699848175049, -5.543499946594238, -5.546199798583984, -5.717800140380859, -5.743100166320801, -5.334400177001953, -5.779699802398682, -5.895400047302246, -5.922100067138672, -5.963200092315674, -4.31790018081665, -6.068699836730957, -6.128699779510498, -5.019599914550781, -6.148399829864502, -6.176000118255615, -6.239299774169922, -6.241399765014648, -6.2546000480651855, -4.958799839019775, -6.339000225067139, -5.976799964904785, -6.4085001945495605, -6.408699989318848, -4.436500072479248, -4.3649001121521, -3.807499885559082, -5.017499923706055, -4.6940999031066895, -3.94569993019104, -4.905200004577637, -4.590400218963623, -3.8234000205993652, -5.321499824523926, -3.972599983215332, -3.71589994430542, -4.1194000244140625, -5.134200096130371, -4.493000030517578, -4.209700107574463, -4.864099979400635, -4.690700054168701, -4.469299793243408, -4.137700080871582, -4.7708001136779785, -4.688700199127197, -3.816999912261963, -4.272200107574463, -3.688199996948242, -4.339399814605713, -4.250699996948242, -3.9590001106262207, -3.8329999446868896, -4.538300037384033, -4.737299919128418, -4.5192999839782715, -4.740499973297119, -4.750899791717529, -2.9567999839782715, -4.270400047302246, -4.908299922943115, -5.0040998458862305, -5.014400005340576, -5.093100070953369, -5.124199867248535, -5.0696001052856445, -1.7676000595092773, -5.763599872589111, -4.842599868774414, -5.928199768066406, -4.713099956512451, -6.4070000648498535, -6.427499771118164, -6.32919979095459, -4.4653000831604, -4.907299995422363, -6.736999988555908, -4.866099834442139, -6.813799858093262, -6.8144001960754395, -4.4191999435424805, -6.9274001121521, -5.245500087738037, -7.002299785614014, -4.710599899291992, -4.27209997177124, -7.408999919891357, -7.4166998863220215, -3.8689000606536865, -2.8299999237060547, -4.305600166320801, -3.759500026702881, -2.5601000785827637, -5.060100078582764, -5.08459997177124, -3.5952000617980957, -3.9047999382019043, -5.704100131988525, -4.672500133514404, -4.484899997711182, -4.0295000076293945, -3.8515000343322754, -4.8125, -4.127799987792969, -3.037400007247925, -4.406099796295166, -4.367700099945068, -4.519000053405762, -4.873000144958496, -4.795000076293945, -4.788700103759766, -2.672600030899048, -3.0283000469207764, -3.558199882507324, -4.394199848175049, -4.5065999031066895, -4.936299800872803, -5.3557000160217285, -5.420400142669678, -5.542099952697754, -5.609499931335449, -4.470600128173828, -5.250699996948242, -5.273099899291992, -5.833899974822998, -5.88070011138916, -5.893199920654297, -5.955100059509277, -5.993299961090088, -6.211100101470947, -6.235400199890137, -6.273799896240234, -4.75029993057251, -6.433599948883057, -6.45959997177124, -5.587800025939941, -6.787499904632568, -6.8267998695373535, -5.599400043487549, -5.719799995422363, -5.105500221252441, -3.065999984741211, -4.3429999351501465, -1.856600046157837, -3.3157999515533447, -4.07390022277832, -4.589300155639648, -4.46589994430542, -5.0528998374938965, -5.171000003814697, -3.7976999282836914, -2.6482999324798584, -5.138599872589111, -3.853800058364868, -4.787700176239014, -4.997200012207031, -4.979899883270264, -4.480400085449219, -3.7813000679016113, -4.657899856567383, -4.845799922943115, -4.7855000495910645, -4.817500114440918, -5.137899875640869, -3.863800048828125, -4.647299766540527, -4.6975998878479, -4.241199970245361, -5.157199859619141, -3.0392000675201416, -5.634900093078613, -5.660699844360352, -5.71019983291626, -5.914400100708008, -6.002600193023682, -6.214700222015381, -6.232500076293945, -3.684299945831299, -6.477700233459473, -3.3810999393463135, -6.565299987792969, -6.714799880981445, -1.909000039100647, -5.231299877166748, -3.648900032043457, -5.579500198364258, -6.882999897003174, -6.904099941253662, -6.952000141143799, -5.653200149536133, -7.1869001388549805, -6.690899848937988, -7.22760009765625, -7.22760009765625, -4.581500053405762, -3.2063000202178955, -4.010000228881836, -3.047100067138672, -3.3935999870300293, -2.989799976348877, -4.714700222015381, -4.886199951171875, -5.133500099182129, -4.635799884796143, -4.9741997718811035, -2.186000108718872, -4.145100116729736, -4.083600044250488, -5.2571001052856445, -5.184700012207031, -4.541999816894531, -4.605100154876709, -4.844600200653076, -4.968599796295166, -4.961299896240234, -4.89870023727417, -3.3060998916625977, -2.1572999954223633, -4.354899883270264, -4.460100173950195, -2.984499931335449, -4.680099964141846, -4.640900135040283, -5.018700122833252, -5.195499897003174, -5.198400020599365, -2.3427999019622803, -5.23330020904541, -5.258399963378906, -4.423999786376953, -5.285600185394287, -5.291600227355957, -5.5391998291015625, -5.587600231170654, -5.6381001472473145, -5.695199966430664, -5.702099800109863, -4.651500225067139, -5.898900032043457, -5.899600028991699, -5.924499988555908, -6.0269999504089355, -6.033199787139893, -5.998300075531006, -6.05649995803833, -6.094799995422363, -5.52839994430542, -3.5620999336242676, -4.73859977722168, -5.4882001876831055, -3.9365999698638916, -4.524400234222412, -5.1971001625061035, -4.425600051879883, -3.960099935531616, -4.7829999923706055, -5.067299842834473, -4.914100170135498, -5.144999980926514, -4.984000205993652, -4.501399993896484, -3.301300048828125, -4.268700122833252, -4.774700164794922, -4.940400123596191, -5.081099987030029, -5.039000034332275, -5.105400085449219], \"loglift\": [30.0, 29.0, 28.0, 27.0, 26.0, 25.0, 24.0, 23.0, 22.0, 21.0, 20.0, 19.0, 18.0, 17.0, 16.0, 15.0, 14.0, 13.0, 12.0, 11.0, 10.0, 9.0, 8.0, 7.0, 6.0, 5.0, 4.0, 3.0, 2.0, 1.0, 2.5155, 2.5065, 2.5063, 2.4971, 2.4953, 2.4912, 2.49, 2.4892, 2.4872, 2.4868, 2.4861, 2.4807, 2.479, 2.4781, 2.4762, 2.4759, 2.4739, 2.4688, 2.4653, 2.4641, 2.4623, 2.4608, 2.4594, 2.4587, 2.4579, 2.4577, 2.4533, 2.4515, 2.4514, 2.4504, 2.4177, 2.4002, 2.318, 2.2817, 2.0943, 2.3711, 2.1152, 1.9504, 1.9295, 2.247, 2.3267, 1.6684, 1.886, 1.704, 2.1798, 1.9436, 1.5797, 2.1719, 0.0394, 1.929, 2.0095, 0.2549, 2.0952, 0.8761, 1.8379, 0.6935, 0.3264, 0.7145, 1.1744, 1.1454, 0.3543, -0.2708, -0.1505, 0.7598, -1.1767, 0.5343, -1.7178, 2.5471, 2.5414, 2.5273, 2.5236, 2.5096, 2.5083, 2.5021, 2.4989, 2.4983, 2.4957, 2.4917, 2.4898, 2.489, 2.4853, 2.4817, 2.4815, 2.4623, 2.4555, 2.4495, 2.4449, 2.4445, 2.4392, 2.4326, 2.4275, 2.4261, 2.4236, 2.423, 2.4215, 2.4136, 2.408, 2.3795, 2.4005, 2.3534, 2.3462, 2.3077, 2.2737, 2.2711, 2.3348, 2.2328, 2.212, 2.0525, 2.2396, 1.9952, 2.2946, 2.0107, 1.9295, 2.0371, 1.4859, 1.4716, 1.2695, 1.0313, 0.1404, 1.0802, 1.4051, 1.7813, 0.781, 1.5837, 0.0422, -0.3386, 1.2818, 2.573, 2.5629, 2.5565, 2.5526, 2.5468, 2.5242, 2.5222, 2.5137, 2.5089, 2.4995, 2.4913, 2.488, 2.4864, 2.4815, 2.4769, 2.4762, 2.4751, 2.4733, 2.4695, 2.4577, 2.4536, 2.453, 2.4488, 2.4441, 2.4199, 2.4191, 2.4071, 2.3999, 2.3935, 2.3898, 2.3553, 2.3007, 2.3044, 2.3341, 2.222, 2.2381, 2.3081, 2.1801, 2.3082, 2.2209, 2.1067, 2.3526, 1.9768, 1.9999, 1.4583, 2.0095, 2.3332, 2.0795, 1.1973, 1.736, 1.48, 0.8384, 0.2178, 0.4727, 1.1078, 1.0121, 1.3222, 1.1395, 1.1458, 0.3731, 0.4979, -0.4663, 0.6627, 0.2979, 0.3437, -0.1825, 2.6204, 2.6086, 2.6083, 2.5793, 2.5573, 2.5533, 2.544, 2.5398, 2.5365, 2.5332, 2.4935, 2.4822, 2.4472, 2.4414, 2.4316, 2.4207, 2.3876, 2.3805, 2.365, 2.3323, 2.3126, 2.2683, 2.2648, 2.1901, 2.1829, 2.164, 2.1066, 2.0967, 2.0168, 1.9968, 1.5493, 1.3655, 1.5913, 1.4222, 1.2396, 1.37, 0.4736, 0.2104, 1.2613, 0.1034, 1.2963, 0.8593, 0.9054, 0.6056, 0.3228, 0.3205, 1.037, -0.7246, 0.1912, -1.2759, 0.3758, 2.654, 2.6373, 2.6245, 2.624, 2.6223, 2.5941, 2.588, 2.5815, 2.5805, 2.5798, 2.5732, 2.5589, 2.55, 2.55, 2.5489, 2.5477, 2.5471, 2.5383, 2.5378, 2.5359, 2.515, 2.5035, 2.4926, 2.4894, 2.4774, 2.4596, 2.4591, 2.4562, 2.4355, 2.4336, 2.362, 1.9828, 2.3233, 1.2254, 2.2896, 1.3859, 1.4328, 1.2985, 2.2699, 0.1976, 2.1814, 0.1927, 1.5677, 0.0746, 0.7255, 1.276, 0.7992, -0.0712, 0.8115, 1.3637, 0.5863, -1.2738, 0.0535, -0.0842, 0.8007, 0.96, 2.7461, 2.7367, 2.7361, 2.7324, 2.7217, 2.7194, 2.7175, 2.7165, 2.7123, 2.709, 2.7082, 2.702, 2.7011, 2.6869, 2.6805, 2.6799, 2.6792, 2.6769, 2.6756, 2.6717, 2.6712, 2.6707, 2.6649, 2.6611, 2.6562, 2.6474, 2.643, 2.6418, 2.6402, 2.6399, 2.6312, 2.6387, 2.622, 2.6165, 2.6142, 2.5902, 2.6044, 2.4611, 2.5006, 2.4175, 2.1206, 2.497, 1.8997, 1.8736, 1.8827, 1.7413, 1.8275, 1.6976, 0.0731, 1.6421, 0.4031, 0.5781, 2.0144, 1.378, 1.7647, 0.757, 1.056, -0.0518, -0.1785, 0.0051, 0.3232, 0.4494, 0.5081, 0.8327, 2.8487, 2.8406, 2.8385, 2.829, 2.828, 2.8169, 2.8161, 2.8133, 2.8126, 2.8112, 2.8108, 2.8089, 2.8077, 2.8038, 2.8023, 2.8, 2.7983, 2.7939, 2.788, 2.7781, 2.7751, 2.7656, 2.7621, 2.7609, 2.755, 2.7543, 2.7437, 2.7418, 2.7362, 2.735, 2.7224, 2.5668, 2.6977, 2.4953, 2.1521, 1.8041, 2.4218, 2.1396, 2.0732, 2.1036, 2.0718, 1.5132, 2.0427, 1.0481, -0.204, 2.251, 1.9806, 0.7356, 2.0121, 0.2172, 1.1378, 1.7468, -0.2116, 0.618, 1.0364, -0.5513, 0.2007, -0.1369, 1.2403, -1.2828, 0.0053, 2.8504, 2.8332, 2.8125, 2.8046, 2.7939, 2.7938, 2.7885, 2.7795, 2.7742, 2.7692, 2.7595, 2.7362, 2.7209, 2.7071, 2.7015, 2.6912, 2.6887, 2.6873, 2.6818, 2.6794, 2.677, 2.6679, 2.6321, 2.6243, 2.6092, 2.5977, 2.5793, 2.5557, 2.5518, 2.5349, 2.4442, 2.3961, 2.4515, 2.3853, 2.4416, 2.467, 2.1622, 2.454, 1.509, 1.7833, 1.4246, 1.725, 0.918, 0.3438, 0.8439, 1.6193, 1.0337, 1.8259, 1.8579, 0.0005, 0.8892, 0.2867, 1.4964, 0.3544, 1.1475, 1.1377, 0.2333, 1.4433, 0.6591, 0.7991, 2.8515, 2.8508, 2.8464, 2.8373, 2.8336, 2.8322, 2.8295, 2.8294, 2.8293, 2.8203, 2.8202, 2.8139, 2.8125, 2.812, 2.8117, 2.8091, 2.8044, 2.8035, 2.8026, 2.7994, 2.7923, 2.7922, 2.7893, 2.788, 2.7792, 2.7769, 2.7703, 2.7691, 2.7637, 2.7586, 2.7193, 2.5706, 2.5548, 2.499, 2.6207, 2.6114, 2.525, 2.4642, 2.6889, 2.5601, 2.1728, 1.8993, 2.2205, 2.1659, 2.4743, 0.2787, 1.8218, 2.2057, 1.3604, 1.0098, 1.6038, 1.2256, 1.9872, 1.5215, 1.0754, 1.5017, 1.3147, -0.4578, 0.7897, 1.1582, -0.101, -0.2435, -0.6433, -0.4263, 0.9526, 2.9005, 2.8926, 2.8873, 2.8773, 2.8757, 2.873, 2.8702, 2.8681, 2.859, 2.8577, 2.8455, 2.8418, 2.8385, 2.8203, 2.8173, 2.8158, 2.8133, 2.8083, 2.8021, 2.7982, 2.7959, 2.7882, 2.7856, 2.7759, 2.7683, 2.7666, 2.7617, 2.7559, 2.751, 2.7462, 2.6853, 2.6563, 2.6888, 2.6801, 2.4125, 2.5903, 2.3217, 2.4579, 2.2198, 2.5834, 1.7211, 2.2392, 2.3115, 2.0872, 2.0255, 1.9531, 2.4004, 1.5677, 1.4805, -0.1756, 0.8275, 2.1162, 1.6074, 1.5734, 1.3531, 0.9491, -0.2896, -0.6584, -0.4498, 0.9343, -0.4597, 0.4125, 1.3429, 0.5555, 2.9585, 2.9541, 2.9514, 2.9447, 2.94, 2.94, 2.9381, 2.9378, 2.9358, 2.9315, 2.9305, 2.928, 2.9253, 2.9244, 2.923, 2.9214, 2.9132, 2.9119, 2.9112, 2.9074, 2.9039, 2.8977, 2.8971, 2.8966, 2.8795, 2.8795, 2.8758, 2.8706, 2.8557, 2.8529, 2.8455, 2.7632, 2.8073, 2.6537, 2.8212, 2.4961, 2.5661, 2.5278, 2.5273, 2.7032, 2.6012, 2.326, 2.0475, 2.1565, 2.7733, 2.2807, 1.9922, -0.3106, 1.7171, 0.7805, 2.0155, 1.7536, 0.3731, 1.769, -0.1381, 0.4308, 1.2645, 0.5272, 2.986, 2.9456, 2.9113, 2.8996, 2.8335, 2.7827, 2.77, 2.7514, 2.7464, 2.7328, 2.6939, 2.6914, 2.3915, 2.004, 2.0039, 2.002, 1.9997, 1.9853, 1.8745, 1.5924, 1.4211, 1.3343, 1.2486, 0.9989, 0.9384, 0.7469, 0.632, 0.3126, 0.0208, -0.0395, -0.1177, -0.2104, -0.4433, -1.0251, -0.5742, -2.3857, -4.0988, 3.0552, 3.0501, 3.0344, 3.0331, 3.0305, 3.0298, 3.025, 3.0216, 3.0147, 3.0143, 3.0124, 3.0123, 3.0109, 3.0055, 3.0007, 2.9992, 2.9853, 2.9521, 2.946, 2.9451, 2.9418, 2.9397, 2.9031, 2.8943, 2.8931, 2.8818, 2.848, 2.8448, 2.8429, 2.8425, 2.8045, 2.776, 2.7328, 2.7788, 2.6425, 1.9982, 2.5817, 2.6207, 2.7787, 1.9419, 1.3727, 2.3251, 2.4691, 1.3758, 1.4193, 0.479, 0.4774, 2.0201, -1.2703, 1.4892, -1.0746, 1.3306, 0.4758, 1.0463, 3.3905, 3.3888, 3.3863, 3.3842, 3.3821, 3.3791, 3.3714, 3.3633, 3.3581, 3.3578, 3.3515, 3.349, 3.3423, 3.3338, 3.3324, 3.3323, 3.3264, 3.3234, 3.3216, 3.3215, 3.3196, 3.3111, 3.2997, 3.2975, 3.2808, 3.2541, 3.2421, 3.2359, 3.2121, 3.2115, 3.1975, 3.1422, 3.1162, 3.0125, 3.02, 2.6715, 3.0091, 2.4342, 2.4996, 2.5967, 2.6623, 2.506, 1.2094, -0.1262, 1.0024, 0.1788, 2.4646, 1.5688, 2.2147, 0.9609, 0.3353, 0.885, 3.4019, 3.3894, 3.3581, 3.354, 3.3444, 3.3258, 3.322, 3.3134, 3.2995, 3.2697, 3.2682, 3.2642, 3.2557, 3.2256, 3.2043, 3.1834, 3.1758, 3.1757, 3.1597, 3.1451, 3.1177, 3.0967, 3.0906, 3.024, 3.001, 2.9618, 2.879, 2.877, 2.8603, 2.8467, 2.7424, 2.7517, 2.7287, 2.6693, 2.537, 2.6892, 1.5363, 2.3452, 2.081, 1.9741, 2.0542, 2.2124, -0.0894, 0.4134, 2.145, -0.2441, 0.729, 1.4563, 1.693, 0.8487, 3.4414, 3.4344, 3.4333, 3.4305, 3.4258, 3.4231, 3.4158, 3.4097, 3.4092, 3.3965, 3.3945, 3.3932, 3.3911, 3.3807, 3.3751, 3.374, 3.3712, 3.3626, 3.3556, 3.3551, 3.3522, 3.35, 3.3419, 3.3416, 3.3399, 3.3336, 3.3282, 3.3212, 3.318, 3.318, 3.3122, 3.2991, 3.2651, 3.2838, 3.204, 3.1168, 3.1879, 3.1025, 2.9678, 3.1991, 2.8949, 2.7793, 2.8313, 3.1373, 2.9178, 2.7775, 3.0197, 2.9078, 2.6579, 2.1341, 2.7131, 2.4831, 1.1289, 1.5793, 0.2725, 1.4108, 1.1369, -0.0693, -1.4179, 1.3677, 1.957, 0.126, 1.566, 0.8967, 3.5104, 3.4948, 3.4761, 3.4717, 3.4717, 3.4681, 3.4666, 3.4526, 3.4371, 3.423, 3.4083, 3.4083, 3.4035, 3.3472, 3.3439, 3.3157, 3.3099, 3.3026, 3.288, 3.2799, 3.2718, 3.2705, 3.2474, 3.246, 3.2454, 3.2278, 3.1673, 3.1242, 3.1092, 3.1066, 3.0852, 3.036, 3.0164, 2.9348, 2.7366, 3.0346, 2.9589, 2.488, 2.4101, 3.0757, 2.6658, 2.5798, 2.264, 1.8476, 2.5183, 1.3384, -0.6224, 0.9814, 0.6575, 1.1286, 2.4639, 1.3361, 0.1619, 3.6575, 3.654, 3.6501, 3.6345, 3.6191, 3.6148, 3.5908, 3.5861, 3.574, 3.5708, 3.5689, 3.5676, 3.5517, 3.5489, 3.5438, 3.5419, 3.5348, 3.5301, 3.5008, 3.4973, 3.4914, 3.4837, 3.4644, 3.4597, 3.4191, 3.3907, 3.3813, 3.3806, 3.372, 3.3539, 3.3195, 3.223, 2.7887, 2.9683, 3.0911, 3.1515, 3.0597, 3.0109, 3.0255, 2.0683, 1.2414, 2.9289, 1.4782, 2.0958, 2.374, 2.3184, 0.739, -1.3662, 1.1505, 1.6002, 0.9545, 0.9382, 1.7019, 3.6498, 3.6407, 3.6392, 3.6304, 3.6174, 3.5988, 3.5822, 3.5798, 3.5746, 3.5532, 3.5402, 3.5131, 3.5104, 3.4708, 3.4685, 3.4531, 3.4514, 3.4191, 3.4147, 3.4053, 3.3933, 3.3875, 3.3784, 3.3729, 3.3601, 3.3366, 3.2906, 3.2878, 3.2772, 3.2772, 3.2387, 3.192, 3.1338, 3.0449, 2.9768, 2.8216, 3.0656, 3.0533, 2.9763, 2.7943, 2.6804, 0.2291, 1.7608, 0.9056, 2.4366, 2.241, 0.5094, 0.6143, 1.289, 1.2587, 0.7786, 0.0519, 3.7295, 3.7257, 3.712, 3.7088, 3.6987, 3.6902, 3.6889, 3.6853, 3.6747, 3.6746, 3.6728, 3.6722, 3.6706, 3.6692, 3.6687, 3.6679, 3.6488, 3.6443, 3.6396, 3.6339, 3.6332, 3.618, 3.6112, 3.6111, 3.6081, 3.5947, 3.5938, 3.593, 3.5905, 3.5847, 3.5782, 3.5364, 3.5123, 3.5529, 3.4138, 3.4479, 3.5225, 3.3488, 3.2559, 3.1854, 3.1267, 2.7281, 3.0125, 2.6705, 1.5818, -0.8862, -0.3079, 0.9003, 0.0055, 1.1231, -1.4776, 0.6345]}, \"token.table\": {\"Topic\": [10, 1, 2, 10, 18, 17, 1, 6, 10, 19, 6, 1, 2, 3, 7, 9, 1, 6, 10, 11, 13, 5, 9, 14, 10, 10, 1, 2, 6, 9, 10, 15, 1, 20, 6, 4, 15, 1, 2, 6, 7, 9, 11, 15, 16, 1, 2, 9, 1, 11, 15, 16, 1, 1, 2, 6, 7, 11, 14, 2, 4, 2, 7, 10, 1, 2, 3, 4, 5, 6, 7, 8, 9, 10, 12, 14, 16, 1, 2, 3, 6, 7, 9, 18, 1, 5, 8, 1, 1, 2, 3, 4, 5, 6, 7, 8, 9, 10, 11, 13, 14, 16, 17, 19, 20, 6, 1, 2, 3, 4, 6, 7, 8, 10, 13, 17, 13, 1, 3, 7, 1, 3, 7, 1, 3, 6, 7, 13, 16, 1, 18, 17, 16, 5, 5, 7, 5, 3, 9, 16, 6, 7, 8, 10, 16, 18, 1, 13, 10, 18, 1, 5, 6, 7, 10, 11, 16, 19, 1, 6, 7, 10, 11, 5, 13, 4, 4, 18, 15, 11, 3, 7, 16, 17, 3, 1, 2, 1, 18, 3, 10, 16, 11, 13, 18, 3, 1, 2, 6, 7, 1, 13, 13, 19, 3, 9, 18, 18, 5, 18, 10, 13, 11, 8, 10, 19, 2, 7, 9, 10, 14, 1, 3, 6, 9, 16, 20, 20, 9, 17, 11, 9, 19, 1, 1, 2, 9, 1, 4, 6, 10, 14, 17, 16, 20, 8, 12, 16, 18, 1, 3, 6, 19, 20, 1, 2, 6, 7, 9, 7, 11, 1, 4, 5, 6, 7, 16, 9, 3, 17, 1, 3, 4, 6, 7, 13, 2, 3, 4, 5, 6, 7, 8, 9, 10, 11, 12, 15, 16, 10, 17, 1, 7, 16, 19, 11, 1, 7, 20, 11, 20, 8, 11, 18, 5, 11, 14, 6, 10, 16, 1, 3, 7, 10, 12, 13, 16, 17, 1, 2, 13, 18, 13, 17, 1, 2, 6, 8, 14, 17, 19, 1, 11, 4, 5, 5, 8, 9, 6, 1, 2, 3, 4, 5, 7, 9, 10, 13, 14, 14, 2, 8, 15, 19, 16, 14, 4, 19, 1, 2, 3, 4, 5, 6, 7, 8, 9, 10, 11, 12, 13, 14, 15, 16, 17, 18, 19, 20, 1, 3, 4, 7, 10, 16, 4, 1, 9, 10, 16, 6, 1, 3, 5, 10, 14, 8, 1, 3, 4, 8, 9, 11, 15, 16, 17, 13, 1, 6, 7, 8, 9, 10, 10, 18, 5, 17, 10, 1, 2, 3, 9, 11, 17, 6, 17, 20, 1, 2, 3, 4, 5, 6, 7, 8, 9, 10, 11, 12, 13, 14, 15, 16, 17, 20, 16, 20, 20, 4, 10, 7, 9, 1, 3, 7, 8, 9, 11, 14, 17, 1, 8, 9, 14, 3, 16, 2, 11, 1, 2, 3, 4, 5, 6, 7, 8, 9, 10, 11, 12, 13, 14, 15, 16, 17, 18, 19, 20, 6, 20, 16, 18, 20, 1, 2, 10, 18, 15, 16, 1, 6, 9, 6, 10, 16, 1, 11, 20, 1, 7, 10, 15, 17, 2, 9, 1, 3, 7, 1, 2, 6, 9, 10, 14, 18, 6, 1, 2, 6, 8, 19, 12, 1, 2, 3, 4, 6, 7, 8, 9, 11, 12, 14, 15, 16, 17, 19, 1, 9, 15, 17, 20, 2, 10, 6, 14, 8, 16, 13, 13, 7, 16, 5, 11, 1, 2, 3, 4, 7, 9, 11, 16, 17, 18, 6, 7, 1, 14, 7, 13, 16, 1, 3, 5, 6, 7, 8, 9, 10, 16, 20, 1, 9, 19, 7, 3, 16, 4, 7, 16, 11, 15, 16, 6, 8, 11, 3, 5, 13, 9, 5, 7, 20, 2, 11, 19, 8, 15, 16, 1, 7, 9, 10, 20, 2, 10, 11, 16, 4, 8, 11, 6, 10, 16, 20, 19, 12, 2, 1, 2, 3, 6, 7, 11, 18, 1, 2, 6, 7, 18, 10, 17, 1, 3, 13, 7, 4, 17, 9, 13, 18, 7, 14, 6, 14, 16, 11, 6, 3, 14, 1, 2, 3, 6, 10, 15, 16, 18, 2, 19, 3, 5, 10, 13, 1, 10, 19, 6, 7, 9, 7, 19, 1, 3, 4, 9, 10, 11, 13, 15, 16, 1, 3, 16, 20, 5, 18, 12, 7, 9, 1, 2, 6, 9, 14, 19, 12, 2, 6, 10, 14, 15, 19, 1, 3, 6, 7, 10, 16, 1, 2, 3, 7, 9, 14, 1, 11, 12, 6, 6, 8, 18, 2, 7, 10, 14, 19, 15, 3, 5, 18, 1, 7, 9, 17, 16, 20, 6, 9, 1, 6, 7, 9, 10, 6, 14, 8, 5, 7, 9, 2, 5, 16, 6, 10, 15, 15, 13, 17, 16, 5, 3, 2, 1, 2, 3, 11, 17, 1, 3, 16, 20, 6, 7, 14, 1, 3, 6, 9, 10, 13, 1, 15, 8, 20, 1, 5, 6, 10, 2, 6, 7, 10, 15, 18, 19, 1, 13, 15, 13, 19, 20, 20, 19, 15, 19, 18, 14, 15, 3, 20, 12, 20, 6, 6, 7, 10, 12, 16, 18, 11, 13, 14, 1, 2, 3, 4, 5, 6, 7, 8, 9, 10, 15, 17, 1, 2, 3, 6, 7, 13, 3, 3, 14, 10, 11, 5, 1, 4, 7, 14, 17, 1, 19, 20, 5, 6, 20, 1, 18, 3, 3, 6, 3, 8, 9, 1, 2, 3, 4, 5, 6, 7, 8, 9, 10, 11, 12, 15, 19, 10, 20, 1, 9, 19, 14, 1, 8, 9, 14, 4, 1, 2, 3, 5, 6, 7, 9, 10, 13, 17, 10, 11, 12, 14, 18, 16, 2, 5, 10, 1, 6, 7, 10, 1, 3, 15, 11, 6, 9, 3, 5, 6, 7, 17, 12, 3, 9, 2, 6, 7, 13, 14, 9, 1, 20, 18, 1, 11, 16, 20, 1, 2, 6, 7, 8, 13, 2, 6, 9, 10, 11, 6, 9, 16, 18, 10, 8, 1, 18, 8, 1, 2, 3, 5, 6, 8, 9, 10, 11, 14, 16, 17, 19, 3, 15, 20, 1, 6, 9, 1, 2, 3, 5, 6, 7, 9, 10, 11, 13, 16, 17, 1, 2, 3, 5, 6, 7, 8, 9, 10, 11, 13, 14, 20, 10, 17, 7, 16, 1, 2, 3, 4, 6, 8, 9, 10, 11, 12, 13, 16, 17, 18, 20, 2, 9, 17, 1, 11, 20, 1, 9, 18, 9, 16, 1, 6, 9, 11, 15, 16, 19, 3, 9, 10, 11, 17, 3, 18, 1, 2, 15, 18, 13, 1, 2, 6, 8, 13, 15, 19, 1, 6, 10, 11, 18, 19, 11, 1, 3, 7, 8, 9, 11, 13, 14, 15, 4, 15, 20, 1, 10, 15, 7, 14, 1, 17, 7, 3, 15, 1, 4, 5, 6, 7, 8, 9, 13, 16, 1, 3, 7, 8, 1, 6, 7, 8, 9, 10, 16, 18, 13, 18, 3, 5, 8, 11, 14, 15, 16, 1, 2, 7, 16, 17, 14, 1, 2, 2, 6, 16, 1, 2, 3, 7, 8, 9, 10, 13, 18, 19, 5, 5, 2, 13, 17, 10, 11, 3, 1, 3, 6, 16, 19, 11, 18, 12, 15, 16, 15, 11, 1, 2, 11, 6, 7, 9, 11, 19, 20, 17, 8, 4, 4, 8, 1, 5, 6, 7, 9, 11, 13, 20, 7, 9, 13, 17, 18, 1, 5, 7, 8, 10, 15, 6, 8, 14, 1, 6, 7, 11, 16, 1, 2, 6, 1, 3, 6, 7, 9, 10, 15, 16, 3, 1, 20, 3, 3, 7, 1, 2, 3, 6, 7, 8, 9, 14, 15, 17, 13, 1, 15, 3, 9, 11, 20, 6, 1, 2, 3, 4, 5, 6, 7, 10, 11, 14, 15, 16, 18, 19, 20, 6, 8, 12, 9, 11, 19, 3, 6, 7, 16, 1, 2, 7, 9, 10, 15, 7, 9, 6, 1, 6, 19, 1, 4, 7, 14, 1, 3, 5, 6, 9, 11, 16, 19, 6, 16, 2, 6, 7, 10, 14, 16, 20, 1, 2, 3, 4, 5, 6, 7, 8, 9, 10, 11, 12, 13, 14, 16, 17, 20, 2, 7, 10, 16, 7, 10, 3, 16, 1, 3, 6, 7, 9, 10, 11, 13, 14, 16, 19, 10, 14, 18, 18, 2, 11, 17, 1, 8, 11, 1, 2, 3, 4, 5, 6, 7, 8, 9, 10, 11, 12, 13, 14, 15, 16, 17, 18, 20, 1, 2, 4, 6, 7, 9, 1, 9, 11, 1, 7, 9, 14, 17, 1, 3, 10, 1, 2, 3, 6, 7, 9, 10, 11, 14, 3, 4, 7, 8, 17, 1, 2, 3, 4, 6, 7, 9, 14, 19, 2, 1, 1, 6, 10, 5, 3, 5, 7, 12, 16, 1, 2, 6, 7, 9, 16, 17, 13, 20, 1, 10, 1, 5, 9, 1, 17, 1, 2, 4, 6, 16, 1, 9, 1, 10, 13, 7, 16, 4, 11, 9, 10, 6, 11, 14, 7, 6, 11, 17, 8, 4, 14, 1, 3, 5, 6, 7, 9, 10, 15, 20, 14, 1, 2, 6, 7, 9, 10, 11, 15, 16, 20, 7, 16, 19, 20, 6, 1, 6, 10, 9, 8, 15, 3, 5, 15, 1, 5, 4, 6, 20, 6, 10, 1, 2, 3, 5, 7, 9, 10, 11, 13, 14, 16, 17, 18, 20, 6, 13, 1, 2, 11, 1, 11, 14, 18, 11, 2, 16, 9, 10, 19, 1, 6, 10, 16, 4, 10, 15, 1, 3, 6, 9, 10, 16, 7, 18, 14, 17, 1, 1, 4, 7, 9, 12, 18, 2, 10, 1, 2, 15, 1, 2, 3, 4, 6, 7, 8, 14, 16, 17, 18, 20, 1, 2, 11, 1, 9, 14, 16, 19, 6, 13, 5, 1, 2, 3, 7, 8, 9, 10, 11, 13, 14, 15, 16, 17, 20, 14, 20, 7, 1, 6, 13, 20, 8, 1, 2, 3, 6, 7, 9, 11, 15, 17, 19, 1, 2, 9, 11, 15, 1, 2, 3, 4, 5, 7, 9, 11, 13, 20, 11, 1, 6, 14, 4, 1, 2, 3, 4, 6, 9, 10, 16, 20, 17, 17, 11, 19, 1, 2, 6, 9, 11, 1, 2, 3, 4, 6, 7, 8, 20, 13, 14, 2, 14, 17, 20, 1, 2, 5, 7, 8, 11, 1, 11, 6, 9, 10, 16, 18, 15, 1, 7, 15, 20, 2, 4, 9, 7, 16, 3, 9, 1, 2, 6, 7, 9, 10, 14, 20, 10, 11, 3, 3, 5, 1, 4, 5, 6, 7, 9, 10, 16, 17, 18, 1, 3, 4, 5, 6, 7, 8, 9, 10, 11, 12, 13, 14, 16, 17, 20, 8, 16, 1, 10, 16, 18, 5, 17, 3, 12, 3, 1, 3, 11, 14, 16, 1, 6, 7, 8, 11, 12, 18, 19, 1, 3, 5, 6, 7, 9, 13, 15, 16, 20, 1, 6, 16, 7, 1, 7, 9, 14, 1, 2, 3, 5, 6, 7, 8, 9, 10, 11, 12, 13, 15, 16, 17, 20, 1, 3, 1, 3, 4, 5, 7, 8, 9, 13, 16, 17, 19, 20, 3, 8, 9, 10, 13, 16, 6, 10, 20, 10, 2, 6, 10, 11, 14, 16, 18, 6, 1, 20, 7, 8, 16, 1, 3, 15, 20, 5, 7, 14, 20, 5, 7, 10, 11, 15, 1, 1, 1, 2, 14, 1, 2, 6, 7, 9, 11, 14, 5, 6, 7, 8, 9, 10, 11, 13, 14, 2, 3, 12, 2, 9, 6, 14, 1, 4, 9, 19, 14, 1, 3, 5, 11, 12, 1, 2, 6, 7, 9, 10, 11, 14, 20, 14, 7, 1, 2, 6, 7, 10, 15, 17, 1, 20, 5, 7, 20, 1, 3, 6, 9, 18, 20, 13, 19, 18, 11, 20, 2, 1, 5, 6, 7, 9, 10, 16, 17, 1, 1, 2, 3, 10, 11, 1, 4, 2, 15, 1, 3, 6, 7, 8, 9, 10, 11, 14, 15, 16, 17, 18, 19, 20, 6, 14, 15, 17, 3, 13, 1, 7, 9, 10, 1, 6, 9, 13, 18, 1, 2, 3, 4, 6, 7, 9, 11, 17, 6, 20, 1, 5, 6, 7, 14, 15, 18, 19, 16, 17, 11, 5, 1, 9, 14, 16, 17, 1, 6, 7, 9, 11, 18, 7, 13, 1, 2, 19, 1, 10, 17, 18, 2, 13, 16, 17, 1, 2, 6, 7, 9, 10, 11, 15, 16, 19, 11, 1, 6, 19, 1, 3, 20, 3, 20, 5, 18, 4, 1, 3, 11, 19, 5, 6, 1, 7, 16, 17, 1, 4, 6, 17, 6, 20, 1, 3, 7, 8, 9, 11, 17, 20, 9, 18, 9, 1, 6, 10, 11, 13, 14, 11, 7, 13, 14, 20, 17, 1, 2, 9, 10, 1, 2, 7, 9, 14, 7, 20, 10, 9, 6, 16, 8, 6, 8, 10, 19, 5, 1, 6, 10, 14, 15, 5, 7, 9, 11, 2, 1, 6, 11, 16, 1, 3, 5, 7, 11, 14, 15, 18, 19, 1, 1, 11, 13, 18, 2, 3, 18, 1, 3, 5, 7, 8, 9, 1, 6, 8, 9, 12, 18, 1, 3, 7, 1, 3, 6, 7, 8, 9, 11, 12, 16, 17, 20, 5, 9, 2, 6, 9, 14, 16, 1, 5, 7, 13, 10, 17, 2, 4, 7, 9, 17, 10, 4, 2, 8, 9, 15, 1, 3, 20, 2, 8, 9, 1, 2, 3, 6, 9, 11, 12, 13, 16, 20, 3, 5, 12, 2, 2, 1, 9, 1, 19, 13, 13, 3, 5, 6, 7, 18, 9, 2, 9, 11, 19, 17, 4, 1, 2, 5, 6, 7, 10, 16, 1, 10, 19, 3, 9, 13, 17, 8, 9, 4, 1, 2, 3, 6, 9, 10, 11, 13, 14, 16, 1, 2, 5, 6, 7, 8, 9, 10, 13, 14, 16, 18, 13, 1, 8, 10, 11, 1, 2, 3, 4, 5, 6, 7, 8, 9, 10, 11, 13, 14, 15, 16, 17, 18, 19, 6, 13, 16, 3, 2, 11, 15, 9, 2, 9, 10, 12, 6, 20, 4, 16, 2, 15, 6, 14, 5, 1, 3, 6, 7, 9, 10, 16, 18, 19, 8, 2, 2, 1, 8, 7, 3, 6, 16, 9, 11, 12, 1, 18, 1, 2, 3, 4, 7, 9, 1, 2, 3, 5, 6, 7, 8, 9, 10, 11, 12, 16, 18, 19, 2, 6, 10, 14, 18, 1, 9, 10, 14, 16, 1, 4, 6, 20, 14, 16, 11, 20, 4, 1, 2, 9, 18, 1, 5, 6, 9, 14, 1, 2, 19, 1, 2, 3, 6, 7, 8, 9, 10, 11, 13, 14, 16, 18, 20, 10, 5, 9, 1, 3, 6, 7, 9, 15, 18, 20, 14, 1, 3, 4, 5, 7, 13, 20, 17, 16, 2, 11, 5, 14, 13, 10, 20, 6, 9, 19, 10, 1, 2, 11, 13, 14, 18, 9, 15, 10, 1, 2, 7, 8, 9, 10, 11, 14, 17, 18, 20, 9, 16, 20, 6, 2, 6, 9, 10, 15, 16, 18, 13, 9, 1, 2, 3, 5, 6, 7, 8, 9, 10, 12, 13, 16, 17, 18, 9, 1, 2, 7, 8, 10, 15, 9, 2, 19, 4, 2, 6, 10, 1, 7, 14, 10, 4, 1, 2, 3, 4, 5, 6, 7, 8, 9, 10, 11, 12, 13, 14, 15, 16, 19, 20, 11, 17, 1, 2, 10, 16, 8, 1, 11, 6, 9, 5, 1, 4, 7, 8, 9, 16, 18, 12, 10, 8, 6, 1, 2, 3, 6, 7, 8, 9, 10, 14, 15, 16, 19, 16, 1, 2, 17, 3, 16, 19, 16, 20], \"Freq\": [0.9827163300207226, 0.2695442656955779, 0.5904302962855515, 0.10268352978879158, 0.025670882447197896, 0.9711739664015933, 0.6444785457242009, 0.2666807775410487, 0.06667019438526217, 0.7038593854402062, 0.8953867930495889, 0.0034352317467622228, 0.9378182668660868, 0.04122278096114668, 0.0034352317467622228, 0.01030569524028667, 0.14264698547271387, 0.1743463155777614, 0.1743463155777614, 0.4913396166282367, 0.8546003924228363, 0.8808981122281686, 0.8886262386069399, 0.957925653506819, 0.9525618725645687, 0.9601242888501775, 0.026619688916819685, 0.8145624808546823, 0.09583088010055087, 0.010647875566727874, 0.01597181335009181, 0.03194362670018362, 0.8635016284892735, 0.08223825033231176, 0.9164468366396424, 0.19776483941926215, 0.6921769379674175, 0.04848728226785713, 0.31516733474107134, 0.13853509219387752, 0.010390131914540813, 0.003463377304846938, 0.4398489177155611, 0.003463377304846938, 0.04156052765816325, 0.15856688812639, 0.7188365595063013, 0.11628238462601934, 0.09441376836814558, 0.2918243749560863, 0.008583069851649597, 0.6008148896154718, 0.940266248631509, 0.03199717693891633, 0.8105951491192137, 0.03199717693891633, 0.010665725646305442, 0.06399435387783266, 0.04266290258522177, 0.9901626520658761, 0.7697442610329329, 0.9602707826545506, 0.9714471468079514, 0.8244847899873492, 0.42078479620149917, 0.07784518729727734, 0.14096290672750222, 0.006311771943022487, 0.02524708777208995, 0.07574126331626985, 0.06311771943022487, 0.06311771943022487, 0.0504941755441799, 0.04628632758216491, 0.002103923981007496, 0.002103923981007496, 0.02524708777208995, 0.5253479744440875, 0.03791170949596508, 0.064991501993083, 0.04874362649481225, 0.194974505979249, 0.07582341899193017, 0.04874362649481225, 0.05444228578285586, 0.7077497151771261, 0.16332685734856758, 0.9839363044845474, 0.10237394353057495, 0.0803825038091922, 0.24114751142757657, 0.004549953045803331, 0.0030333020305355544, 0.006066604061071109, 0.3435214549581515, 0.07507422525575497, 0.029574694797721655, 0.0007583255076338886, 0.011374882614508329, 0.07128259771758552, 0.0007583255076338886, 0.0030333020305355544, 0.008341580583972774, 0.011374882614508329, 0.006066604061071109, 0.9069840976120115, 0.646651792809585, 0.0032992438408652293, 0.06928412065816981, 0.029693194567787067, 0.07258336449903505, 0.06598487681730458, 0.05938638913557413, 0.0032992438408652293, 0.023094706886056606, 0.023094706886056606, 0.8636106301398623, 0.8948406929289993, 0.7979226603533051, 0.18774650831842474, 0.02586610668421502, 0.03621254935790103, 0.9311798406317408, 0.6610321578163334, 0.08455062483697288, 0.07686420439724807, 0.15372840879449615, 0.007686420439724807, 0.015372840879449614, 0.45486765037139354, 0.5248472888900695, 0.7170556111188493, 0.8758666148956556, 0.878436596296333, 0.7529299849226723, 0.9322008939171041, 0.7947931049192144, 0.17601024629720516, 0.25011982368550206, 0.5558218304122269, 0.06754481568011406, 0.07880228496013306, 0.022514938560038018, 0.10131722352017108, 0.6979630953611785, 0.022514938560038018, 0.9259752369060078, 0.8784370091581315, 0.8802539252715921, 0.9630047910493605, 0.027302505592670737, 0.001706406599541921, 0.13480612136381176, 0.7371676510021099, 0.08190751677801221, 0.001706406599541921, 0.001706406599541921, 0.011944846196793448, 0.01570149844152843, 0.01570149844152843, 0.9473237393055486, 0.01046766562768562, 0.00523383281384281, 0.951569811279213, 0.7704345119579254, 0.8016203679151093, 0.8045226476439107, 0.9359048666524937, 0.9251138138379573, 0.9712430354965107, 0.8215866290764254, 0.2077187380735096, 0.7529804255164723, 0.8712411075527191, 0.9697634094323067, 0.9471134744991462, 0.9174201391088875, 0.9792183669902441, 0.976387007784879, 0.9353906926324191, 0.05726881791627056, 0.926983905063, 0.06588347294831196, 0.9223686212763673, 0.8398242411750606, 0.8469330297424092, 0.5866982491877872, 0.01833432028711835, 0.311683444881012, 0.05500296086135506, 0.9798502730459865, 0.8110202668240246, 0.8854120571769416, 0.8945969555293473, 0.8140364959468208, 0.9415783080847813, 0.7847460729376852, 0.8130467680404145, 0.15320151413825772, 0.7660075706912887, 0.8307529334520711, 0.8977611887121678, 0.9385735312687933, 0.7903191719410295, 0.9840047616938696, 0.9350694948594583, 0.2071655009700492, 0.1381103339800328, 0.4948953634284509, 0.08056436148835247, 0.0690551669900164, 0.5598092456877531, 0.1101264089877547, 0.06424040524285692, 0.10094920823877515, 0.10094920823877515, 0.05965180486836714, 0.9285027816799106, 0.16074094016349216, 0.8037047008174608, 0.9712387019155964, 0.9005372793843431, 0.8212835453924716, 0.9174073549069729, 0.06349904125927891, 0.8889865776299049, 0.021166347086426306, 0.33852729679480054, 0.011284243226493353, 0.07898970258545346, 0.11284243226493353, 0.05642121613246676, 0.39494851292726735, 0.9024750136640269, 0.9609042627278258, 0.9171125892369202, 0.7623638139567929, 0.09027992533698863, 0.14043543941309342, 0.011032307163000443, 0.18754922177100752, 0.03309692148900133, 0.7501968870840301, 0.963639092468985, 0.013698908197495611, 0.7260421344672674, 0.08219344918497366, 0.16438689836994733, 0.9596658252877039, 0.8198185368070428, 0.10247731710088034, 0.24919947836554623, 0.07362711860800229, 0.15291786172431246, 0.390790091073243, 0.11893611467446526, 0.005663624508307869, 0.9837479567438937, 0.951158154503982, 0.7133777476313103, 0.03528845818004308, 0.011762819393347692, 0.25878202665364924, 0.07057691636008616, 0.41169867876716926, 0.19996792968691077, 0.09756560408003592, 0.01393794344000513, 0.16725532128006157, 0.0046459811466683775, 0.04181383032001539, 0.09291962293336754, 0.15331737784005645, 0.023229905733341886, 0.06968971720002566, 0.01858392458667351, 0.05110579261335215, 0.25088298192009234, 0.0046459811466683775, 0.06461047901004073, 0.9045467061405702, 0.3190157976095703, 0.04785236964143554, 0.5742284356972265, 0.031901579760957026, 0.9677415537523121, 0.183558913485687, 0.11472432092855438, 0.6654010613856154, 0.9212886832757241, 0.06141924555171494, 0.8908490139810201, 0.286039968385802, 0.709379121596789, 0.16649652131823528, 0.07399845391921568, 0.7399845391921568, 0.8702758046716323, 0.06694429266704864, 0.04462952844469909, 0.8945560386374442, 0.08770157241543569, 0.48340444597029425, 0.026487914847687356, 0.006621978711921839, 0.30461102074840457, 0.1721714465099678, 0.9574354705396475, 0.036822733277639214, 0.8469228653857019, 0.11046819983291764, 0.9453681258812519, 0.31352404018624824, 0.6270480803724965, 0.07439056983063648, 0.8368939105946603, 0.0037195284915318236, 0.01859764245765912, 0.014878113966127295, 0.007439056983063647, 0.04091481340685006, 0.9040407233591202, 0.8925304976918992, 0.9798763204838603, 0.86736250973535, 0.17751654020676816, 0.15215703446294415, 0.6593471493394246, 0.8478866878883483, 0.09392165227486296, 0.012522886969981727, 0.18158186106473503, 0.17532041757974418, 0.05009154787992691, 0.4508239309193422, 0.006261443484990864, 0.025045773939963455, 0.16279637901479166, 0.8139818950739582, 0.9555079328939204, 0.9261114744928813, 0.013822559320789274, 0.027645118641578547, 0.013822559320789274, 0.8384742024029811, 0.9734122545223861, 0.919579369646405, 0.6848428171476889, 0.0826719915768225, 0.08893175073015894, 0.0905506539594701, 0.11440249487132097, 0.08310369910463881, 0.06799393563106812, 0.04619270547634469, 0.07975796576406245, 0.07414576790245048, 0.04554514418462024, 0.03734270115611043, 0.046732339886115075, 0.012411591424718784, 0.028924404363692473, 0.029679892537371005, 0.00744695485483127, 0.015973178529203304, 0.00658353979919866, 0.031838430176452534, 0.009821346257820952, 0.011880701026288321, 0.13068771128917153, 0.8197683708138941, 0.011880701026288321, 0.00792046735085888, 0.011880701026288321, 0.779515178177089, 0.7107122732892427, 0.12183638970672732, 0.1015303247556061, 0.040612129902242444, 0.917619915779416, 0.10075402948175011, 0.7304667137426882, 0.07556552211131258, 0.08396169123479175, 0.008396169123479175, 0.8992026015774426, 0.024894204741102325, 0.7290445674179967, 0.003556314963014618, 0.12447102370551162, 0.04623209451919003, 0.04978840948220465, 0.01778157481507309, 0.003556314963014618, 0.003556314963014618, 0.9520356781320628, 0.2637474128795823, 0.06837895889470653, 0.03907369079697516, 0.35166321717277643, 0.25397899018033854, 0.00976842269924379, 0.17132198511022, 0.77094893299599, 0.9362839798535499, 0.8752964114980447, 0.964484288743319, 0.08466330438910706, 0.01032479321818379, 0.024779503723641093, 0.04542909016000867, 0.8073988296619723, 0.024779503723641093, 0.03694976124421102, 0.8867942698610645, 0.8955413422942937, 0.024373430911554077, 0.015797594109340608, 0.31324372319663946, 0.08801516718061195, 0.0825988492002666, 0.05280910030836717, 0.0324979078820721, 0.25546966473962235, 0.014443514614254268, 0.04062238485259013, 0.0022567991584772295, 0.0433305438427628, 0.0004513598316954459, 0.0013540794950863376, 0.02527615057494497, 0.003610878653563567, 0.0022567991584772295, 0.0004513598316954459, 0.9648744332664598, 0.9431191308412752, 0.8869008521501551, 0.9739538583257976, 0.021172909963604297, 0.9588836635666083, 0.9028139741735668, 0.012520289048956166, 0.41316953861555344, 0.012520289048956166, 0.2504057809791233, 0.2566659255036014, 0.037560867146868494, 0.006260144524478083, 0.006260144524478083, 0.030016547120849175, 0.6603640366586819, 0.15008273560424587, 0.15008273560424587, 0.11554609433915165, 0.8473380251537788, 0.9034766979771317, 0.8967860458110227, 0.012151339207198842, 0.05518733223269474, 0.16859983149988392, 0.07898370484679247, 0.073414341043493, 0.06025039023569426, 0.045567522026995655, 0.13163950807798744, 0.03544140602099662, 0.034428794420396716, 0.006581975403899373, 0.017214397210198358, 0.015189174008998552, 0.039491852423396236, 0.15087912848938562, 0.040504464023996135, 0.007594587004499276, 0.007088281204199324, 0.0025315290014997585, 0.017214397210198358, 0.830243957933141, 0.9251154469736835, 0.8949590161867944, 0.9439388892602694, 0.8742841456832613, 0.007447281168813666, 0.5287569629857704, 0.40960046428475166, 0.044683687012882, 0.49795652455333245, 0.49795652455333245, 0.7526760693017155, 0.13282518870030274, 0.11068765725025229, 0.07567249132285563, 0.7188886675671284, 0.18918122830713907, 0.0315325889479515, 0.9564885314211955, 0.9836083842994501, 0.326374344456845, 0.05934078990124454, 0.11868157980248908, 0.05934078990124454, 0.4302207267840229, 0.8906010953073489, 0.9561960856451777, 0.3092904426913183, 0.5773421596904608, 0.08247745138435153, 0.02843906965936656, 0.1478831622287061, 0.32420539411677873, 0.18201004581994595, 0.13650753436495947, 0.15925879009245272, 0.017063441795619933, 0.9127049168255476, 0.13223222794647793, 0.017062222960835864, 0.02985889018146276, 0.2857922345940007, 0.5331944675261208, 0.945329546697991, 0.047679802662294005, 0.002724560152131086, 0.05857804327081835, 0.001362280076065543, 0.002724560152131086, 0.014985080836720972, 0.6211997146858876, 0.020434201140983144, 0.008173680456393257, 0.09127276509639137, 0.020434201140983144, 0.03269472182557303, 0.016347360912786515, 0.035419281977704116, 0.02724560152131086, 0.55163360944494, 0.3536112881057308, 0.02828890304845846, 0.05657780609691692, 0.9576313257209805, 0.9617321555957243, 0.8836757452573114, 0.22867680628319392, 0.7622560209439797, 0.7649275792622732, 0.15298551585245465, 0.9501159318083865, 0.8825808813845304, 0.9523744459996696, 0.8081848435162893, 0.669048088859183, 0.2676192355436732, 0.11371192155739386, 0.01595956793787984, 0.03790397385246462, 0.00199494599223498, 0.0398989198446996, 0.05186859579810948, 0.6184332575928437, 0.00199494599223498, 0.00398989198446996, 0.11171697556515887, 0.9155822797223453, 0.9573119242635413, 0.9174437499737633, 0.984888517886886, 0.01946190270657049, 0.009730951353285245, 0.9633641839752393, 0.13596330765906134, 0.05157228911205775, 0.03281872943494584, 0.412578312896462, 0.13596330765906134, 0.08907940846628157, 0.05626067903133573, 0.04688389919277977, 0.028130339515667863, 0.014065169757833932, 0.3517968925981851, 0.08118389829188886, 0.5412259886125924, 0.9162489962777002, 0.8684555943335637, 0.945614459855916, 0.30715032153106403, 0.025595860127588667, 0.6398965031897167, 0.1507880836584947, 0.8426392910327645, 0.9137962093077736, 0.9777118503812575, 0.7793588307900994, 0.19483970769752484, 0.8554602262717237, 0.1706337142915414, 0.6825348571661656, 0.9266491419645464, 0.052998724901673365, 0.9009783233284472, 0.8778097668278195, 0.884193754194248, 0.9612037324101916, 0.8407149758087072, 0.7725382492395821, 0.06621756422053561, 0.15450764984791643, 0.09179477124557497, 0.007061136249659613, 0.06355022624693651, 0.7979083962115363, 0.03530568124829807, 0.008256261870185182, 0.9742389006818515, 0.004128130935092591, 0.008256261870185182, 0.14408623464925066, 0.15849485811417574, 0.6916139263164032, 0.8484471133358052, 0.04109088827992375, 0.8423632097384369, 0.12327266483977126, 0.8732464143510784, 0.8600784007025044, 0.9295312820437414, 0.04394366275686798, 0.006760563501056612, 0.32112676630018905, 0.5273239530824158, 0.09126760726426426, 0.006760563501056612, 0.8928628186285421, 0.12238469132051638, 0.43305352313413487, 0.11297048429586128, 0.11297048429586128, 0.20711255454241234, 0.9427160863817651, 0.7446779937295016, 0.22795541519500617, 0.29634203975350804, 0.45591083039001234, 0.8843312219229678, 0.6291811612902153, 0.31459058064510764, 0.06967404413905973, 0.8360885296687166, 0.03483702206952986, 0.972077179711607, 0.8772707347974598, 0.76036569664375, 0.031681904026822916, 0.15840952013411458, 0.9564667076105818, 0.8765043866685641, 0.062445360424794455, 0.9210690662657183, 0.9507824207645568, 0.7497062375906483, 0.009142758995007907, 0.04876138130670883, 0.08533241728674046, 0.006095172663338604, 0.03047586331669302, 0.06704689929672464, 0.37664018006256184, 0.6142132167174085, 0.7939399386523028, 0.28656112376778914, 0.0017057209748082688, 0.7078742045454315, 0.0179216366462893, 0.16129472981660373, 0.7975128307598739, 0.26610172827856626, 0.43964633367763123, 0.2892410089984416, 0.23207003506623056, 0.6962101051986916, 0.017621093523573533, 0.27312694961538975, 0.004405273380893383, 0.06167382733250737, 0.16740038847394856, 0.030836913666253685, 0.18061620861662872, 0.2599111294727096, 0.004405273380893383, 0.011373529109536838, 0.17060293664305257, 0.8075205667771155, 0.9863634761703688, 0.9642898856600172, 0.9930843793835853, 0.6785899540041311, 0.933699846138081, 0.9569026920434163, 0.009665924907382339, 0.09665924907382338, 0.36086119654227394, 0.09665924907382338, 0.009665924907382339, 0.4253006959248229, 0.6764837195776809, 0.23414533217303984, 0.014335428500390194, 0.5543032353484209, 0.004778476166796731, 0.1385758088371052, 0.047784761667967315, 0.004943348820820714, 0.6426353467066928, 0.08898027877477284, 0.10381032523723499, 0.1483004646246214, 0.004943348820820714, 0.038853562502356, 0.310828500018848, 0.05828034375353399, 0.029140171876766995, 0.49538292190503896, 0.05828034375353399, 0.06815525320150657, 0.8860182916195855, 0.7100757943092584, 0.9801178963743404, 0.951439072181996, 0.03397996686364271, 0.7838327633202281, 0.37399735305922244, 0.01626075448083576, 0.11382528136585031, 0.08130377240417878, 0.40651886202089393, 0.9330085565167573, 0.10898629619077356, 0.03632876539692452, 0.835561604129264, 0.20203855959721082, 0.13132506373818703, 0.010101927979860542, 0.6465233907110747, 0.8847979262690518, 0.08426646916848113, 0.9128116125232778, 0.07206407467289036, 0.9559590286191674, 0.710380892999285, 0.008558805939750423, 0.025676417819251264, 0.24820537225276224, 0.13007426283092285, 0.8454827084009986, 0.9003128091425735, 0.05431686773095976, 0.08147530159643965, 0.8419114498298763, 0.2739999252574713, 0.6027998355664368, 0.10959997010298851, 0.008587109793641409, 0.17174219587282816, 0.8157754303959338, 0.9113648783826689, 0.8602295637800819, 0.6938232869285998, 0.9270857505926913, 0.8763614577210047, 0.772593733080329, 0.9471192576984137, 0.010661964768462501, 0.005330982384231251, 0.010661964768462501, 0.63971788610775, 0.3305209078223375, 0.025462805323134958, 0.7384213543709137, 0.025462805323134958, 0.20370244258507966, 0.9520810389451158, 0.9367765357588305, 0.8494621072356712, 0.18066394724602428, 0.16345785703211718, 0.3699309395990021, 0.13764872171125658, 0.08603045106953536, 0.06022131574867475, 0.22269070770683283, 0.7126102646618651, 0.7558866858942049, 0.18897167147355123, 0.772466701462481, 0.011359804433271779, 0.10223823989944601, 0.10223823989944601, 0.0390687363077803, 0.16115853726959375, 0.014650776115417614, 0.058603104461670455, 0.5762638605397594, 0.05371951242319792, 0.08790465669250568, 0.9251938916103781, 0.8547595172386705, 0.9662241877518033, 0.7627493758803585, 0.6238840297826561, 0.20796134326088536, 0.9116772286349716, 0.8707394756967299, 0.7526630656733673, 0.8068454130243063, 0.9899376066014466, 0.8322204935217745, 0.7878070541483129, 0.010384407174086164, 0.9830572124801569, 0.6782319871312915, 0.9243791650974251, 0.9499701937458875, 0.0642480506967583, 0.028911622813541236, 0.038548830418054986, 0.758126998221748, 0.025699220278703323, 0.08031006337094788, 0.874734201259228, 0.623194341486919, 0.3739166048921514, 0.0034051664833032497, 0.0204309988998195, 0.6708177972107402, 0.05107749724954875, 0.07150849614936824, 0.0340516648330325, 0.013620665933212999, 0.04426716428294225, 0.01021549944990975, 0.054482663732851995, 0.0204309988998195, 0.0034051664833032497, 0.1707338467326433, 0.12195274766617378, 0.06097637383308689, 0.024390549533234756, 0.451225166364843, 0.1707338467326433, 0.8515038296076348, 0.11055419817336598, 0.8475821859958058, 0.869386054579548, 0.05114035615173812, 0.7410269751490921, 0.16442800136600763, 0.20553500170750955, 0.2877490023905134, 0.3014513358376807, 0.04110700034150191, 0.025285547986832406, 0.9608508234996315, 0.9110902393636475, 0.7736301553457031, 0.1841976560346912, 0.9317533210820792, 0.4920975085168822, 0.4920975085168822, 0.8340153719324088, 0.7511381831371627, 0.23111944096528084, 0.9320318523822889, 0.7230252947509681, 0.2595475417054757, 0.01808258187276455, 0.0060275272909215164, 0.03013763645460758, 0.03465828192279872, 0.4957641196782947, 0.08739914571836198, 0.010548172759112653, 0.0030137636454607582, 0.0361651637455291, 0.0015068818227303791, 0.037672045568259475, 0.1853464641958366, 0.010548172759112653, 0.04219269103645061, 0.05928112006959549, 0.9326896224283024, 0.1384723416202819, 0.30002340684394413, 0.5308106428777474, 0.9531038157676187, 0.2305996977576708, 0.660353679942421, 0.010481804443530491, 0.09433623999177443, 0.7123208932371597, 0.16127053173268036, 0.10367391325672308, 0.0950344204853295, 0.06335628032355299, 0.048957125704563675, 0.06335628032355299, 0.21886715020863762, 0.04607729478076581, 0.005759661847595726, 0.18718901004686112, 0.0029588959326230873, 0.03846564712410014, 0.8935865716521724, 0.05917791865246175, 0.8362930506994984, 0.9368239790048786, 0.37006523798482843, 0.07709692458017259, 0.5550978569772427, 0.04134820429923034, 0.4134820429923034, 0.036179678761826546, 0.5013469771281679, 0.09924207514517785, 0.29772622543553356, 0.5954524508710671, 0.9611751181791458, 0.9115038275626679, 0.9161012465029847, 0.762614724300184, 0.06631432385218991, 0.12157626039568149, 0.022104774617396634, 0.011052387308698317, 0.5939112410608357, 0.6676693878814679, 0.31157904767801836, 0.14296497032044397, 0.8399192006326084, 0.4399121557113975, 0.5075909488977663, 0.9404079058817101, 0.9607265902923833, 0.9358439642433706, 0.047991998166326696, 0.7962833373877838, 0.15086258545285552, 0.03771564636321388, 0.7165972809010637, 0.07543129272642776, 0.12377578872492866, 0.2475515774498573, 0.04500937771815588, 0.14628047758400659, 0.360075021745247, 0.06751406657723381, 0.1081492293989063, 0.05407461469945315, 0.05407461469945315, 0.7678595287322347, 0.01081492293989063, 0.8379745571862165, 0.6597880707995027, 0.11474575144339179, 0.20080506502593562, 0.8227571456358919, 0.9432001020472722, 0.37716981015968054, 0.5990344043712573, 0.8686198994875222, 0.09236423365351881, 0.3412345298866112, 0.03848509735563284, 0.007697019471126568, 0.03591942419859065, 0.0718388483971813, 0.04361644366971722, 0.1411120236373204, 0.08723288733943443, 0.03335375104154846, 0.06670750208309692, 0.03078807788450627, 0.007697019471126568, 0.2394702039093705, 0.5507814689915521, 0.1915761631274964, 0.19738272542756874, 0.2786579653095088, 0.522483684955329, 0.19146758029451327, 0.33643589108893046, 0.04649926950009608, 0.0027352511470644754, 0.10941004588257901, 0.019146758029451327, 0.08752803670606321, 0.01641150688238685, 0.0027352511470644754, 0.019146758029451327, 0.0765870321178053, 0.09299853900019216, 0.014351112310433057, 0.0006378272137970248, 0.001594568034492562, 0.9694973649714776, 0.0019134816413910744, 0.0009567408206955372, 0.005740444924173223, 0.0003189136068985124, 0.0022323952482895867, 0.0012756544275940496, 0.0003189136068985124, 0.0006378272137970248, 0.0003189136068985124, 0.8961458483798974, 0.9716927442610088, 0.8821615837775266, 0.8967058939037126, 0.0005728347599269951, 0.00028641737996349753, 0.004869095459379458, 0.5356005005317404, 0.00028641737996349753, 0.001718504279780985, 0.0008592521398904925, 0.0022913390397079803, 0.002004921659744483, 0.12430514290415792, 0.32537014363853317, 0.0005728347599269951, 0.00028641737996349753, 0.00028641737996349753, 0.00028641737996349753, 0.8848079506172406, 0.09831199451302673, 0.9208225060516241, 0.019495041773334918, 0.974752088666746, 0.8470048083293603, 0.33990947452636466, 0.08944986171746439, 0.5545891426482792, 0.924318442625429, 0.849675969074437, 0.016905196603358322, 0.1521467694302249, 0.05635065534452774, 0.05635065534452774, 0.13524157282686658, 0.07889091748233884, 0.4958857670318441, 0.6006926442136963, 0.22883529303378905, 0.1001154407022827, 0.05720882325844726, 0.007151102907305908, 0.335316379319921, 0.6520040708998464, 0.04377871235039743, 0.766127466131955, 0.08755742470079486, 0.06566806852559615, 0.8891588935038344, 0.017786804850015294, 0.026680207275022943, 0.053360414550045886, 0.17786804850015295, 0.6180914685380314, 0.008893402425007647, 0.09338072546258029, 0.08609419805285747, 0.012299171150408208, 0.6395568998212269, 0.24598342300816417, 0.8777569732740391, 0.8090698990533636, 0.9661156383267678, 0.0068360609750505955, 0.3076227438772768, 0.013672121950101191, 0.08203273170060714, 0.25293425607687203, 0.04785242682535417, 0.06152454877545536, 0.04101636585030357, 0.17773758535131548, 0.8448967532399294, 0.8723263657955218, 0.09692515175505799, 0.16622162766172802, 0.7313751617116032, 0.0664886510646912, 0.8574394960660335, 0.9785465482369377, 0.27992193284671724, 0.7125285563370984, 0.9446688105317216, 0.9260832267981096, 0.9362658699338832, 0.09357513714111862, 0.28072541142335583, 0.049015548026300225, 0.3431088361841016, 0.004455958911481839, 0.17823835645927355, 0.03564767129185471, 0.004455958911481839, 0.013367876734445517, 0.1830397062023407, 0.7321588248093628, 0.009447352048225622, 0.9730772609672391, 0.14201674862630748, 0.00489712926297612, 0.0979425852595224, 0.651318191975824, 0.00489712926297612, 0.0489712926297612, 0.00489712926297612, 0.03917703410380896, 0.029909786176454005, 0.8972935852936201, 0.09421873492171429, 0.026919638549061226, 0.6460713251774695, 0.16151783129436736, 0.013459819274530613, 0.05383927709812245, 0.9420841895468044, 0.17669098733260374, 0.17669098733260374, 0.23558798311013834, 0.029448497888767293, 0.36810622360959117, 0.9389481441315212, 0.100605946413564, 0.871918202250888, 0.7770981786740354, 0.06872296818205754, 0.14801870069981626, 0.005445803743874838, 0.14703670108462064, 0.20149473852336902, 0.021783214975499354, 0.11436187862137161, 0.34853143960798966, 0.07079544867037289, 0.005445803743874838, 0.07079544867037289, 0.005445803743874838, 0.815336715277599, 0.8664461207060382, 0.1896371453063768, 0.1896371453063768, 0.6321238176879226, 0.8001177975341751, 0.17780395500759447, 0.8152410833056989, 0.030371864325827825, 0.09111559297748348, 0.865598133286093, 0.15123022944469636, 0.7561511472234818, 0.9678151684916564, 0.9232469418943392, 0.6836959807634685, 0.9225882431566051, 0.07175686335662484, 0.7882996278248152, 0.9282629268382264, 0.20086167206456526, 0.025107709008070658, 0.7532312702421198, 0.46948404397948634, 0.11332373475366912, 0.11332373475366912, 0.016189104964809874, 0.2428365744721481, 0.0647564198592395, 0.9418117742287225, 0.7517368493429499, 0.7789781211410347, 0.9477920425409422, 0.8168633121187016, 0.0642966319779439, 0.04676118689305011, 0.04676118689305011, 0.023380593446525055, 0.7189532484806455, 0.023380593446525055, 0.01753544508489379, 0.05260633525468137, 0.0034029224649461966, 0.16334027831741743, 0.0034029224649461966, 0.6193318886202078, 0.2041753478967718, 0.006916075763782258, 0.006916075763782258, 0.02074822729134677, 0.8437612431814354, 0.11065721222051612, 0.006916075763782258, 0.14761748293262822, 0.826657904422718, 0.9570926869509493, 0.2762975446084273, 0.13814877230421366, 0.1507077516045967, 0.05023591720153224, 0.36421039971110875, 0.08159776144760744, 0.023313646127887843, 0.8742617297957941, 0.0038061470687393074, 0.17508276516200816, 0.011418441206217923, 0.022836882412435845, 0.681300325304336, 0.05709220603108961, 0.0038061470687393074, 0.03806147068739307, 0.8123851198721724, 0.3899781752546177, 0.5849672628819266, 0.8669803861708388, 0.8571019243706596, 0.9042677884802874, 0.434869512927144, 0.05772604153900142, 0.23090416615600567, 0.007696805538533522, 0.053877638769734656, 0.04618083323120113, 0.09236166646240226, 0.061574444308268174, 0.003848402769266761, 0.003848402769266761, 0.845616004219081, 0.26438024575580843, 0.7270456758284732, 0.5442547934729697, 0.03265528760837818, 0.3809783554310788, 0.03265528760837818, 0.9587554372708985, 0.003564924542235896, 0.22815517070309735, 0.10338281172484098, 0.24597979341427684, 0.012477235897825636, 0.09981788718260509, 0.10516527399595893, 0.01782462271117948, 0.005347386813353844, 0.001782462271117948, 0.06773356630248202, 0.007129849084471792, 0.053473868133538445, 0.04634401904906665, 0.003564924542235896, 0.007252321293528235, 0.23932660268643174, 0.7469890932334081, 0.7554908508344018, 0.1988133817985268, 0.01988133817985268, 0.19240809121650154, 0.19240809121650154, 0.038481618243300306, 0.5579834645278544, 0.12554853668899607, 0.27899674819776904, 0.023249729016480754, 0.08369902445933072, 0.013949837409888453, 0.46964452613291124, 0.975623413807412, 0.9069211941530425, 0.990528801719717, 0.9150999134029383, 0.16302877705777116, 0.760800959602932, 0.018793028870799283, 0.018793028870799283, 0.9584444724107635, 0.9193131378851026, 0.01582814423457773, 0.07122664905559979, 0.003957036058644433, 0.10486145555407747, 0.005935554087966649, 0.0019785180293222164, 0.02572073438118881, 0.7696435134063422, 0.8556233796613114, 0.08556233796613114, 0.57014527770943, 0.14756701305420541, 0.003353795751231941, 0.003353795751231941, 0.08719868953203047, 0.14756701305420541, 0.04024554901478329, 0.06828337410285068, 0.0022761124700950226, 0.10583922985941856, 0.0011380562350475113, 0.010242506115427602, 0.03300363081637783, 0.03414168705142534, 0.23443958441978735, 0.05121253057713801, 0.12404812962017873, 0.11152951103465611, 0.10242506115427602, 0.00910444988038009, 0.0899064425687534, 0.01820889976076018, 0.0022761124700950226, 0.0011380562350475113, 0.9284518337084169, 0.9723038972862087, 0.8010921207039878, 0.9467728041715118, 0.07305911445841161, 0.8767093735009392, 0.7987996889611446, 0.1597599377922289, 0.021493435178735542, 0.04836022915215497, 0.09134709950962605, 0.05373358794683885, 0.20956099299267153, 0.2686679397341943, 0.1826941990192521, 0.016120076384051656, 0.0053733587946838855, 0.09672045830430993, 0.0053733587946838855, 0.038449090153014044, 0.9227781636723371, 0.9168265083707645, 0.9478072356161883, 0.020600172497585733, 0.2060017249758573, 0.7622063824106721, 0.08622939462310085, 0.8622939462310085, 0.8657678558719267, 0.01461967958500669, 0.004716025672582803, 0.11695743668005353, 0.27918871981690196, 0.018864102690331213, 0.09479211601891434, 0.07026878252148376, 0.1414807701774841, 0.00047160256725828034, 0.03442698740985446, 0.0023580128362914016, 0.039614615649695546, 0.0023580128362914016, 0.0018864102690331213, 0.049046666994861154, 0.028767756602755098, 0.007545641076132485, 0.0886612826445567, 0.0037728205380662427, 0.15499547848953063, 0.08912240013148011, 0.09687217405595663, 0.15887036545176889, 0.48823575724202145, 0.007749773924476531, 0.24479368091266038, 0.504886966882362, 0.22949407585561912, 0.17689622115610099, 0.057063297147129356, 0.01141265942942587, 0.6676405766214134, 0.0798886160059811, 0.8593342239000187, 0.07161118532500155, 0.035805592662500774, 0.01016555095019622, 0.0040662203800784875, 0.8864360428571104, 0.0020331101900392438, 0.01016555095019622, 0.054893975131059584, 0.0020331101900392438, 0.0020331101900392438, 0.026430432470510173, 0.015808062042633488, 0.005269354014211162, 0.0281032214091262, 0.024590318732985426, 0.9238934038250238, 0.040830639002882856, 0.16332255601153142, 0.01814695066794794, 0.13156539234262254, 0.42191660302978956, 0.00907347533397397, 0.1406388676765965, 0.004536737666986985, 0.06805106500480476, 0.9180010372187474, 0.9327216938963864, 0.946334146750425, 0.9694682987951562, 0.9546723080940719, 0.8805315085419536, 0.6874426735691924, 0.24907343245260596, 0.019925874596208478, 0.009962937298104239, 0.039851749192416956, 0.03895230755426136, 0.023371384532556813, 0.0545332305759659, 0.031161846043409085, 0.06232369208681817, 0.2181329223038636, 0.5609132287813635, 0.08693805216188476, 0.8693805216188476, 0.947885903700685, 0.04988873177372027, 0.04239553443575537, 0.7207240854078413, 0.21197767217877686, 0.16634356423436342, 0.7984491083249444, 0.036029907659121244, 0.7025831993528642, 0.0810672922330228, 0.02702243074434093, 0.13511215372170465, 0.20855368460359847, 0.7773364607952307, 0.9693271722345629, 0.11090355097454911, 0.8317766323091184, 0.8959176275349242, 0.8761128976413125, 0.746228300113421, 0.9456589492431873, 0.9324393669000255, 0.9184379326969362, 0.25769416164050907, 0.33132106496636876, 0.3865412424607636, 0.9087151460818919, 0.07175547068940182, 0.8610656482728217, 0.03587773534470091, 0.9146307533690292, 0.7297584610660344, 0.9375066185910694, 0.01668039188182631, 0.11676274317278418, 0.0027800653136377186, 0.013900326568188593, 0.0027800653136377186, 0.030580718450014904, 0.011120261254550875, 0.7978787450140252, 0.0027800653136377186, 0.8797222378390043, 0.006023347208047071, 0.6023347208047071, 0.1445603329931297, 0.0030116736040235355, 0.06324514568449424, 0.13853698578508264, 0.006023347208047071, 0.030116736040235355, 0.0030116736040235355, 0.0030116736040235355, 0.8101181370195292, 0.887899155238472, 0.7038597046264599, 0.9531601846247146, 0.9151056844085822, 0.015459958898446525, 0.9172908946411605, 0.0618398355937861, 0.933094710498444, 0.8120379290025274, 0.7131579226866486, 0.8495920285862297, 0.26175908929462766, 0.7125664097464864, 0.12508149023025633, 0.750488941381538, 0.8985493721671829, 0.07188394977337463, 0.9594950635423989, 0.3755720750223192, 0.5868313672223737, 0.055779511647711374, 0.05724739353317746, 0.12036631460821928, 0.004403645656398266, 0.05724739353317746, 0.15412759797393932, 0.01174305508372871, 0.07339409427330444, 0.0014678818854660888, 0.37430988079385263, 0.0029357637709321776, 0.05724739353317746, 0.01174305508372871, 0.016146700740126977, 0.9615669197219638, 0.8586041560391946, 0.11586828620284828, 0.871329512245419, 0.004634731448113931, 0.012325796099991565, 0.009244347074993674, 0.9706564428743358, 0.0030814490249978913, 0.969512196676595, 0.8012641791687579, 0.18938971507625188, 0.19251489480669493, 0.2887723422100424, 0.48128723701673726, 0.10454540951637335, 0.7666663364534045, 0.10454540951637335, 0.925642279781343, 0.10081219995775183, 0.38308635983945694, 0.5040609997887592, 0.008338798656455345, 0.5420219126695974, 0.06671038925164276, 0.19179236909847294, 0.18345357044201757, 0.8080356769266107, 0.4596427348421182, 0.5209284328210674, 0.9600767924347114, 0.8306704185460659, 0.9754367747558557, 0.1769430174910078, 0.8139378804586359, 0.6853341719527575, 0.11422236199212625, 0.11422236199212625, 0.9959673706995823, 0.9445414091568959, 0.022489081170402284, 0.28080837191072705, 0.29418019914457116, 0.41452664424916846, 0.03541793416388537, 0.10271200907526756, 0.22667477864886634, 0.024792553914719757, 0.07791945516054781, 0.007083586832777073, 0.3187614074749683, 0.056668694662216586, 0.12042097615721024, 0.007083586832777073, 0.0035417934163885366, 0.017708967081942684, 0.018812526975115026, 0.02508336930015337, 0.953168033405828, 0.024022123714622808, 0.3363097320047193, 0.14413274228773687, 0.444409288720522, 0.048044247429245616, 0.3863203951006234, 0.5794805926509351, 0.8282637972663677, 0.05483046809268496, 0.07170138135197264, 0.02319750573152056, 0.00421772831482192, 0.4913653486767537, 0.06748365303715072, 0.00843545662964384, 0.07802797382420552, 0.00421772831482192, 0.00210886415741096, 0.00421772831482192, 0.0948988870834932, 0.08013683798161648, 0.01476204910187672, 0.9288890237992982, 0.9005784092528645, 0.9029295739298157, 0.06105052297453669, 0.24420209189814676, 0.325602789197529, 0.34595296352237453, 0.9443550928158021, 0.1579796157071637, 0.13089739587164992, 0.22117146199002918, 0.024825368182554295, 0.0022568516529594814, 0.027082219835513777, 0.39494903926790925, 0.006770554958878444, 0.006770554958878444, 0.027082219835513777, 0.020635443086060818, 0.0025794303857576023, 0.007738291157272806, 0.9647069642733432, 0.0025794303857576023, 0.1713309012374215, 0.003807353360831589, 0.022844120164989535, 0.034266180247484304, 0.007614706721663178, 0.015229413443326355, 0.007614706721663178, 0.7233971385580019, 0.011422060082494767, 0.003807353360831589, 0.8843882082742671, 0.019903427723156543, 0.2985514158473481, 0.6568131148641658, 0.9537301138604035, 0.09714909122012949, 0.12143636402516186, 0.09714909122012949, 0.2963047282213949, 0.11172145490314891, 0.12143636402516186, 0.04371709104905827, 0.06314690929308417, 0.04371709104905827, 0.6942277163024814, 0.9932249631946628, 0.17291039038479683, 0.8151489832426136, 0.19636707480372484, 0.006136471087616401, 0.15954824827802644, 0.11045647957709523, 0.5216000424473941, 0.07939106415139142, 0.008821229350154603, 0.09262290817662333, 0.3484385593311068, 0.25140503647940615, 0.09703352285170062, 0.11467598155200984, 0.0044106146750773016, 0.9264260300916698, 0.9324607677712401, 0.9334273806016116, 0.17732588677507394, 0.8156990791653401, 0.8959623995351246, 0.4931045532110091, 0.21754612641662166, 0.05801230037776577, 0.04350922528332433, 0.130527675849973, 0.029006150188882886, 0.028417323906935917, 0.9661890128358211, 0.3020848482226083, 0.09611790625264809, 0.4531272723339124, 0.09611790625264809, 0.027462258929328028, 0.8607346865683304, 0.9675836561737489, 0.13234672920314997, 0.8542379794021497, 0.8731482582824777, 0.36777138420184835, 0.5799471827798378, 0.014145053238532629, 0.05951805243496213, 0.892770786524432, 0.14509601489482296, 0.8222107510706634, 0.06747085565752443, 0.005622571304793703, 0.18273356740579536, 0.07028214130992129, 0.03373542782876222, 0.10682885479108037, 0.4751072752550679, 0.05903699870033388, 0.10021501588561121, 0.8518276350276953, 0.8736238744072953, 0.8859334574841452, 0.9362840916582249, 0.10723299275232383, 0.08680766079950024, 0.1531899896461769, 0.05616966287026486, 0.020425331952823585, 0.07659499482308844, 0.20935965251644176, 0.2604229823985007, 0.005106332988205896, 0.03063799792923538, 0.008830337648252558, 0.04584983009669598, 0.5800852578159758, 0.2323058058232596, 0.00033962837108663686, 0.015622905069985295, 0.05671793797146835, 0.008830337648252558, 0.02818915480019086, 0.008830337648252558, 0.0006792567421732737, 0.002717026968693095, 0.00033962837108663686, 0.0037359120819530057, 0.0013585134843465475, 0.00543405393738619, 0.8469127351080641, 0.14115212251801068, 0.17880156895163554, 0.7867269033871963, 0.8781619714407395, 0.08363447347054662, 0.8863097665130312, 0.06817767434715624, 0.8133224211528978, 0.6765940960259202, 0.9563142841735973, 0.009700804734381478, 0.09700804734381477, 0.3007249467658258, 0.4753394319846924, 0.1261104615469592, 0.14563585991515432, 0.055241188243679226, 0.10043852407941678, 0.04017540963176671, 0.07532889305956258, 0.5323241776209089, 0.04017540963176671, 0.005021926203970839, 0.013179337448479482, 0.014377459034704889, 0.0635004440699466, 0.0011981215862254073, 0.16174641414043, 0.003594364758676222, 0.7284579244250478, 0.008386851103577852, 0.0023962431724508146, 0.0023962431724508146, 0.9028448135898426, 0.15543954644407415, 0.8160576188313894, 0.816545990452701, 0.043364263431271165, 0.6287818197534318, 0.17345705372508466, 0.1300927902938135, 0.10983526389096694, 0.16949886402926997, 0.0976313456808595, 0.009491936385639119, 0.024407836420214876, 0.037967745542556476, 0.15865093673139669, 0.023051845507980714, 0.018983872771278238, 0.0067799545611707986, 0.031187790981385674, 0.17356683676597245, 0.010847927297873278, 0.09491936385639119, 0.0067799545611707986, 0.024407836420214876, 0.24172972949220708, 0.7251891884766213, 0.02831880466102179, 0.03964632652543051, 0.3355778352331082, 0.25062142125004283, 0.06938107141950338, 0.07079701165255448, 0.012743462097459805, 0.07079701165255448, 0.016991282796613074, 0.02407098396186852, 0.06230137025424794, 0.015575342563561984, 0.1983909494913316, 0.020883257841192802, 0.156624433808946, 0.010441628920596401, 0.1252995470471568, 0.4907565592680308, 0.06563259102036309, 0.30190991869367023, 0.616946355591413, 0.9294958900582531, 0.09305197521013694, 0.015508662535022824, 0.263647263095388, 0.02584777089170471, 0.08271286685345507, 0.010339108356681883, 0.5014467552990713, 0.9514095199604502, 0.4188740104637124, 0.5235925130796405, 0.9389205073935821, 0.9502188089799571, 0.8968484654461482, 0.03454285714401925, 0.10362857143205775, 0.6217714285923465, 0.22452857143612512, 0.1400654214572206, 0.023344236909536766, 0.011672118454768383, 0.8170482918337868, 0.9341691240582071, 0.09695352877490913, 0.08813957161355375, 0.29967454348608275, 0.5112095153586118, 0.9367869128196443, 0.9241389294126481, 0.023569304277499085, 0.1649851299424936, 0.8013563454349689, 0.07969813196103485, 0.11290568694479938, 0.1461132419285639, 0.1461132419285639, 0.059773598970776144, 0.006641510996752905, 0.43833972578569175, 0.8184363895341478, 0.04680454533153289, 0.03677499990334727, 0.6151454529287179, 0.006686363618790413, 0.06017727256911371, 0.05014772714092809, 0.17384545408855073, 0.006686363618790413, 0.21354589092603998, 0.42709178185207997, 0.21354589092603998, 0.9330725234086272, 0.9193292639682411, 0.8686595125634661, 0.10423914150761593, 0.19464193818191652, 0.7785677527276661, 0.0176758665601693, 0.9721726608093116, 0.9063858818130328, 0.4825921958547745, 0.11136742981264026, 0.07424495320842685, 0.259857336229494, 0.07424495320842685, 0.015396228592327487, 0.2754214225960806, 0.02737107305302664, 0.005132076197442496, 0.015396228592327487, 0.6055849912982144, 0.00684276826325666, 0.04618868577698246, 0.001710692065814165, 0.971681433380602, 0.9439526147804178, 0.012446245012810324, 0.7509234491062228, 0.10786745677768947, 0.06223122506405161, 0.053933728388844734, 0.008297496675206881, 0.004148748337603441, 0.03155709004473718, 0.9151556112973783, 0.6547038409003969, 0.29097948484462083, 0.8689128616981511, 0.037449906581050935, 0.17476623071157102, 0.17476623071157102, 0.4119489723915603, 0.04993320877473458, 0.14979962632420374, 0.9038488819782522, 0.7285952105645934, 0.7616745761879986, 0.9096585393563758, 0.9463563945192704, 0.9561059973029509, 0.3854636240503674, 0.003973851794333684, 0.08345088768100738, 0.03973851794333685, 0.37354206866736633, 0.051660073326337895, 0.05960777691500527, 0.003973851794333684, 0.971453038827809, 0.1012428602187975, 0.026998096058346, 0.080994288175038, 0.1417400043063165, 0.6412047813857175, 0.1589878029505739, 0.6359512118022956, 0.48323625085735666, 0.48323625085735666, 0.07199806478812223, 0.09899733908366806, 0.04499879049257639, 0.0029999193661717593, 0.04499879049257639, 0.12299669401304214, 0.26099298485694306, 0.00899975809851528, 0.03599903239406112, 0.07499798415429398, 0.032999113027889354, 0.029999193661717594, 0.06599822605577871, 0.05399854859109167, 0.04499879049257639, 0.10487061270307618, 0.05243530635153809, 0.7865295952730713, 0.05243530635153809, 0.8776666722158597, 0.07978787929235087, 0.02638693028940484, 0.02638693028940484, 0.7388340481033355, 0.18470851202583388, 0.07484172384074915, 0.1496834476814983, 0.07484172384074915, 0.11226258576112373, 0.5613129288056187, 0.005218025564722552, 0.07827038347083828, 0.21393904815362463, 0.09914248572972849, 0.02609012782361276, 0.11479656242389615, 0.14610471581223144, 0.020872102258890208, 0.28699140605974033, 0.07527847699581039, 0.8657024854518195, 0.5560012762592232, 0.018533375875307442, 0.1760670708154207, 0.15753369494011327, 0.018533375875307442, 0.027800063812961164, 0.018533375875307442, 0.018533375875307442, 0.9384155617796183, 0.8451159154760555, 0.9710404602458828, 0.9307125715638209, 0.014812347921615482, 0.25180991466746316, 0.20737287090261675, 0.1629358271377703, 0.35549635011877156, 0.14253353766625843, 0.11402683013300674, 0.1710402451995101, 0.28506707533251685, 0.028506707533251685, 0.25656036779926517, 0.22291963629996228, 0.7430654543332076, 0.12009023620484616, 0.21616242516872308, 0.6484872755061692, 0.9772762583113263, 0.14091375304465342, 0.7515400162381516, 0.046971251014884474, 0.17067585661610668, 0.7111494025671112, 0.08533792830805334, 0.02844597610268445, 0.033421240974988164, 0.5748453447697964, 0.11363221931495976, 0.0200527445849929, 0.013368496389995266, 0.0802109783399716, 0.1403692120949503, 0.006684248194997633, 0.006684248194997633, 0.006684248194997633, 0.8858442349784258, 0.19538777823678852, 0.2075995143765878, 0.5861633347103655, 0.060055361622991486, 0.19517992527472233, 0.7206643394758978, 0.030819061200055353, 0.9553908972017159, 0.06559036145582145, 0.9182650603815002, 0.8732596125403228, 0.029455874506837645, 0.007363968626709411, 0.03681984313354705, 0.9204960783386764, 0.9381135854100484, 0.9840787083207737, 0.19031707696064196, 0.10573170942257887, 0.6766829403045048, 0.9342739766953235, 0.7013404413050411, 0.15836719642371896, 0.0904955408135537, 0.022623885203388424, 0.18473423899396055, 0.8128306515734264, 0.2555422752677904, 0.12493177901980863, 0.141967930704328, 0.07382332396625056, 0.27825714418048286, 0.06246588950990432, 0.00567871722817312, 0.05110845505355808, 0.9446352009464278, 0.7673041293475011, 0.9511308889714906, 0.00657666337296711, 0.24333654479978306, 0.06576663372967109, 0.6642430006696781, 0.00657666337296711, 0.00657666337296711, 0.8530943575979208, 0.9558478802116654, 0.8677971495796085, 0.08142939751597617, 0.8142939751597617, 0.9775398946535679, 0.09442467059753591, 0.21245550884445583, 0.16524317354568785, 0.5075326044617555, 0.01678904260466945, 0.2350465964653723, 0.6883507467914475, 0.05036712781400835, 0.9508217981404306, 0.9206719969203295, 0.04002921725740563, 0.8966343052187512, 0.960800120199541, 0.1341682137052318, 0.8497320201331348, 0.9157377644501168, 0.9129381162807423, 0.8256218772592044, 0.15011306859258264, 0.8052263881009228, 0.8573094191334357, 0.08167205918325712, 0.01020900739790714, 0.14292610357069996, 0.1020900739790714, 0.653376473466057, 0.9451247494295905, 0.8663238661241175, 0.04812910367356208, 0.06417213823141611, 0.9175118466178622, 0.24161934024205808, 0.1510120876512863, 0.08053978008068603, 0.5235085705244592, 0.12927190902098257, 0.07756314541258953, 0.008618127268065504, 0.32748883618648916, 0.04309063634032752, 0.02585438180419651, 0.33610696345455465, 0.05170876360839302, 0.9662509473505928, 0.9536721940440729, 0.03045372017002658, 0.944065325270824, 0.9296794216798211, 0.9122712318637983, 0.597911479480206, 0.1226485086113243, 0.2759591443754797, 0.12371718010650237, 0.19588553516862875, 0.15464647513312796, 0.3196027152751311, 0.07216835506212639, 0.11340741509762718, 0.28144000624411514, 0.16082286071092292, 0.1206171455331922, 0.08041143035546146, 0.32164572142184583, 0.020102857588865364, 0.8015644507322248, 0.11875028899736664, 0.05937514449868332, 0.04044109945910953, 0.20027973065463767, 0.017331899768189798, 0.005777299922729933, 0.13672943150460842, 0.05777299922729933, 0.05392146594547938, 0.0038515332818199553, 0.021183433050009755, 0.45833246053657467, 0.0019257666409099776, 0.8089328614754783, 0.9576188216456445, 0.3225062072182781, 0.034554236487672654, 0.08062655180456953, 0.4031327590228476, 0.14973502477991482, 0.23723175402998825, 0.32948854726387256, 0.4217453404977569, 0.013179541890554904, 0.8546265414850588, 0.9349056037957937, 0.015720131453508108, 0.06288052581403243, 0.15720131453508107, 0.07860065726754054, 0.6759656525008486, 0.9163947931244509, 0.6599129709655813, 0.018297806612162047, 0.009148903306081023, 0.08234012975472921, 0.8782947173837782, 0.2412365424477532, 0.38195785887560924, 0.3618548136716298, 0.07260982628325534, 0.6776917119770498, 0.24203275427751778, 0.08590094813842124, 0.19089099586315833, 0.01908909958631583, 0.07158412344868437, 0.17657417117342145, 0.028633649379473748, 0.20043554565631624, 0.07158412344868437, 0.07635639834526332, 0.07158412344868437, 0.8388219783652574, 0.1091502354565383, 0.8732018836523064, 0.9798240797756754, 0.9530579373540176, 0.9409806443301495, 0.946051322657485, 0.9693073805952472, 0.8640191115769679, 0.8634206987742941, 0.8334100486715933, 0.528764961746228, 0.12155516361982252, 0.07293309817189352, 0.14586619634378703, 0.12763292180081365, 0.931664121513374, 0.5290860229332395, 0.08465376366931832, 0.08465376366931832, 0.2962881728426141, 0.802146723900479, 0.9378453674857906, 0.5472748704109597, 0.008756397926575354, 0.004378198963287677, 0.15761516267835637, 0.008756397926575354, 0.2101535502378085, 0.06129478548602748, 0.809407213326842, 0.1686265027764254, 0.9586148391097986, 0.08872271067172027, 0.03548908426868811, 0.7585791762432084, 0.11090338833965034, 0.9383646339291827, 0.9616505209848573, 0.9542986852840105, 0.03006577189644253, 0.154623969753133, 0.03865599243828325, 0.06872176433472578, 0.14603374921129228, 0.07301687460564614, 0.06013154379288506, 0.004295110270920361, 0.3994452551955936, 0.02577066162552217, 0.08486083375865403, 0.10607604219831754, 0.006061488125618145, 0.015153720314045362, 0.1757831556429262, 0.1091067862611266, 0.08183008969584496, 0.23942878096191672, 0.009092232188427217, 0.0030307440628090723, 0.12729125063798105, 0.04243041687932701, 0.9234803072759334, 0.9427571591487294, 0.03625989073648959, 0.8659867939305702, 0.966721884732909, 0.031121044134516083, 0.0160624743920083, 0.06023427897003113, 0.020078092990010375, 0.00903514184550467, 0.06324599291853268, 0.11846074864106122, 0.0803123719600415, 0.044171804578022826, 0.035136662732518156, 0.01907418834050986, 0.0030117139485015564, 0.011042951144505707, 0.020078092990010375, 0.035136662732518156, 0.011042951144505707, 0.41762433419221584, 0.005019523247502594, 0.1577797403920685, 0.0631118961568274, 0.7573427538819287, 0.8893284075140525, 0.2658643088508542, 0.15951858531051255, 0.5849014794718793, 0.9715344861890493, 0.12128869953705436, 0.6930782830688821, 0.15594261369049847, 0.5976179297032753, 0.9697120068100322, 0.9299733974632418, 0.10527969341332814, 0.8422375473066251, 0.157691033828605, 0.7884551691430249, 0.08482494732558375, 0.8906619469186294, 0.9366467924065082, 0.02909304805391367, 0.04779572180285817, 0.04156149721987667, 0.02909304805391367, 0.7335604259308232, 0.062342245829815006, 0.04779572180285817, 0.008312299443975334, 0.8277216991950652, 0.7412872889600142, 0.9831157978717308, 0.9428670383331019, 0.1719293070822173, 0.8023367663836807, 0.8937268662553496, 0.887916513120946, 0.8506416630382763, 0.8400287708948498, 0.5025569949960617, 0.30153419699763695, 0.15076709849881847, 0.15738294890167723, 0.786914744508386, 0.08158664285282333, 0.14277662499244081, 0.16317328570564665, 0.04079332142641166, 0.5303131785433516, 0.02039666071320583, 0.13659616149353895, 0.17302180455848268, 0.021248291787883837, 0.006070940510823954, 0.04856752408659163, 0.258014971710018, 0.05463846459741558, 0.19123462609095454, 0.04553205383117965, 0.00910641076623593, 0.003035470255411977, 0.003035470255411977, 0.003035470255411977, 0.04553205383117965, 0.4553239390443668, 0.054952889195009784, 0.43962311356007827, 0.03140165096857702, 0.007850412742144255, 0.017159544224396486, 0.17159544224396486, 0.2745527075903438, 0.05147863267318946, 0.4633076940587051, 0.23557623126829244, 0.06730749464808355, 0.1682687366202089, 0.4711524625365849, 0.19353729567473987, 0.7741491826989595, 0.8044560495024647, 0.12701937623723128, 0.8922176482962556, 0.06177887962823009, 0.8649043147952212, 0.22756229738662737, 0.7281993516372076, 0.13254367014430765, 0.17230677118759993, 0.47715721251950755, 0.09278056910101536, 0.13254367014430765, 0.28493967466524633, 0.3256453424745672, 0.3663510102838881, 0.060949120247347034, 0.21670798310167835, 0.008707017178192434, 0.11222377696336915, 0.04933976400975712, 0.02999083694710727, 0.03676296141903472, 0.30377815488360266, 0.04450253224409466, 0.01160935623758991, 0.11028888425710416, 0.01160935623758991, 0.0019348927062649852, 0.0009674463531324926, 0.9130280260180633, 0.7895208702893284, 0.1691830436334275, 0.07913497387505952, 0.07913497387505952, 0.29392990296450683, 0.21479492908944728, 0.03391498880359694, 0.28262490669664114, 0.011304996267865648, 0.011304996267865648, 0.9721509627807401, 0.017252042863400475, 0.025214524184969923, 0.0013270802202615748, 0.2733785253738844, 0.0013270802202615748, 0.6781379925536648, 0.0026541604405231497, 0.7580105111206381, 0.9190018851979131, 0.8646887168816272, 0.07860806517105702, 0.8670179637445475, 0.9833522122337033, 0.8786167388497501, 0.8703785626333542, 0.07912532387575948, 0.02902456122570018, 0.9287859592224058, 0.8738754366146668, 0.9516528539200697, 0.1892255504215893, 0.09010740496266158, 0.36944036034691247, 0.03604296198506463, 0.171204069429057, 0.14417184794025853, 0.011134479815741987, 0.9686997439695529, 0.9675670948656789, 0.08033848928505943, 0.029598390789232425, 0.05496844003714593, 0.13530692932220537, 0.008456683082637835, 0.0972518554503351, 0.0972518554503351, 0.01691336616527567, 0.359409031012108, 0.004228341541318918, 0.11416522161561078, 0.960029294320903, 0.22370994172932232, 0.7550210533364629, 0.9420521971166326, 0.9354439518455125, 0.01618415141601233, 0.009710490849607397, 0.01618415141601233, 0.012947321132809862, 0.006473660566404931, 0.0032368302832024654, 0.6793773593960966, 0.9505420626698832, 0.05475486087570182, 0.02737743043785091, 0.08213229131355272, 0.1414500572622297, 0.045629050729751514, 0.04791050326623909, 0.3353735228636736, 0.018251620291900604, 0.0935395539959906, 0.02737743043785091, 0.0022814525364875755, 0.009125810145950302, 0.11407262682437878, 0.8452657265224051, 0.9400101006187432, 0.14190747889495262, 0.2539396990751784, 0.07468814678681718, 0.08215696146549889, 0.14190747889495262, 0.2987525871472687, 0.897077895452872, 0.8937478286773726, 0.055859239292335786, 0.5937263728054019, 0.14184179074797912, 0.7425834927394201, 0.10846725174845462, 0.1841845972058726, 0.12892921804411084, 0.6814830096617287, 0.7789967215866481, 0.9849195164096515, 0.0015641343821244692, 0.004692403146373408, 0.00430136955084229, 0.0007820671910622346, 0.0003910335955311173, 0.0019551679776555865, 0.0015641343821244692, 0.006256537528497877, 0.0007820671910622346, 0.002737235168717821, 0.002346201573186704, 0.963506779388673, 0.0003910335955311173, 0.005083436741904525, 0.0003910335955311173, 0.002346201573186704, 0.0003910335955311173, 0.0003910335955311173, 0.39039587856190944, 0.5705785917443292, 0.09233686610088884, 0.005771054131305553, 0.8887423362210551, 0.005771054131305553, 0.9566979961254783, 0.007467007185707398, 0.9856449485133765, 0.08317845959552496, 0.8733738257530121, 0.8779449239481996, 0.07153120523775472, 0.25546859013483825, 0.4598434622427089, 0.07153120523775472, 0.08174994884314825, 0.03065623081618059, 0.03065623081618059, 0.6773578709080412, 0.9868782962369189, 0.9103138440337991, 0.9294056627723455, 0.14520724579256394, 0.031874761271538425, 0.01416656056512819, 0.08499936339076915, 0.15937380635769213, 0.010624920423846143, 0.05666624226051276, 0.031874761271538425, 0.07791608310820504, 0.23374824932461513, 0.0035416401412820477, 0.148748885933846, 0.8420846715528578, 0.3648588648478438, 0.014594354593913752, 0.6129628929443777, 0.7827047796823472, 0.18062417992669552, 0.935703445232585, 0.11808206059389707, 0.8265744241572796], \"Term\": [\"-PRON-\", \"1\", \"1\", \"1\", \"1\", \"1/2\", \"100\", \"100\", \"100\", \"12x\", \"16\", \"2\", \"2\", \"2\", \"2\", \"2\", \"20\", \"20\", \"20\", \"20\", \"20-pack\", \"2015\", \"2016\", \"2026\", \"24/7\", \"25\", \"3\", \"3\", \"3\", \"3\", \"3\", \"3\", \"36\", \"36\", \"360\", \"3rd\", \"3rd\", \"4\", \"4\", \"4\", \"4\", \"4\", \"4\", \"4\", \"4\", \"48\", \"48\", \"48\", \"5\", \"5\", \"5\", \"5\", \"50\", \"6\", \"6\", \"6\", \"6\", \"6\", \"6\", \"8\", \"9-volt\", \"90\", \"9v\", \"A++++\", \"AA\", \"AA\", \"AA\", \"AA\", \"AA\", \"AA\", \"AA\", \"AA\", \"AA\", \"AA\", \"AA\", \"AA\", \"AA\", \"AAA\", \"AAA\", \"AAA\", \"AAA\", \"AAA\", \"AAA\", \"AAA\", \"AMAZON\", \"AMAZON\", \"AMAZON\", \"Alkaline\", \"Amazon\", \"Amazon\", \"Amazon\", \"Amazon\", \"Amazon\", \"Amazon\", \"Amazon\", \"Amazon\", \"Amazon\", \"Amazon\", \"Amazon\", \"Amazon\", \"Amazon\", \"Amazon\", \"Amazon\", \"Amazon\", \"Amazon\", \"AmazonBasic\", \"AmazonBasics\", \"AmazonBasics\", \"AmazonBasics\", \"AmazonBasics\", \"AmazonBasics\", \"AmazonBasics\", \"AmazonBasics\", \"AmazonBasics\", \"AmazonBasics\", \"AmazonBasics\", \"Amazonbasics\", \"Amazons\", \"Basic\", \"Basic\", \"Basics\", \"Basics\", \"Basics\", \"Batteries\", \"Batteries\", \"Batteries\", \"Batteries\", \"Batteries\", \"Batteries\", \"Battery\", \"Battery\", \"Boom\", \"Brand\", \"Bunny\", \"Buy\", \"C\", \"Canon\", \"Christmas\", \"Christmas\", \"Christmas\", \"Costco\", \"Costco\", \"Costco\", \"Costco\", \"Costco\", \"Costco\", \"D\", \"DOA\", \"Day\", \"Dollar\", \"Duracell\", \"Duracell\", \"Duracell\", \"Duracell\", \"Duracell\", \"Duracell\", \"Duracell\", \"Duracell\", \"Energizer\", \"Energizer\", \"Energizer\", \"Energizer\", \"Energizer\", \"Eveready\", \"Everyday\", \"Excelente\", \"F\", \"Fire\", \"Good\", \"Great\", \"Japan\", \"Kirkland\", \"Kirkland\", \"Lacka\", \"Love\", \"Maxell\", \"October\", \"Performance\", \"Price\", \"Prime\", \"Prime\", \"ProCell\", \"Product\", \"Product\", \"Quality\", \"Radio\", \"Rayovac\", \"Rayovac\", \"Rayovac\", \"Rayovac\", \"Rayovacs\", \"Remote\", \"Roku\", \"Sam\", \"Shack\", \"Sony\", \"Spring\", \"Store\", \"Time\", \"Time\", \"USA\", \"Value\", \"Wii\", \"XBOX\", \"Xbox\", \"a+\", \"aa\", \"aa\", \"aa\", \"aa\", \"aa\", \"aaa\", \"aaa\", \"aaa\", \"aaa\", \"aaa\", \"aaa\", \"ability\", \"able\", \"able\", \"absolutely\", \"access\", \"account\", \"acdelco\", \"acid\", \"acid\", \"acid\", \"actually\", \"actually\", \"actually\", \"actually\", \"actually\", \"actually\", \"ad\", \"addition\", \"admit\", \"advertise\", \"advertise\", \"advertise\", \"affordable\", \"affordable\", \"affordable\", \"affordable\", \"age\", \"ago\", \"ago\", \"ago\", \"ago\", \"ahead\", \"alarm\", \"alarm\", \"alkaline\", \"alkaline\", \"alkaline\", \"alkaline\", \"alkaline\", \"alkaline\", \"alot\", \"alternative\", \"aluminum\", \"amazing\", \"amazing\", \"amazing\", \"amazing\", \"amazing\", \"amazing\", \"amazon\", \"amazon\", \"amazon\", \"amazon\", \"amazon\", \"amazon\", \"amazon\", \"amazon\", \"amazon\", \"amazon\", \"amazon\", \"amazon\", \"amazon\", \"anymore\", \"anymore\", \"appear\", \"appear\", \"appear\", \"appear\", \"appliance\", \"application\", \"application\", \"application\", \"approximately\", \"approximately\", \"arrival\", \"arrive\", \"arrive\", \"ask\", \"ask\", \"ask\", \"average\", \"average\", \"average\", \"away\", \"away\", \"awesome\", \"awesome\", \"awesome\", \"awesome\", \"awesome\", \"awful\", \"awhile\", \"awhile\", \"awhile\", \"baby\", \"backup\", \"backup\", \"bad\", \"bad\", \"bad\", \"bad\", \"bad\", \"bad\", \"bad\", \"bag\", \"band\", \"bang\", \"bar\", \"bargain\", \"bargain\", \"bargain\", \"basement\", \"basic\", \"basic\", \"basic\", \"basic\", \"basic\", \"basic\", \"basic\", \"basic\", \"basically\", \"basically\", \"basis\", \"batch\", \"batch\", \"batch\", \"batch\", \"bathroom\", \"batt\", \"batter\", \"batteriess\", \"battery\", \"battery\", \"battery\", \"battery\", \"battery\", \"battery\", \"battery\", \"battery\", \"battery\", \"battery\", \"battery\", \"battery\", \"battery\", \"battery\", \"battery\", \"battery\", \"battery\", \"battery\", \"battery\", \"battery\", \"beat\", \"beat\", \"beat\", \"beat\", \"beat\", \"beat\", \"beg\", \"believe\", \"believe\", \"believe\", \"believe\", \"best\", \"better\", \"better\", \"better\", \"better\", \"better\", \"beware\", \"big\", \"big\", \"big\", \"big\", \"big\", \"big\", \"big\", \"big\", \"big\", \"birthday\", \"bit\", \"bit\", \"bit\", \"bit\", \"bit\", \"bit\", \"black\", \"black\", \"blood\", \"bluetooth\", \"book\", \"box\", \"box\", \"box\", \"box\", \"box\", \"box\", \"boy\", \"boy\", \"brain\", \"brand\", \"brand\", \"brand\", \"brand\", \"brand\", \"brand\", \"brand\", \"brand\", \"brand\", \"brand\", \"brand\", \"brand\", \"brand\", \"brand\", \"brand\", \"brand\", \"brand\", \"brand\", \"brick\", \"brightness\", \"brush\", \"buck\", \"buck\", \"budget\", \"build\", \"bulk\", \"bulk\", \"bulk\", \"bulk\", \"bulk\", \"bulk\", \"bulk\", \"bulk\", \"bunch\", \"bunch\", \"bunch\", \"bunch\", \"bunny\", \"bunny\", \"business\", \"button\", \"buy\", \"buy\", \"buy\", \"buy\", \"buy\", \"buy\", \"buy\", \"buy\", \"buy\", \"buy\", \"buy\", \"buy\", \"buy\", \"buy\", \"buy\", \"buy\", \"buy\", \"buy\", \"buy\", \"buy\", \"buyer\", \"buzz\", \"cabinet\", \"call\", \"cam\", \"camera\", \"camera\", \"camera\", \"camera\", \"candle\", \"candle\", \"capacity\", \"capacity\", \"capacity\", \"car\", \"car\", \"car\", \"cardboard\", \"cardboard\", \"carry\", \"case\", \"case\", \"case\", \"case\", \"case\", \"cash\", \"catch\", \"cell\", \"cell\", \"cell\", \"change\", \"change\", \"change\", \"change\", \"change\", \"change\", \"change\", \"channel\", \"charge\", \"charge\", \"charge\", \"charge\", \"charge\", \"charm\", \"cheap\", \"cheap\", \"cheap\", \"cheap\", \"cheap\", \"cheap\", \"cheap\", \"cheap\", \"cheap\", \"cheap\", \"cheap\", \"cheap\", \"cheap\", \"cheap\", \"cheap\", \"check\", \"check\", \"check\", \"check\", \"choice\", \"christmas\", \"circuit\", \"clock\", \"clock\", \"closet\", \"closet\", \"club\", \"coffee\", \"cold\", \"college\", \"color\", \"color\", \"come\", \"come\", \"come\", \"come\", \"come\", \"come\", \"come\", \"come\", \"come\", \"come\", \"commercial\", \"common\", \"compact\", \"company\", \"comparable\", \"comparable\", \"comparable\", \"compare\", \"compare\", \"compare\", \"compare\", \"compare\", \"compare\", \"compare\", \"compare\", \"compare\", \"compare\", \"comparison\", \"comparison\", \"comparison\", \"compartment\", \"compete\", \"competitor\", \"complain\", \"complain\", \"complain\", \"complaint\", \"complaint\", \"complete\", \"computer\", \"concern\", \"concern\", \"confident\", \"confirm\", \"confirm\", \"consistently\", \"consumer\", \"consumer\", \"consumption\", \"contain\", \"container\", \"content\", \"continue\", \"continue\", \"continue\", \"control\", \"control\", \"control\", \"control\", \"control\", \"controller\", \"controller\", \"controller\", \"controller\", \"convenient\", \"convenient\", \"convenient\", \"convert\", \"copper\", \"copper\", \"copper\", \"coppertop\", \"correctly\", \"corrode\", \"cost\", \"cost\", \"cost\", \"cost\", \"cost\", \"cost\", \"costco\", \"couple\", \"couple\", \"couple\", \"couple\", \"couple\", \"crap\", \"crappy\", \"crazy\", \"crazy\", \"crazy\", \"create\", \"critical\", \"critical\", \"customer\", \"customer\", \"customer\", \"d\", \"dad\", \"daily\", \"daily\", \"daily\", \"damage\", \"damn\", \"date\", \"date\", \"datum\", \"day\", \"day\", \"day\", \"day\", \"day\", \"day\", \"day\", \"dead\", \"dead\", \"deadbolt\", \"deal\", \"deal\", \"deal\", \"decent\", \"decent\", \"decent\", \"decide\", \"decide\", \"decide\", \"decision\", \"decision\", \"definitely\", \"definitely\", \"definitely\", \"definitely\", \"definitely\", \"definitely\", \"definitely\", \"definitely\", \"definitely\", \"deliver\", \"deliver\", \"deliver\", \"delivery\", \"dependable\", \"describe\", \"description\", \"design\", \"detector\", \"device\", \"device\", \"device\", \"device\", \"device\", \"device\", \"devices\", \"die\", \"die\", \"die\", \"die\", \"die\", \"die\", \"difference\", \"difference\", \"difference\", \"difference\", \"difference\", \"difference\", \"different\", \"different\", \"different\", \"different\", \"different\", \"different\", \"difficult\", \"difficult\", \"dig\", \"digital\", \"dim\", \"dim\", \"dirt\", \"disappointed\", \"disappointed\", \"disappointed\", \"disappointed\", \"disappointed\", \"disappointment\", \"discount\", \"discount\", \"discount\", \"dollar\", \"dollar\", \"dollar\", \"dollar\", \"door\", \"door\", \"double\", \"double\", \"doubt\", \"drain\", \"drain\", \"drain\", \"drain\", \"draw\", \"draw\", \"drug\", \"dud\", \"dud\", \"dud\", \"durability\", \"durability\", \"durability\", \"duracell\", \"duracell\", \"duracell\", \"duration\", \"duty\", \"e\", \"earlier\", \"early\", \"earthquake\", \"easily\", \"easy\", \"easy\", \"easy\", \"easy\", \"easy\", \"economical\", \"economical\", \"economical\", \"economical\", \"effective\", \"efficient\", \"effort\", \"electronic\", \"electronic\", \"electronic\", \"electronic\", \"electronic\", \"electronic\", \"emergency\", \"emergency\", \"encounter\", \"encounter\", \"end\", \"end\", \"end\", \"end\", \"energizer\", \"energizer\", \"energizer\", \"energizer\", \"energizer\", \"energizer\", \"energizer\", \"environment\", \"environmentally\", \"equal\", \"esp\", \"essentially\", \"essentially\", \"evaluate\", \"evaluation\", \"evening\", \"event\", \"exactly\", \"exceed\", \"excelent\", \"excellent\", \"excellent\", \"excellently\", \"exception\", \"exclusively\", \"expect\", \"expect\", \"expect\", \"expect\", \"expect\", \"expect\", \"expectancy\", \"expectation\", \"expectation\", \"expensive\", \"expensive\", \"expensive\", \"expensive\", \"expensive\", \"expensive\", \"expensive\", \"expensive\", \"expensive\", \"expensive\", \"expensive\", \"expensive\", \"experience\", \"experience\", \"experience\", \"experience\", \"experience\", \"experience\", \"expert\", \"expiration\", \"expiration\", \"explode\", \"explode\", \"extended\", \"extra\", \"extra\", \"extra\", \"extra\", \"extra\", \"extremely\", \"extremely\", \"fabulous\", \"fair\", \"fair\", \"fake\", \"fall\", \"fall\", \"famous\", \"fan\", \"fan\", \"fancy\", \"fantastic\", \"fantastic\", \"far\", \"far\", \"far\", \"far\", \"far\", \"far\", \"far\", \"far\", \"far\", \"far\", \"far\", \"far\", \"far\", \"far\", \"fast\", \"fast\", \"faster\", \"faster\", \"faster\", \"fault\", \"feel\", \"feel\", \"feel\", \"feel\", \"fill\", \"find\", \"find\", \"find\", \"find\", \"find\", \"find\", \"find\", \"find\", \"find\", \"find\", \"fine\", \"fine\", \"fine\", \"fine\", \"fix\", \"flameless\", \"flash\", \"flash\", \"flash\", \"flashlight\", \"flashlight\", \"flashlight\", \"flashlight\", \"folk\", \"folk\", \"folk\", \"forever\", \"form\", \"forward\", \"fraction\", \"fraction\", \"fraction\", \"fraction\", \"fraction\", \"frameless\", \"free\", \"free\", \"fresh\", \"fresh\", \"friend\", \"friend\", \"friendly\", \"frustration\", \"fully\", \"fully\", \"fun\", \"function\", \"function\", \"function\", \"function\", \"future\", \"future\", \"future\", \"future\", \"future\", \"future\", \"game\", \"game\", \"game\", \"game\", \"game\", \"gamer\", \"gaming\", \"gaming\", \"gaming\", \"garage\", \"gas\", \"generic\", \"generic\", \"genuine\", \"get\", \"get\", \"get\", \"get\", \"get\", \"get\", \"get\", \"get\", \"get\", \"get\", \"get\", \"get\", \"get\", \"gift\", \"gift\", \"gift\", \"give\", \"give\", \"give\", \"go\", \"go\", \"go\", \"go\", \"go\", \"go\", \"go\", \"go\", \"go\", \"go\", \"go\", \"go\", \"good\", \"good\", \"good\", \"good\", \"good\", \"good\", \"good\", \"good\", \"good\", \"good\", \"good\", \"good\", \"good\", \"got\", \"grab\", \"grand\", \"grandkid\", \"great\", \"great\", \"great\", \"great\", \"great\", \"great\", \"great\", \"great\", \"great\", \"great\", \"great\", \"great\", \"great\", \"great\", \"great\", \"green\", \"green\", \"grocery\", \"group\", \"group\", \"guarantee\", \"guess\", \"guess\", \"guess\", \"guy\", \"hair\", \"half\", \"half\", \"half\", \"half\", \"half\", \"half\", \"half\", \"hand\", \"hand\", \"hand\", \"hand\", \"hand\", \"handy\", \"handy\", \"happen\", \"happen\", \"happen\", \"happen\", \"happily\", \"happy\", \"happy\", \"happy\", \"happy\", \"happy\", \"happy\", \"happy\", \"hard\", \"hard\", \"hard\", \"hard\", \"hardly\", \"hardware\", \"hassle\", \"have\", \"have\", \"have\", \"have\", \"have\", \"have\", \"have\", \"have\", \"have\", \"hazardous\", \"head\", \"head\", \"headphone\", \"headphone\", \"headphone\", \"heat\", \"heavy\", \"help\", \"help\", \"hesitant\", \"hesitate\", \"hey\", \"high\", \"high\", \"high\", \"high\", \"high\", \"high\", \"high\", \"high\", \"high\", \"higher\", \"higher\", \"highly\", \"highly\", \"hold\", \"hold\", \"hold\", \"hold\", \"hold\", \"hold\", \"hold\", \"hold\", \"holiday\", \"holiday\", \"home\", \"home\", \"home\", \"home\", \"home\", \"home\", \"honest\", \"hope\", \"hope\", \"hope\", \"hope\", \"hope\", \"hopefully\", \"horrible\", \"horrible\", \"hour\", \"hour\", \"hour\", \"house\", \"house\", \"house\", \"house\", \"house\", \"house\", \"house\", \"house\", \"house\", \"house\", \"hunt\", \"hurricane\", \"idea\", \"idea\", \"idea\", \"immediately\", \"immediately\", \"impossible\", \"impressed\", \"impressed\", \"impressed\", \"indicate\", \"indicate\", \"individual\", \"indoor\", \"indoors\", \"inexpensive\", \"inexpensive\", \"infrequently\", \"insert\", \"inside\", \"inside\", \"inside\", \"instal\", \"instal\", \"instal\", \"instal\", \"instal\", \"instal\", \"install\", \"insulin\", \"interested\", \"invest\", \"investment\", \"issue\", \"issue\", \"issue\", \"issue\", \"issue\", \"issue\", \"issue\", \"issue\", \"item\", \"item\", \"item\", \"item\", \"item\", \"job\", \"job\", \"job\", \"job\", \"job\", \"job\", \"juice\", \"juice\", \"junk\", \"keep\", \"keep\", \"keep\", \"keep\", \"keep\", \"keyboard\", \"keyboard\", \"keyboard\", \"kid\", \"kid\", \"kid\", \"kid\", \"kid\", \"kid\", \"kid\", \"kid\", \"kill\", \"kind\", \"kind\", \"kinda\", \"kit\", \"kitchen\", \"know\", \"know\", \"know\", \"know\", \"know\", \"know\", \"know\", \"know\", \"know\", \"know\", \"known\", \"lantern\", \"lantern\", \"large\", \"large\", \"large\", \"large\", \"laser\", \"last\", \"last\", \"last\", \"last\", \"last\", \"last\", \"last\", \"last\", \"last\", \"last\", \"last\", \"last\", \"last\", \"last\", \"last\", \"lasting\", \"lasting\", \"lasting\", \"later\", \"later\", \"later\", \"lead\", \"lead\", \"lead\", \"lead\", \"leak\", \"leak\", \"leak\", \"leak\", \"leak\", \"leak\", \"leakage\", \"learn\", \"led\", \"leg\", \"length\", \"length\", \"let\", \"let\", \"let\", \"level\", \"life\", \"life\", \"life\", \"life\", \"life\", \"life\", \"life\", \"life\", \"lifespan\", \"lifespan\", \"light\", \"light\", \"light\", \"light\", \"light\", \"light\", \"light\", \"like\", \"like\", \"like\", \"like\", \"like\", \"like\", \"like\", \"like\", \"like\", \"like\", \"like\", \"like\", \"like\", \"like\", \"like\", \"like\", \"like\", \"limited\", \"line\", \"liquid\", \"listen\", \"literally\", \"literally\", \"lithium\", \"lithium\", \"little\", \"little\", \"little\", \"little\", \"little\", \"little\", \"little\", \"little\", \"little\", \"little\", \"little\", \"live\", \"live\", \"living\", \"load\", \"local\", \"local\", \"local\", \"locally\", \"locally\", \"lock\", \"long\", \"long\", \"long\", \"long\", \"long\", \"long\", \"long\", \"long\", \"long\", \"long\", \"long\", \"long\", \"long\", \"long\", \"long\", \"long\", \"long\", \"long\", \"long\", \"longer\", \"longer\", \"longer\", \"longer\", \"longer\", \"longer\", \"longevity\", \"longevity\", \"longevity\", \"look\", \"look\", \"look\", \"look\", \"look\", \"loose\", \"loose\", \"loose\", \"lot\", \"lot\", \"lot\", \"lot\", \"lot\", \"lot\", \"lot\", \"lot\", \"lot\", \"love\", \"love\", \"love\", \"love\", \"love\", \"low\", \"low\", \"low\", \"low\", \"low\", \"low\", \"low\", \"low\", \"low\", \"lucky\", \"mA\", \"mAh\", \"main\", \"mainly\", \"maintain\", \"major\", \"major\", \"major\", \"major\", \"major\", \"make\", \"make\", \"make\", \"make\", \"make\", \"make\", \"make\", \"manufacture\", \"manufacture\", \"mark\", \"mark\", \"market\", \"market\", \"market\", \"matter\", \"matter\", \"maybe\", \"maybe\", \"maybe\", \"maybe\", \"maybe\", \"mean\", \"mean\", \"measure\", \"meet\", \"meet\", \"melt\", \"member\", \"mercury\", \"mess\", \"mic\", \"mid\", \"minute\", \"minute\", \"minute\", \"mirror\", \"miss\", \"miss\", \"miss\", \"mix\", \"modern\", \"moment\", \"money\", \"money\", \"money\", \"money\", \"money\", \"money\", \"money\", \"money\", \"money\", \"monitor\", \"month\", \"month\", \"month\", \"month\", \"month\", \"month\", \"month\", \"month\", \"month\", \"month\", \"morning\", \"mortar\", \"mostof\", \"motion\", \"motor\", \"mouse\", \"mouse\", \"mouse\", \"move\", \"mower\", \"mp3\", \"multi\", \"name\", \"name\", \"namebrand\", \"namebrand\", \"national\", \"national\", \"near\", \"nearly\", \"nearly\", \"need\", \"need\", \"need\", \"need\", \"need\", \"need\", \"need\", \"need\", \"need\", \"need\", \"need\", \"need\", \"need\", \"need\", \"negative\", \"nervous\", \"new\", \"new\", \"new\", \"nice\", \"nice\", \"nice\", \"nice\", \"nicely\", \"night\", \"night\", \"non\", \"non\", \"non\", \"normal\", \"normal\", \"normal\", \"nose\", \"not\", \"not\", \"not\", \"notice\", \"notice\", \"notice\", \"notice\", \"notice\", \"noticeably\", \"number\", \"number\", \"o\", \"obvious\", \"offer\", \"office\", \"office\", \"oh\", \"oh\", \"oh\", \"ok\", \"okay\", \"okay\", \"old\", \"old\", \"old\", \"one\", \"one\", \"one\", \"one\", \"one\", \"one\", \"one\", \"one\", \"one\", \"one\", \"one\", \"one\", \"open\", \"open\", \"open\", \"operate\", \"operate\", \"operate\", \"operate\", \"operate\", \"opinion\", \"opinion\", \"opportunity\", \"order\", \"order\", \"order\", \"order\", \"order\", \"order\", \"order\", \"order\", \"order\", \"order\", \"order\", \"order\", \"order\", \"order\", \"original\", \"outdoor\", \"output\", \"overall\", \"overall\", \"overall\", \"overall\", \"overpriced\", \"pack\", \"pack\", \"pack\", \"pack\", \"pack\", \"pack\", \"pack\", \"pack\", \"pack\", \"pack\", \"package\", \"package\", \"package\", \"package\", \"package\", \"packaging\", \"packaging\", \"packaging\", \"packaging\", \"packaging\", \"packaging\", \"packaging\", \"packaging\", \"packaging\", \"packaging\", \"pain\", \"pair\", \"pair\", \"pair\", \"pass\", \"pay\", \"pay\", \"pay\", \"pay\", \"pay\", \"pay\", \"pay\", \"pay\", \"pay\", \"pc\", \"perfect\", \"perfectly\", \"perfectly\", \"perform\", \"perform\", \"perform\", \"perform\", \"perform\", \"performance\", \"performance\", \"performance\", \"performance\", \"performance\", \"performance\", \"performance\", \"performance\", \"performer\", \"personally\", \"photographer\", \"picture\", \"picture\", \"piece\", \"place\", \"place\", \"place\", \"place\", \"place\", \"place\", \"plastic\", \"plastic\", \"play\", \"play\", \"play\", \"play\", \"play\", \"player\", \"pleasantly\", \"pleased\", \"pleased\", \"pleasure\", \"point\", \"point\", \"point\", \"portable\", \"portable\", \"positive\", \"positive\", \"power\", \"power\", \"power\", \"power\", \"power\", \"power\", \"power\", \"power\", \"powerful\", \"powerful\", \"prepare\", \"present\", \"pressure\", \"pretty\", \"pretty\", \"pretty\", \"pretty\", \"pretty\", \"pretty\", \"pretty\", \"pretty\", \"pretty\", \"pretty\", \"price\", \"price\", \"price\", \"price\", \"price\", \"price\", \"price\", \"price\", \"price\", \"price\", \"price\", \"price\", \"price\", \"price\", \"price\", \"price\", \"pricing\", \"pricing\", \"primarily\", \"primarily\", \"prime\", \"prime\", \"prior\", \"prior\", \"private\", \"prize\", \"pro\", \"probably\", \"probably\", \"probably\", \"probably\", \"probably\", \"problem\", \"problem\", \"problem\", \"problem\", \"problem\", \"problem\", \"problem\", \"problem\", \"product\", \"product\", \"product\", \"product\", \"product\", \"product\", \"product\", \"product\", \"product\", \"product\", \"program\", \"promise\", \"promise\", \"prompt\", \"provide\", \"provide\", \"provide\", \"provide\", \"purchase\", \"purchase\", \"purchase\", \"purchase\", \"purchase\", \"purchase\", \"purchase\", \"purchase\", \"purchase\", \"purchase\", \"purchase\", \"purchase\", \"purchase\", \"purchase\", \"purchase\", \"purchase\", \"purpose\", \"purpose\", \"quality\", \"quality\", \"quality\", \"quality\", \"quality\", \"quality\", \"quality\", \"quality\", \"quality\", \"quality\", \"quality\", \"quality\", \"quantity\", \"quantity\", \"quantity\", \"quantity\", \"quantity\", \"quantity\", \"quick\", \"quick\", \"quick\", \"quicker\", \"quickly\", \"quickly\", \"quickly\", \"quickly\", \"quickly\", \"quickly\", \"quickly\", \"r\", \"rating\", \"rating\", \"ratio\", \"rayovac\", \"rc\", \"real\", \"real\", \"real\", \"real\", \"reasonable\", \"reasonable\", \"reasonable\", \"reasonable\", \"reasonably\", \"receive\", \"receive\", \"receive\", \"receive\", \"recently\", \"rechargable\", \"recharge\", \"recharge\", \"recharge\", \"rechargeable\", \"rechargeable\", \"rechargeable\", \"rechargeable\", \"rechargeable\", \"rechargeable\", \"rechargeable\", \"recieve\", \"recommend\", \"recommend\", \"recommend\", \"recommend\", \"recommend\", \"recommend\", \"recommend\", \"recommend\", \"recycle\", \"recycle\", \"recycle\", \"refund\", \"regret\", \"regular\", \"regular\", \"regularly\", \"regularly\", \"reliable\", \"reliable\", \"remain\", \"remember\", \"remember\", \"remember\", \"remember\", \"remember\", \"remote\", \"remote\", \"remote\", \"remote\", \"remote\", \"remote\", \"remote\", \"remote\", \"remote\", \"reorder\", \"repeat\", \"replace\", \"replace\", \"replace\", \"replace\", \"replace\", \"replace\", \"replace\", \"replacement\", \"replacement\", \"report\", \"report\", \"repurchase\", \"require\", \"require\", \"require\", \"require\", \"require\", \"require\", \"research\", \"reserve\", \"response\", \"restock\", \"retail\", \"retailer\", \"review\", \"review\", \"review\", \"review\", \"review\", \"review\", \"review\", \"review\", \"reviewer\", \"right\", \"right\", \"right\", \"right\", \"right\", \"row\", \"row\", \"ruin\", \"ruin\", \"run\", \"run\", \"run\", \"run\", \"run\", \"run\", \"run\", \"run\", \"run\", \"run\", \"run\", \"run\", \"run\", \"run\", \"run\", \"s\", \"s\", \"s\", \"s\", \"safe\", \"safe\", \"sale\", \"sale\", \"sale\", \"sale\", \"satisfied\", \"satisfied\", \"satisfied\", \"satisfied\", \"satisfied\", \"save\", \"save\", \"save\", \"save\", \"save\", \"save\", \"save\", \"save\", \"save\", \"saver\", \"saver\", \"say\", \"say\", \"say\", \"say\", \"say\", \"say\", \"say\", \"say\", \"scale\", \"score\", \"seal\", \"season\", \"second\", \"second\", \"second\", \"second\", \"second\", \"see\", \"see\", \"see\", \"see\", \"see\", \"see\", \"seller\", \"seller\", \"send\", \"send\", \"send\", \"separate\", \"seriously\", \"seriously\", \"seriously\", \"service\", \"service\", \"service\", \"service\", \"set\", \"set\", \"set\", \"set\", \"set\", \"set\", \"set\", \"set\", \"set\", \"set\", \"shame\", \"shelf\", \"shelf\", \"shelf\", \"ship\", \"ship\", \"ship\", \"shipping\", \"shipping\", \"shoot\", \"shoot\", \"shopper\", \"short\", \"short\", \"short\", \"short\", \"shot\", \"show\", \"shrink\", \"shrink\", \"shrink\", \"silver\", \"simple\", \"simple\", \"simple\", \"simple\", \"single\", \"single\", \"size\", \"size\", \"size\", \"size\", \"size\", \"size\", \"size\", \"size\", \"sized\", \"sleeve\", \"slightly\", \"small\", \"small\", \"small\", \"small\", \"small\", \"small\", \"smart\", \"smoke\", \"smooth\", \"solar\", \"solar\", \"solid\", \"son\", \"son\", \"son\", \"son\", \"soon\", \"soon\", \"soon\", \"soon\", \"sooner\", \"sorry\", \"sorry\", \"sort\", \"space\", \"span\", \"span\", \"spare\", \"speak\", \"special\", \"special\", \"specific\", \"speedy\", \"spend\", \"spend\", \"spend\", \"spend\", \"spend\", \"split\", \"standard\", \"standard\", \"standard\", \"staple\", \"star\", \"star\", \"star\", \"star\", \"start\", \"start\", \"start\", \"start\", \"start\", \"start\", \"start\", \"start\", \"state\", \"station\", \"stay\", \"stay\", \"steady\", \"steal\", \"stick\", \"stick\", \"stick\", \"stock\", \"stock\", \"stock\", \"stock\", \"stock\", \"stock\", \"stop\", \"stop\", \"stop\", \"stop\", \"stop\", \"stop\", \"storage\", \"storage\", \"storage\", \"store\", \"store\", \"store\", \"store\", \"store\", \"store\", \"store\", \"store\", \"store\", \"store\", \"store\", \"story\", \"strength\", \"strong\", \"strong\", \"strong\", \"strong\", \"strong\", \"stuff\", \"stuff\", \"stuff\", \"stuff\", \"stupid\", \"sturdy\", \"subscribe\", \"subscribe\", \"subscribe\", \"subscribe\", \"subscribe\", \"suck\", \"summer\", \"super\", \"super\", \"super\", \"super\", \"supply\", \"supply\", \"supply\", \"suppose\", \"suppose\", \"suppose\", \"sure\", \"sure\", \"sure\", \"sure\", \"sure\", \"sure\", \"sure\", \"sure\", \"sure\", \"sure\", \"surely\", \"surprisingly\", \"surprisingly\", \"switch\", \"system\", \"table\", \"tag\", \"talk\", \"talkie\", \"technology\", \"television\", \"tell\", \"tell\", \"tell\", \"tell\", \"tell\", \"temperature\", \"terrible\", \"terrible\", \"terrible\", \"terrible\", \"terribly\", \"terrific\", \"test\", \"test\", \"test\", \"test\", \"test\", \"test\", \"test\", \"tester\", \"tester\", \"testing\", \"thank\", \"thank\", \"thank\", \"thank\", \"thanks\", \"thermometer\", \"thesis\", \"thing\", \"thing\", \"thing\", \"thing\", \"thing\", \"thing\", \"thing\", \"thing\", \"thing\", \"thing\", \"think\", \"think\", \"think\", \"think\", \"think\", \"think\", \"think\", \"think\", \"think\", \"think\", \"think\", \"think\", \"thinking\", \"throw\", \"throw\", \"tier\", \"tight\", \"time\", \"time\", \"time\", \"time\", \"time\", \"time\", \"time\", \"time\", \"time\", \"time\", \"time\", \"time\", \"time\", \"time\", \"time\", \"time\", \"time\", \"time\", \"timer\", \"timer\", \"timer\", \"tip\", \"tired\", \"tired\", \"tired\", \"toddler\", \"ton\", \"ton\", \"ton\", \"tool\", \"toothbrush\", \"top\", \"toss\", \"toss\", \"total\", \"total\", \"totally\", \"totally\", \"town\", \"toy\", \"toy\", \"toy\", \"toy\", \"toy\", \"toy\", \"toy\", \"toy\", \"trade\", \"traditional\", \"trail\", \"train\", \"trash\", \"trash\", \"tree\", \"tremendous\", \"trick\", \"trimmer\", \"trip\", \"trip\", \"trip\", \"trouble\", \"trouble\", \"trust\", \"trust\", \"trust\", \"trust\", \"trust\", \"trust\", \"try\", \"try\", \"try\", \"try\", \"try\", \"try\", \"try\", \"try\", \"try\", \"try\", \"try\", \"try\", \"try\", \"try\", \"tv\", \"tv\", \"tv\", \"tv\", \"tv\", \"twice\", \"twice\", \"twice\", \"twice\", \"twice\", \"typical\", \"typical\", \"typical\", \"typical\", \"typically\", \"typically\", \"unbeatable\", \"unbeatable\", \"understand\", \"unfortunately\", \"unfortunately\", \"unlike\", \"unlike\", \"update\", \"update\", \"update\", \"update\", \"update\", \"usage\", \"usage\", \"usage\", \"use\", \"use\", \"use\", \"use\", \"use\", \"use\", \"use\", \"use\", \"use\", \"use\", \"use\", \"use\", \"use\", \"use\", \"user\", \"usual\", \"usual\", \"usually\", \"usually\", \"usually\", \"usually\", \"usually\", \"usually\", \"usually\", \"usually\", \"vac\", \"value\", \"value\", \"value\", \"value\", \"value\", \"value\", \"value\", \"variable\", \"variety\", \"video\", \"video\", \"visit\", \"volt\", \"volume\", \"vs.\", \"vs.\", \"wait\", \"wait\", \"walkie\", \"wall\", \"want\", \"want\", \"want\", \"want\", \"want\", \"want\", \"waste\", \"waste\", \"water\", \"way\", \"way\", \"way\", \"way\", \"way\", \"way\", \"way\", \"way\", \"way\", \"way\", \"way\", \"weak\", \"wear\", \"wear\", \"weather\", \"week\", \"week\", \"week\", \"week\", \"week\", \"week\", \"week\", \"weekly\", \"weight\", \"well\", \"well\", \"well\", \"well\", \"well\", \"well\", \"well\", \"well\", \"well\", \"well\", \"well\", \"well\", \"well\", \"wife\", \"wii\", \"will\", \"will\", \"will\", \"will\", \"will\", \"will\", \"win\", \"window\", \"window\", \"winter\", \"wireless\", \"wireless\", \"wireless\", \"wish\", \"wish\", \"wish\", \"wonder\", \"wonderful\", \"work\", \"work\", \"work\", \"work\", \"work\", \"work\", \"work\", \"work\", \"work\", \"work\", \"work\", \"work\", \"work\", \"work\", \"work\", \"work\", \"work\", \"work\", \"worry\", \"worry\", \"worth\", \"worth\", \"worth\", \"worth\", \"wow\", \"wrap\", \"wrap\", \"write\", \"write\", \"writing\", \"wrong\", \"wrong\", \"wrong\", \"wrong\", \"wrong\", \"wrong\", \"wrong\", \"wuality\", \"xbox\", \"yay\", \"yeah\", \"year\", \"year\", \"year\", \"year\", \"year\", \"year\", \"year\", \"year\", \"year\", \"year\", \"year\", \"year\", \"yep\", \"yes\", \"yes\", \"yes\", \"young\", \"young\", \"yup\", \"zero\", \"zero\"]}, \"R\": 30, \"lambda.step\": 0.01, \"plot.opts\": {\"xlab\": \"PC1\", \"ylab\": \"PC2\"}, \"topic.order\": [12, 20, 16, 19, 8, 2, 5, 10, 4, 1, 11, 18, 9, 15, 7, 6, 14, 3, 13, 17]};\n",
       "\n",
       "function LDAvis_load_lib(url, callback){\n",
       "  var s = document.createElement('script');\n",
       "  s.src = url;\n",
       "  s.async = true;\n",
       "  s.onreadystatechange = s.onload = callback;\n",
       "  s.onerror = function(){console.warn(\"failed to load library \" + url);};\n",
       "  document.getElementsByTagName(\"head\")[0].appendChild(s);\n",
       "}\n",
       "\n",
       "if(typeof(LDAvis) !== \"undefined\"){\n",
       "   // already loaded: just create the visualization\n",
       "   !function(LDAvis){\n",
       "       new LDAvis(\"#\" + \"ldavis_el1808255263249526624272104\", ldavis_el1808255263249526624272104_data);\n",
       "   }(LDAvis);\n",
       "}else if(typeof define === \"function\" && define.amd){\n",
       "   // require.js is available: use it to load d3/LDAvis\n",
       "   require.config({paths: {d3: \"https://cdnjs.cloudflare.com/ajax/libs/d3/3.5.5/d3.min\"}});\n",
       "   require([\"d3\"], function(d3){\n",
       "      window.d3 = d3;\n",
       "      LDAvis_load_lib(\"https://cdn.rawgit.com/bmabey/pyLDAvis/files/ldavis.v1.0.0.js\", function(){\n",
       "        new LDAvis(\"#\" + \"ldavis_el1808255263249526624272104\", ldavis_el1808255263249526624272104_data);\n",
       "      });\n",
       "    });\n",
       "}else{\n",
       "    // require.js not available: dynamically load d3 & LDAvis\n",
       "    LDAvis_load_lib(\"https://cdnjs.cloudflare.com/ajax/libs/d3/3.5.5/d3.min.js\", function(){\n",
       "         LDAvis_load_lib(\"https://cdn.rawgit.com/bmabey/pyLDAvis/files/ldavis.v1.0.0.js\", function(){\n",
       "                 new LDAvis(\"#\" + \"ldavis_el1808255263249526624272104\", ldavis_el1808255263249526624272104_data);\n",
       "            })\n",
       "         });\n",
       "}\n",
       "</script>"
      ],
      "text/plain": [
       "PreparedData(topic_coordinates=              x         y  topics  cluster      Freq\n",
       "topic                                               \n",
       "11     0.111934  0.046974       1        1  7.944365\n",
       "19     0.135700  0.076321       2        1  7.732167\n",
       "15    -0.015780  0.105314       3        1  7.286799\n",
       "18    -0.262751  0.075560       4        1  7.127840\n",
       "7     -0.191733  0.094507       5        1  6.823373\n",
       "1      0.094084  0.138075       6        1  6.322507\n",
       "4      0.022282  0.085784       7        1  5.661021\n",
       "9     -0.057042  0.092990       8        1  5.652873\n",
       "3      0.116956  0.030840       9        1  5.609003\n",
       "0      0.099969  0.111253      10        1  5.426309\n",
       "10     0.091016 -0.119641      11        1  5.098931\n",
       "17    -0.212480 -0.056795      12        1  4.865420\n",
       "8     -0.271359 -0.107966      13        1  4.409822\n",
       "14     0.116162 -0.049833      14        1  3.285042\n",
       "6      0.000761  0.063276      15        1  3.243507\n",
       "5      0.078237 -0.051898      16        1  3.073979\n",
       "13     0.048020 -0.197882      17        1  2.970174\n",
       "2      0.049374 -0.129771      18        1  2.566140\n",
       "12     0.021993 -0.013326      19        1  2.528278\n",
       "16     0.024658 -0.193782      20        1  2.372449, topic_info=         Term         Freq        Total Category  logprob  loglift\n",
       "34       good  3135.000000  3135.000000  Default  30.0000  30.0000\n",
       "11       work  2557.000000  2557.000000  Default  29.0000  29.0000\n",
       "22      great  3491.000000  3491.000000  Default  28.0000  28.0000\n",
       "19      price  2944.000000  2944.000000  Default  27.0000  27.0000\n",
       "15    product   834.000000   834.000000  Default  26.0000  26.0000\n",
       "..        ...          ...          ...      ...      ...      ...\n",
       "55      power    20.762297   355.709139  Topic20  -4.7747   0.9003\n",
       "39   purchase    17.593371   737.468069  Topic20  -4.9404   0.0055\n",
       "484      sure    15.283927   209.543671  Topic20  -5.0811   1.1231\n",
       "19      price    15.940161  2944.394771  Topic20  -5.0390  -1.4776\n",
       "224       run    14.916311   333.342293  Topic20  -5.1054   0.6345\n",
       "\n",
       "[1169 rows x 6 columns], token_table=      Topic      Freq    Term\n",
       "term                         \n",
       "94       10  0.982716  -PRON-\n",
       "470       1  0.269544       1\n",
       "470       2  0.590430       1\n",
       "470      10  0.102684       1\n",
       "470      18  0.025671       1\n",
       "...     ...       ...     ...\n",
       "1113      3  0.782705   young\n",
       "1113     16  0.180624   young\n",
       "1364     19  0.935703     yup\n",
       "1852     16  0.118082    zero\n",
       "1852     20  0.826574    zero\n",
       "\n",
       "[2541 rows x 3 columns], R=30, lambda_step=0.01, plot_opts={'xlab': 'PC1', 'ylab': 'PC2'}, topic_order=[12, 20, 16, 19, 8, 2, 5, 10, 4, 1, 11, 18, 9, 15, 7, 6, 14, 3, 13, 17])"
      ]
     },
     "execution_count": 31,
     "metadata": {},
     "output_type": "execute_result"
    }
   ],
   "source": [
    "pyLDAvis.enable_notebook()\n",
    "vis = pyLDAvis.gensim.prepare(lda_multicore, corpus, id2word)\n",
    "vis"
   ]
  },
  {
   "cell_type": "code",
   "execution_count": 32,
   "metadata": {},
   "outputs": [
    {
     "name": "stderr",
     "output_type": "stream",
     "text": [
      "/Users/andrewrust/opt/anaconda3/envs/U4-S1-NLP/lib/python3.7/site-packages/ipykernel/ipkernel.py:287: DeprecationWarning: `should_run_async` will not call `transform_cell` automatically in the future. Please pass the result to `transformed_cell` argument and any exception that happen during thetransform in `preprocessing_exc_tuple` in IPython 7.17 and above.\n",
      "  and should_run_async(code)\n"
     ]
    }
   ],
   "source": [
    "def compute_coherence_values(dictionary, corpus, texts, limit, start=2, step=3):\n",
    "    \"\"\"\n",
    "    Compute c_v coherence for various number of topics\n",
    "\n",
    "    Parameters:\n",
    "    ----------\n",
    "    dictionary : Gensim dictionary\n",
    "    corpus : Gensim corpus\n",
    "    texts : List of input texts\n",
    "    limit : Max num of topics\n",
    "\n",
    "    Returns:\n",
    "    -------\n",
    "    model_list : List of LDA topic models\n",
    "    coherence_values : Coherence values corresponding to the LDA model with respective number of topics\n",
    "    \"\"\"\n",
    "    coherence_values = []\n",
    "    model_list = []\n",
    "    for num_topics in range(start, limit, step):\n",
    "        model = gensim.models.ldamulticore.LdaMulticore(corpus=corpus,\n",
    "                                                        id2word=id2word,\n",
    "                                                        num_topics=num_topics, \n",
    "                                                        chunksize=100,\n",
    "                                                        passes=10,\n",
    "                                                        per_word_topics=True,\n",
    "                                                        workers=12)\n",
    "        model_list.append(model)\n",
    "        coherencemodel = CoherenceModel(model=model, texts=texts, dictionary=dictionary, coherence='c_v')\n",
    "        coherence_values.append(coherencemodel.get_coherence())\n",
    "\n",
    "    return model_list, coherence_values"
   ]
  },
  {
   "cell_type": "code",
   "execution_count": null,
   "metadata": {},
   "outputs": [],
   "source": []
  },
  {
   "cell_type": "code",
   "execution_count": null,
   "metadata": {},
   "outputs": [],
   "source": []
  },
  {
   "cell_type": "markdown",
   "metadata": {},
   "source": [
    "## Stretch Goals\n",
    "\n",
    "* Incorporate Named Entity Recognition in your analysis\n",
    "* Incorporate some custom pre-processing from our previous lessons (like spacy lemmatization)\n",
    "* Analyze a dataset of interest to you with topic modeling"
   ]
  }
 ],
 "metadata": {
  "kernelspec": {
   "display_name": "U4-S1-NLP (Python3)",
   "language": "python",
   "name": "u4-s1-nlp"
  },
  "language_info": {
   "codemirror_mode": {
    "name": "ipython",
    "version": 3
   },
   "file_extension": ".py",
   "mimetype": "text/x-python",
   "name": "python",
   "nbconvert_exporter": "python",
   "pygments_lexer": "ipython3",
   "version": "3.7.0"
  }
 },
 "nbformat": 4,
 "nbformat_minor": 2
}
